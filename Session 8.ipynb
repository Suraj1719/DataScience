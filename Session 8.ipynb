{
 "cells": [
  {
   "cell_type": "markdown",
   "id": "cfe75af9",
   "metadata": {},
   "source": [
    "# Initial placeholders"
   ]
  },
  {
   "cell_type": "code",
   "execution_count": 1,
   "id": "9d2ac353",
   "metadata": {},
   "outputs": [],
   "source": [
    "import numpy as nu"
   ]
  },
  {
   "cell_type": "code",
   "execution_count": 3,
   "id": "a00e3dfe",
   "metadata": {},
   "outputs": [
    {
     "data": {
      "text/plain": [
       "array([[1, 2, 3],\n",
       "       [4, 5, 6]])"
      ]
     },
     "execution_count": 3,
     "metadata": {},
     "output_type": "execute_result"
    }
   ],
   "source": [
    "arr=nu.array([[1,2,3],[4,5,6]])\n",
    "arr"
   ]
  },
  {
   "cell_type": "code",
   "execution_count": 4,
   "id": "13c71499",
   "metadata": {},
   "outputs": [
    {
     "data": {
      "text/plain": [
       "(2, 3)"
      ]
     },
     "execution_count": 4,
     "metadata": {},
     "output_type": "execute_result"
    }
   ],
   "source": [
    "arr.shape"
   ]
  },
  {
   "cell_type": "code",
   "execution_count": 5,
   "id": "7e9cbe77",
   "metadata": {},
   "outputs": [
    {
     "data": {
      "text/plain": [
       "6"
      ]
     },
     "execution_count": 5,
     "metadata": {},
     "output_type": "execute_result"
    }
   ],
   "source": [
    "arr.size"
   ]
  },
  {
   "cell_type": "code",
   "execution_count": 6,
   "id": "b65617f4",
   "metadata": {},
   "outputs": [
    {
     "data": {
      "text/plain": [
       "dtype('int32')"
      ]
     },
     "execution_count": 6,
     "metadata": {},
     "output_type": "execute_result"
    }
   ],
   "source": [
    "arr.dtype"
   ]
  },
  {
   "cell_type": "code",
   "execution_count": 7,
   "id": "392e23b3",
   "metadata": {},
   "outputs": [
    {
     "data": {
      "text/plain": [
       "2"
      ]
     },
     "execution_count": 7,
     "metadata": {},
     "output_type": "execute_result"
    }
   ],
   "source": [
    "len(arr)"
   ]
  },
  {
   "cell_type": "markdown",
   "id": "2157d3fd",
   "metadata": {},
   "source": [
    "# ##methodes used \n",
    " 1.zeros()"
   ]
  },
  {
   "cell_type": "code",
   "execution_count": 10,
   "id": "c8ec6f8d",
   "metadata": {},
   "outputs": [
    {
     "data": {
      "text/plain": [
       "array([0., 0., 0., 0.])"
      ]
     },
     "execution_count": 10,
     "metadata": {},
     "output_type": "execute_result"
    }
   ],
   "source": [
    "nu.zeros(4)#gives a array containing the zero value only and gives float value"
   ]
  },
  {
   "cell_type": "code",
   "execution_count": 11,
   "id": "9f0a0a21",
   "metadata": {},
   "outputs": [
    {
     "data": {
      "text/plain": [
       "array([0, 0, 0, 0])"
      ]
     },
     "execution_count": 11,
     "metadata": {},
     "output_type": "execute_result"
    }
   ],
   "source": [
    "nu.zeros(4).astype('int')"
   ]
  },
  {
   "cell_type": "code",
   "execution_count": 13,
   "id": "c515afa4",
   "metadata": {},
   "outputs": [
    {
     "data": {
      "text/plain": [
       "array([[0., 0., 0., 0.],\n",
       "       [0., 0., 0., 0.],\n",
       "       [0., 0., 0., 0.]])"
      ]
     },
     "execution_count": 13,
     "metadata": {},
     "output_type": "execute_result"
    }
   ],
   "source": [
    "nu.zeros([3,4])#gives array of 3 row and 4 col"
   ]
  },
  {
   "cell_type": "code",
   "execution_count": 14,
   "id": "808c3deb",
   "metadata": {},
   "outputs": [
    {
     "data": {
      "text/plain": [
       "array([[0, 0, 0, 0],\n",
       "       [0, 0, 0, 0],\n",
       "       [0, 0, 0, 0]])"
      ]
     },
     "execution_count": 14,
     "metadata": {},
     "output_type": "execute_result"
    }
   ],
   "source": [
    "nu.zeros([3,4]).astype('int')"
   ]
  },
  {
   "cell_type": "code",
   "execution_count": 15,
   "id": "00fcec19",
   "metadata": {},
   "outputs": [
    {
     "data": {
      "text/plain": [
       "array([[[0., 0., 0., 0.],\n",
       "        [0., 0., 0., 0.],\n",
       "        [0., 0., 0., 0.]],\n",
       "\n",
       "       [[0., 0., 0., 0.],\n",
       "        [0., 0., 0., 0.],\n",
       "        [0., 0., 0., 0.]]])"
      ]
     },
     "execution_count": 15,
     "metadata": {},
     "output_type": "execute_result"
    }
   ],
   "source": [
    "nu.zeros([2,3,4])#gives a 2-d array of 3 row and 4 col"
   ]
  },
  {
   "cell_type": "markdown",
   "id": "cd79a180",
   "metadata": {},
   "source": [
    "2.ones()"
   ]
  },
  {
   "cell_type": "code",
   "execution_count": 16,
   "id": "85656980",
   "metadata": {},
   "outputs": [
    {
     "data": {
      "text/plain": [
       "array([1., 1., 1.])"
      ]
     },
     "execution_count": 16,
     "metadata": {},
     "output_type": "execute_result"
    }
   ],
   "source": [
    "nu.ones(3)"
   ]
  },
  {
   "cell_type": "code",
   "execution_count": 17,
   "id": "769c137c",
   "metadata": {},
   "outputs": [
    {
     "data": {
      "text/plain": [
       "array([1, 1, 1])"
      ]
     },
     "execution_count": 17,
     "metadata": {},
     "output_type": "execute_result"
    }
   ],
   "source": [
    "nu.ones(3).astype('int')"
   ]
  },
  {
   "cell_type": "code",
   "execution_count": 18,
   "id": "8f94debc",
   "metadata": {},
   "outputs": [
    {
     "data": {
      "text/plain": [
       "array([[1, 1, 1, 1],\n",
       "       [1, 1, 1, 1],\n",
       "       [1, 1, 1, 1]])"
      ]
     },
     "execution_count": 18,
     "metadata": {},
     "output_type": "execute_result"
    }
   ],
   "source": [
    "nu.ones([3,4]).astype('int')"
   ]
  },
  {
   "cell_type": "code",
   "execution_count": 19,
   "id": "7c99468d",
   "metadata": {},
   "outputs": [
    {
     "data": {
      "text/plain": [
       "array([[[1., 1., 1., 1.],\n",
       "        [1., 1., 1., 1.],\n",
       "        [1., 1., 1., 1.]],\n",
       "\n",
       "       [[1., 1., 1., 1.],\n",
       "        [1., 1., 1., 1.],\n",
       "        [1., 1., 1., 1.]]])"
      ]
     },
     "execution_count": 19,
     "metadata": {},
     "output_type": "execute_result"
    }
   ],
   "source": [
    "nu.ones([2,3,4])"
   ]
  },
  {
   "cell_type": "markdown",
   "id": "e8b2c08c",
   "metadata": {},
   "source": [
    "3.identity matrix"
   ]
  },
  {
   "cell_type": "code",
   "execution_count": 20,
   "id": "5dcee9ee",
   "metadata": {},
   "outputs": [
    {
     "data": {
      "text/plain": [
       "array([[1., 0., 0.],\n",
       "       [0., 1., 0.],\n",
       "       [0., 0., 1.]])"
      ]
     },
     "execution_count": 20,
     "metadata": {},
     "output_type": "execute_result"
    }
   ],
   "source": [
    "nu.eye(3)"
   ]
  },
  {
   "cell_type": "code",
   "execution_count": 21,
   "id": "32c86330",
   "metadata": {},
   "outputs": [
    {
     "data": {
      "text/plain": [
       "array([[1, 0, 0],\n",
       "       [0, 1, 0],\n",
       "       [0, 0, 1]])"
      ]
     },
     "execution_count": 21,
     "metadata": {},
     "output_type": "execute_result"
    }
   ],
   "source": [
    "nu.eye(3).astype('int')"
   ]
  },
  {
   "cell_type": "code",
   "execution_count": 23,
   "id": "2f74e4ca",
   "metadata": {},
   "outputs": [
    {
     "data": {
      "text/plain": [
       "array([[1., 0., 0., 0.],\n",
       "       [0., 1., 0., 0.]])"
      ]
     },
     "execution_count": 23,
     "metadata": {},
     "output_type": "execute_result"
    }
   ],
   "source": [
    "nu.eye(N=2,M=4)#N-no. of row or no. ones contain and M-no.col"
   ]
  },
  {
   "cell_type": "code",
   "execution_count": 25,
   "id": "5995e8fb",
   "metadata": {},
   "outputs": [
    {
     "data": {
      "text/plain": [
       "array([[1, 0, 0, 0],\n",
       "       [0, 1, 0, 0]])"
      ]
     },
     "execution_count": 25,
     "metadata": {},
     "output_type": "execute_result"
    }
   ],
   "source": [
    "nu.eye(N=2,M=4).astype('int')"
   ]
  },
  {
   "cell_type": "code",
   "execution_count": 28,
   "id": "38e3fd72",
   "metadata": {},
   "outputs": [
    {
     "data": {
      "text/plain": [
       "array([[0., 1., 0., 0.],\n",
       "       [0., 0., 1., 0.]])"
      ]
     },
     "execution_count": 28,
     "metadata": {},
     "output_type": "execute_result"
    }
   ],
   "source": [
    "nu.eye(N=2,M=4,k=1)#HERE k-IS THE INDEXPOINT OF STARTING THE ONE VALUE"
   ]
  },
  {
   "cell_type": "code",
   "execution_count": 29,
   "id": "bdcbe29e",
   "metadata": {},
   "outputs": [
    {
     "data": {
      "text/plain": [
       "array([[0., 0., 1., 0.],\n",
       "       [0., 0., 0., 1.]])"
      ]
     },
     "execution_count": 29,
     "metadata": {},
     "output_type": "execute_result"
    }
   ],
   "source": [
    "nu.eye(N=2,M=4,k=2)"
   ]
  },
  {
   "cell_type": "code",
   "execution_count": 30,
   "id": "8b352a94",
   "metadata": {},
   "outputs": [
    {
     "data": {
      "text/plain": [
       "array([[1., 0., 0., 0.],\n",
       "       [0., 1., 0., 0.]])"
      ]
     },
     "execution_count": 30,
     "metadata": {},
     "output_type": "execute_result"
    }
   ],
   "source": [
    "nu.eye(N=2,M=4,k=0)"
   ]
  },
  {
   "cell_type": "markdown",
   "id": "1607bc46",
   "metadata": {},
   "source": [
    "4.arange()"
   ]
  },
  {
   "cell_type": "code",
   "execution_count": 32,
   "id": "d330a902",
   "metadata": {},
   "outputs": [
    {
     "data": {
      "text/plain": [
       "array([ 5,  6,  7,  8,  9, 10])"
      ]
     },
     "execution_count": 32,
     "metadata": {},
     "output_type": "execute_result"
    }
   ],
   "source": [
    "nu.arange(5,11)#here it mention start and end point respectivly"
   ]
  },
  {
   "cell_type": "code",
   "execution_count": 34,
   "id": "2cb16695",
   "metadata": {},
   "outputs": [
    {
     "data": {
      "text/plain": [
       "array([ 5,  6,  7,  8,  9, 10])"
      ]
     },
     "execution_count": 34,
     "metadata": {},
     "output_type": "execute_result"
    }
   ],
   "source": [
    "nu.arange(5,11,1)#1- is the interval"
   ]
  },
  {
   "cell_type": "code",
   "execution_count": 35,
   "id": "31f2d074",
   "metadata": {},
   "outputs": [
    {
     "data": {
      "text/plain": [
       "array([20, 25, 30, 35])"
      ]
     },
     "execution_count": 35,
     "metadata": {},
     "output_type": "execute_result"
    }
   ],
   "source": [
    "nu.arange(20,40,5)"
   ]
  },
  {
   "cell_type": "markdown",
   "id": "80484fbf",
   "metadata": {},
   "source": [
    "5.linspace()"
   ]
  },
  {
   "cell_type": "code",
   "execution_count": 36,
   "id": "5b8f3909",
   "metadata": {},
   "outputs": [
    {
     "data": {
      "text/plain": [
       "array([5.        , 5.02040816, 5.04081633, 5.06122449, 5.08163265,\n",
       "       5.10204082, 5.12244898, 5.14285714, 5.16326531, 5.18367347,\n",
       "       5.20408163, 5.2244898 , 5.24489796, 5.26530612, 5.28571429,\n",
       "       5.30612245, 5.32653061, 5.34693878, 5.36734694, 5.3877551 ,\n",
       "       5.40816327, 5.42857143, 5.44897959, 5.46938776, 5.48979592,\n",
       "       5.51020408, 5.53061224, 5.55102041, 5.57142857, 5.59183673,\n",
       "       5.6122449 , 5.63265306, 5.65306122, 5.67346939, 5.69387755,\n",
       "       5.71428571, 5.73469388, 5.75510204, 5.7755102 , 5.79591837,\n",
       "       5.81632653, 5.83673469, 5.85714286, 5.87755102, 5.89795918,\n",
       "       5.91836735, 5.93877551, 5.95918367, 5.97959184, 6.        ])"
      ]
     },
     "execution_count": 36,
     "metadata": {},
     "output_type": "execute_result"
    }
   ],
   "source": [
    "nu.linspace(start=5,stop=6)#gives 50 value of eqal difference"
   ]
  },
  {
   "cell_type": "code",
   "execution_count": 37,
   "id": "945a118e",
   "metadata": {},
   "outputs": [
    {
     "data": {
      "text/plain": [
       "array([ 10.,  20.,  30.,  40.,  50.,  60.,  70.,  80.,  90., 100.])"
      ]
     },
     "execution_count": 37,
     "metadata": {},
     "output_type": "execute_result"
    }
   ],
   "source": [
    "nu.linspace(10,100,num=10)#num is the numbers of number we want bet. 10 and 100"
   ]
  },
  {
   "cell_type": "code",
   "execution_count": 38,
   "id": "eba44f20",
   "metadata": {},
   "outputs": [
    {
     "data": {
      "text/plain": [
       "(array([ 10.,  20.,  30.,  40.,  50.,  60.,  70.,  80.,  90., 100.]), 10.0)"
      ]
     },
     "execution_count": 38,
     "metadata": {},
     "output_type": "execute_result"
    }
   ],
   "source": [
    "nu.linspace(10,100,num=10,retstep=True)#retstep give the eqaly diff. value of the array"
   ]
  },
  {
   "cell_type": "code",
   "execution_count": 39,
   "id": "00093fc8",
   "metadata": {},
   "outputs": [
    {
     "data": {
      "text/plain": [
       "(array([10., 19., 28., 37., 46., 55., 64., 73., 82., 91.]), 9.0)"
      ]
     },
     "execution_count": 39,
     "metadata": {},
     "output_type": "execute_result"
    }
   ],
   "source": [
    "nu.linspace(10,100,num=10,endpoint=False,retstep=True)#it gives 10 number bet. 10 and 100 difference of 9"
   ]
  },
  {
   "cell_type": "markdown",
   "id": "bc3dd62a",
   "metadata": {},
   "source": [
    "6.full()"
   ]
  },
  {
   "cell_type": "code",
   "execution_count": 41,
   "id": "02447d4e",
   "metadata": {},
   "outputs": [
    {
     "data": {
      "text/plain": [
       "array([5, 5])"
      ]
     },
     "execution_count": 41,
     "metadata": {},
     "output_type": "execute_result"
    }
   ],
   "source": [
    "nu.full(shape=2,fill_value=5)"
   ]
  },
  {
   "cell_type": "code",
   "execution_count": 43,
   "id": "692aca22",
   "metadata": {},
   "outputs": [
    {
     "data": {
      "text/plain": [
       "array([[7, 7],\n",
       "       [7, 7]])"
      ]
     },
     "execution_count": 43,
     "metadata": {},
     "output_type": "execute_result"
    }
   ],
   "source": [
    "nu.full(shape=[2,2],fill_value=7)"
   ]
  },
  {
   "cell_type": "markdown",
   "id": "237b6df6",
   "metadata": {},
   "source": [
    "7.empty()"
   ]
  },
  {
   "cell_type": "code",
   "execution_count": 44,
   "id": "6921f001",
   "metadata": {},
   "outputs": [
    {
     "data": {
      "text/plain": [
       "array([1.20481864e-311, 0.00000000e+000])"
      ]
     },
     "execution_count": 44,
     "metadata": {},
     "output_type": "execute_result"
    }
   ],
   "source": [
    "nu.empty(2)"
   ]
  },
  {
   "cell_type": "code",
   "execution_count": 45,
   "id": "b57eaaeb",
   "metadata": {},
   "outputs": [
    {
     "data": {
      "text/plain": [
       "array([[0., 0., 0.],\n",
       "       [0., 0., 0.]])"
      ]
     },
     "execution_count": 45,
     "metadata": {},
     "output_type": "execute_result"
    }
   ],
   "source": [
    "nu.empty([2,3])"
   ]
  },
  {
   "cell_type": "markdown",
   "id": "00d1e15b",
   "metadata": {},
   "source": [
    "8.random()"
   ]
  },
  {
   "cell_type": "code",
   "execution_count": 46,
   "id": "44e74854",
   "metadata": {},
   "outputs": [
    {
     "data": {
      "text/plain": [
       "2"
      ]
     },
     "execution_count": 46,
     "metadata": {},
     "output_type": "execute_result"
    }
   ],
   "source": [
    "nu.random.randint(2,3)#it gives a integer value between 2 and 3"
   ]
  },
  {
   "cell_type": "code",
   "execution_count": 48,
   "id": "c183fadc",
   "metadata": {},
   "outputs": [
    {
     "data": {
      "text/plain": [
       "1.1781952343817073"
      ]
     },
     "execution_count": 48,
     "metadata": {},
     "output_type": "execute_result"
    }
   ],
   "source": [
    "nu.random.randn()#it gives any standard value"
   ]
  },
  {
   "cell_type": "code",
   "execution_count": 49,
   "id": "acf06b29",
   "metadata": {},
   "outputs": [
    {
     "data": {
      "text/plain": [
       "0.661087104846507"
      ]
     },
     "execution_count": 49,
     "metadata": {},
     "output_type": "execute_result"
    }
   ],
   "source": [
    "nu.random.random()#gives random value between 0 and 1"
   ]
  },
  {
   "cell_type": "markdown",
   "id": "7290b746",
   "metadata": {},
   "source": [
    "# Aggrement function"
   ]
  },
  {
   "cell_type": "code",
   "execution_count": 50,
   "id": "a2ea52ad",
   "metadata": {},
   "outputs": [
    {
     "data": {
      "text/plain": [
       "array([[1, 2, 3],\n",
       "       [4, 5, 6]])"
      ]
     },
     "execution_count": 50,
     "metadata": {},
     "output_type": "execute_result"
    }
   ],
   "source": [
    "arr"
   ]
  },
  {
   "cell_type": "markdown",
   "id": "25ed15b4",
   "metadata": {},
   "source": [
    "1.sum"
   ]
  },
  {
   "cell_type": "code",
   "execution_count": 51,
   "id": "e09212b2",
   "metadata": {},
   "outputs": [
    {
     "data": {
      "text/plain": [
       "array([5, 7, 9])"
      ]
     },
     "execution_count": 51,
     "metadata": {},
     "output_type": "execute_result"
    }
   ],
   "source": [
    "arr.sum(axis=0)#give sum colum,n wise"
   ]
  },
  {
   "cell_type": "code",
   "execution_count": 52,
   "id": "82a4f900",
   "metadata": {},
   "outputs": [
    {
     "data": {
      "text/plain": [
       "array([ 6, 15])"
      ]
     },
     "execution_count": 52,
     "metadata": {},
     "output_type": "execute_result"
    }
   ],
   "source": [
    "arr.sum(axis=1)#gives sum row wise"
   ]
  },
  {
   "cell_type": "code",
   "execution_count": 53,
   "id": "510f1334",
   "metadata": {},
   "outputs": [
    {
     "data": {
      "text/plain": [
       "6"
      ]
     },
     "execution_count": 53,
     "metadata": {},
     "output_type": "execute_result"
    }
   ],
   "source": [
    "arr.sum(axis=1)[0]#sum of row-1"
   ]
  },
  {
   "cell_type": "code",
   "execution_count": 54,
   "id": "370bebd6",
   "metadata": {},
   "outputs": [
    {
     "data": {
      "text/plain": [
       "15"
      ]
     },
     "execution_count": 54,
     "metadata": {},
     "output_type": "execute_result"
    }
   ],
   "source": [
    "arr.sum(axis=1)[1]"
   ]
  },
  {
   "cell_type": "code",
   "execution_count": 55,
   "id": "e606a04c",
   "metadata": {},
   "outputs": [
    {
     "data": {
      "text/plain": [
       "5"
      ]
     },
     "execution_count": 55,
     "metadata": {},
     "output_type": "execute_result"
    }
   ],
   "source": [
    "arr.sum(axis=0)[0]"
   ]
  },
  {
   "cell_type": "code",
   "execution_count": 56,
   "id": "03895456",
   "metadata": {},
   "outputs": [
    {
     "data": {
      "text/plain": [
       "7"
      ]
     },
     "execution_count": 56,
     "metadata": {},
     "output_type": "execute_result"
    }
   ],
   "source": [
    "arr.sum(axis=0)[1]"
   ]
  },
  {
   "cell_type": "markdown",
   "id": "01b77959",
   "metadata": {},
   "source": [
    "2.mean"
   ]
  },
  {
   "cell_type": "code",
   "execution_count": 57,
   "id": "516c43f6",
   "metadata": {},
   "outputs": [
    {
     "data": {
      "text/plain": [
       "3.5"
      ]
     },
     "execution_count": 57,
     "metadata": {},
     "output_type": "execute_result"
    }
   ],
   "source": [
    "arr.mean()"
   ]
  },
  {
   "cell_type": "code",
   "execution_count": 58,
   "id": "4b49087c",
   "metadata": {},
   "outputs": [
    {
     "data": {
      "text/plain": [
       "array([2.5, 3.5, 4.5])"
      ]
     },
     "execution_count": 58,
     "metadata": {},
     "output_type": "execute_result"
    }
   ],
   "source": [
    "arr.mean(axis=0)"
   ]
  },
  {
   "cell_type": "code",
   "execution_count": 59,
   "id": "258e7f65",
   "metadata": {},
   "outputs": [
    {
     "data": {
      "text/plain": [
       "array([2., 5.])"
      ]
     },
     "execution_count": 59,
     "metadata": {},
     "output_type": "execute_result"
    }
   ],
   "source": [
    "arr.mean(axis=1)"
   ]
  },
  {
   "cell_type": "markdown",
   "id": "d41defcc",
   "metadata": {},
   "source": [
    "3.mode()"
   ]
  },
  {
   "cell_type": "code",
   "execution_count": 60,
   "id": "18339a1b",
   "metadata": {},
   "outputs": [
    {
     "data": {
      "text/plain": [
       "ModeResult(mode=array([[1, 2, 3]]), count=array([[1, 1, 1]]))"
      ]
     },
     "execution_count": 60,
     "metadata": {},
     "output_type": "execute_result"
    }
   ],
   "source": [
    "from scipy import stats\n",
    "stats.mode(arr)"
   ]
  },
  {
   "cell_type": "markdown",
   "id": "3fc731ee",
   "metadata": {},
   "source": [
    "4.median"
   ]
  },
  {
   "cell_type": "code",
   "execution_count": 62,
   "id": "75a5cc8b",
   "metadata": {},
   "outputs": [
    {
     "data": {
      "text/plain": [
       "3.5"
      ]
     },
     "execution_count": 62,
     "metadata": {},
     "output_type": "execute_result"
    }
   ],
   "source": [
    "nu.median(arr)"
   ]
  },
  {
   "cell_type": "markdown",
   "id": "7beb9af3",
   "metadata": {},
   "source": [
    "# min max"
   ]
  },
  {
   "cell_type": "code",
   "execution_count": 63,
   "id": "9a6e54de",
   "metadata": {},
   "outputs": [
    {
     "data": {
      "text/plain": [
       "array([[1, 2, 3],\n",
       "       [4, 5, 6]])"
      ]
     },
     "execution_count": 63,
     "metadata": {},
     "output_type": "execute_result"
    }
   ],
   "source": [
    "arr"
   ]
  },
  {
   "cell_type": "code",
   "execution_count": 65,
   "id": "6d1af742",
   "metadata": {},
   "outputs": [
    {
     "data": {
      "text/plain": [
       "6"
      ]
     },
     "execution_count": 65,
     "metadata": {},
     "output_type": "execute_result"
    }
   ],
   "source": [
    "arr.max()"
   ]
  },
  {
   "cell_type": "code",
   "execution_count": 66,
   "id": "5e3bbbbc",
   "metadata": {},
   "outputs": [
    {
     "data": {
      "text/plain": [
       "array([4, 5, 6])"
      ]
     },
     "execution_count": 66,
     "metadata": {},
     "output_type": "execute_result"
    }
   ],
   "source": [
    "arr.max(axis=0)"
   ]
  },
  {
   "cell_type": "code",
   "execution_count": 67,
   "id": "86cd81aa",
   "metadata": {},
   "outputs": [
    {
     "data": {
      "text/plain": [
       "array([3, 6])"
      ]
     },
     "execution_count": 67,
     "metadata": {},
     "output_type": "execute_result"
    }
   ],
   "source": [
    "arr.max(axis=1)"
   ]
  },
  {
   "cell_type": "code",
   "execution_count": 68,
   "id": "5f37ba07",
   "metadata": {},
   "outputs": [
    {
     "data": {
      "text/plain": [
       "1"
      ]
     },
     "execution_count": 68,
     "metadata": {},
     "output_type": "execute_result"
    }
   ],
   "source": [
    "arr.min()"
   ]
  },
  {
   "cell_type": "code",
   "execution_count": 69,
   "id": "cc40f80f",
   "metadata": {},
   "outputs": [
    {
     "data": {
      "text/plain": [
       "array([1, 2, 3])"
      ]
     },
     "execution_count": 69,
     "metadata": {},
     "output_type": "execute_result"
    }
   ],
   "source": [
    "arr.min(axis=0)"
   ]
  },
  {
   "cell_type": "markdown",
   "id": "a5890fa2",
   "metadata": {},
   "source": [
    "# cumulative sum(cumsum)"
   ]
  },
  {
   "cell_type": "code",
   "execution_count": 70,
   "id": "3dd2c25c",
   "metadata": {},
   "outputs": [
    {
     "data": {
      "text/plain": [
       "array([[1, 2, 3],\n",
       "       [4, 5, 6]])"
      ]
     },
     "execution_count": 70,
     "metadata": {},
     "output_type": "execute_result"
    }
   ],
   "source": [
    "arr"
   ]
  },
  {
   "cell_type": "code",
   "execution_count": 71,
   "id": "4f8ec8a9",
   "metadata": {},
   "outputs": [
    {
     "data": {
      "text/plain": [
       "array([ 1,  3,  6, 10, 15, 21], dtype=int32)"
      ]
     },
     "execution_count": 71,
     "metadata": {},
     "output_type": "execute_result"
    }
   ],
   "source": [
    "arr.cumsum()#1,1+2,3+3...."
   ]
  },
  {
   "cell_type": "markdown",
   "id": "7df77bad",
   "metadata": {},
   "source": [
    "standard deviation(std())"
   ]
  },
  {
   "cell_type": "code",
   "execution_count": 73,
   "id": "66d5af1b",
   "metadata": {},
   "outputs": [
    {
     "data": {
      "text/plain": [
       "1.707825127659933"
      ]
     },
     "execution_count": 73,
     "metadata": {},
     "output_type": "execute_result"
    }
   ],
   "source": [
    "arr.std()"
   ]
  },
  {
   "cell_type": "markdown",
   "id": "4f2d42d5",
   "metadata": {},
   "source": [
    "# comparision"
   ]
  },
  {
   "cell_type": "code",
   "execution_count": 74,
   "id": "9aaeaabc",
   "metadata": {},
   "outputs": [
    {
     "data": {
      "text/plain": [
       "array([[  2,   3, -90],\n",
       "       [-40,   5, -45]])"
      ]
     },
     "execution_count": 74,
     "metadata": {},
     "output_type": "execute_result"
    }
   ],
   "source": [
    "arr1=nu.array([[2,3,-90],[-40,5,-45]])\n",
    "arr1"
   ]
  },
  {
   "cell_type": "code",
   "execution_count": 75,
   "id": "00df52fc",
   "metadata": {},
   "outputs": [
    {
     "data": {
      "text/plain": [
       "array([[False, False,  True],\n",
       "       [ True, False,  True]])"
      ]
     },
     "execution_count": 75,
     "metadata": {},
     "output_type": "execute_result"
    }
   ],
   "source": [
    "arr>arr1#element wise coparision"
   ]
  },
  {
   "cell_type": "code",
   "execution_count": 76,
   "id": "3e22b559",
   "metadata": {},
   "outputs": [
    {
     "data": {
      "text/plain": [
       "array([[ True,  True, False],\n",
       "       [False, False, False]])"
      ]
     },
     "execution_count": 76,
     "metadata": {},
     "output_type": "execute_result"
    }
   ],
   "source": [
    "arr<3"
   ]
  },
  {
   "cell_type": "code",
   "execution_count": 77,
   "id": "d5a92870",
   "metadata": {},
   "outputs": [
    {
     "data": {
      "text/plain": [
       "False"
      ]
     },
     "execution_count": 77,
     "metadata": {},
     "output_type": "execute_result"
    }
   ],
   "source": [
    "nu.array_equal(arr,arr1)#array wise comparision"
   ]
  },
  {
   "cell_type": "markdown",
   "id": "aadc3438",
   "metadata": {},
   "source": [
    "# sorting of array "
   ]
  },
  {
   "cell_type": "code",
   "execution_count": 78,
   "id": "f98afe8c",
   "metadata": {},
   "outputs": [],
   "source": [
    "#column wise sorting i.e. small value element at 1st pos.\n",
    "arr1.sort(axis=0)"
   ]
  },
  {
   "cell_type": "code",
   "execution_count": 79,
   "id": "1b98c977",
   "metadata": {},
   "outputs": [
    {
     "data": {
      "text/plain": [
       "array([[-40,   3, -90],\n",
       "       [  2,   5, -45]])"
      ]
     },
     "execution_count": 79,
     "metadata": {},
     "output_type": "execute_result"
    }
   ],
   "source": [
    "arr1"
   ]
  },
  {
   "cell_type": "code",
   "execution_count": 82,
   "id": "9358bfcf",
   "metadata": {},
   "outputs": [],
   "source": [
    "#row wise\n",
    "arr1.sort(axis=1)"
   ]
  },
  {
   "cell_type": "code",
   "execution_count": 83,
   "id": "9f96441d",
   "metadata": {},
   "outputs": [
    {
     "data": {
      "text/plain": [
       "array([[-90, -40,   3],\n",
       "       [-45,   2,   5]])"
      ]
     },
     "execution_count": 83,
     "metadata": {},
     "output_type": "execute_result"
    }
   ],
   "source": [
    "arr1"
   ]
  },
  {
   "cell_type": "code",
   "execution_count": 85,
   "id": "b9e8cfe6",
   "metadata": {},
   "outputs": [
    {
     "data": {
      "text/plain": [
       "array([[1, 2, 3],\n",
       "       [4, 5, 6]])"
      ]
     },
     "execution_count": 85,
     "metadata": {},
     "output_type": "execute_result"
    }
   ],
   "source": [
    "#whole array is aort\n",
    "arr.sort()\n",
    "arr"
   ]
  },
  {
   "cell_type": "code",
   "execution_count": 86,
   "id": "ad5491f6",
   "metadata": {},
   "outputs": [
    {
     "data": {
      "text/plain": [
       "array([[-90, -40,   3],\n",
       "       [-45,   2,   5]])"
      ]
     },
     "execution_count": 86,
     "metadata": {},
     "output_type": "execute_result"
    }
   ],
   "source": [
    "arr1.sort()\n",
    "arr1"
   ]
  },
  {
   "cell_type": "markdown",
   "id": "f9ed3428",
   "metadata": {},
   "source": [
    "# copy()"
   ]
  },
  {
   "cell_type": "code",
   "execution_count": 87,
   "id": "365058bb",
   "metadata": {},
   "outputs": [],
   "source": [
    "arc=arr.copy()"
   ]
  },
  {
   "cell_type": "code",
   "execution_count": 88,
   "id": "2bcc3cbc",
   "metadata": {},
   "outputs": [
    {
     "data": {
      "text/plain": [
       "array([[1, 2, 3],\n",
       "       [4, 5, 6]])"
      ]
     },
     "execution_count": 88,
     "metadata": {},
     "output_type": "execute_result"
    }
   ],
   "source": [
    "arc"
   ]
  },
  {
   "cell_type": "code",
   "execution_count": 89,
   "id": "c2ddbe51",
   "metadata": {},
   "outputs": [],
   "source": [
    "arc[0]=5"
   ]
  },
  {
   "cell_type": "code",
   "execution_count": 90,
   "id": "a6417cd1",
   "metadata": {},
   "outputs": [
    {
     "data": {
      "text/plain": [
       "array([[5, 5, 5],\n",
       "       [4, 5, 6]])"
      ]
     },
     "execution_count": 90,
     "metadata": {},
     "output_type": "execute_result"
    }
   ],
   "source": [
    "arc"
   ]
  },
  {
   "cell_type": "code",
   "execution_count": 93,
   "id": "41b660ca",
   "metadata": {},
   "outputs": [],
   "source": [
    "arc[0][2]=95"
   ]
  },
  {
   "cell_type": "code",
   "execution_count": 94,
   "id": "91bf4e3a",
   "metadata": {},
   "outputs": [
    {
     "data": {
      "text/plain": [
       "array([[ 5,  5, 95],\n",
       "       [ 4,  5,  6]])"
      ]
     },
     "execution_count": 94,
     "metadata": {},
     "output_type": "execute_result"
    }
   ],
   "source": [
    "arc"
   ]
  },
  {
   "cell_type": "code",
   "execution_count": 95,
   "id": "18fb91b6",
   "metadata": {},
   "outputs": [
    {
     "data": {
      "text/plain": [
       "array([[1, 2, 3],\n",
       "       [4, 5, 6]])"
      ]
     },
     "execution_count": 95,
     "metadata": {},
     "output_type": "execute_result"
    }
   ],
   "source": [
    "arr#here no main array element should not change"
   ]
  },
  {
   "cell_type": "markdown",
   "id": "cdbd40e8",
   "metadata": {},
   "source": [
    "# view()"
   ]
  },
  {
   "cell_type": "code",
   "execution_count": 96,
   "id": "29054147",
   "metadata": {},
   "outputs": [
    {
     "data": {
      "text/plain": [
       "array([[1, 2, 3],\n",
       "       [4, 5, 6]])"
      ]
     },
     "execution_count": 96,
     "metadata": {},
     "output_type": "execute_result"
    }
   ],
   "source": [
    "arr"
   ]
  },
  {
   "cell_type": "code",
   "execution_count": 97,
   "id": "ec20829c",
   "metadata": {},
   "outputs": [],
   "source": [
    "arv=arr.view()"
   ]
  },
  {
   "cell_type": "code",
   "execution_count": 98,
   "id": "7bd9a4a9",
   "metadata": {},
   "outputs": [
    {
     "data": {
      "text/plain": [
       "array([[1, 2, 3],\n",
       "       [4, 5, 6]])"
      ]
     },
     "execution_count": 98,
     "metadata": {},
     "output_type": "execute_result"
    }
   ],
   "source": [
    "arv"
   ]
  },
  {
   "cell_type": "code",
   "execution_count": 99,
   "id": "11df7b5c",
   "metadata": {},
   "outputs": [],
   "source": [
    "arv[0][2]=95"
   ]
  },
  {
   "cell_type": "code",
   "execution_count": 100,
   "id": "2e158334",
   "metadata": {},
   "outputs": [
    {
     "data": {
      "text/plain": [
       "array([[ 1,  2, 95],\n",
       "       [ 4,  5,  6]])"
      ]
     },
     "execution_count": 100,
     "metadata": {},
     "output_type": "execute_result"
    }
   ],
   "source": [
    "arv"
   ]
  },
  {
   "cell_type": "code",
   "execution_count": 101,
   "id": "735daf8f",
   "metadata": {},
   "outputs": [
    {
     "data": {
      "text/plain": [
       "array([[ 1,  2, 95],\n",
       "       [ 4,  5,  6]])"
      ]
     },
     "execution_count": 101,
     "metadata": {},
     "output_type": "execute_result"
    }
   ],
   "source": [
    "arr#but here original array element changed as arv element changed"
   ]
  },
  {
   "cell_type": "code",
   "execution_count": null,
   "id": "18e8a497",
   "metadata": {},
   "outputs": [],
   "source": []
  }
 ],
 "metadata": {
  "kernelspec": {
   "display_name": "Python 3 (ipykernel)",
   "language": "python",
   "name": "python3"
  },
  "language_info": {
   "codemirror_mode": {
    "name": "ipython",
    "version": 3
   },
   "file_extension": ".py",
   "mimetype": "text/x-python",
   "name": "python",
   "nbconvert_exporter": "python",
   "pygments_lexer": "ipython3",
   "version": "3.10.1"
  }
 },
 "nbformat": 4,
 "nbformat_minor": 5
}
