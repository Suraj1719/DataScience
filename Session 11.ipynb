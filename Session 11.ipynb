{
 "cells": [
  {
   "cell_type": "code",
   "execution_count": 1,
   "id": "b13ef9b3",
   "metadata": {},
   "outputs": [],
   "source": [
    "import numpy as np\n",
    "import pandas as pd"
   ]
  },
  {
   "cell_type": "code",
   "execution_count": 2,
   "id": "ae9bb6c1",
   "metadata": {},
   "outputs": [
    {
     "data": {
      "text/plain": [
       "0    0.799591\n",
       "1    2.037845\n",
       "2    1.667169\n",
       "3   -0.604162\n",
       "4    0.074750\n",
       "dtype: float64"
      ]
     },
     "execution_count": 2,
     "metadata": {},
     "output_type": "execute_result"
    }
   ],
   "source": [
    "sr1=pd.Series(np.random.randn(5))# here 5 is number of row\n",
    "sr1"
   ]
  },
  {
   "cell_type": "code",
   "execution_count": 3,
   "id": "a9f108ae",
   "metadata": {},
   "outputs": [
    {
     "data": {
      "text/plain": [
       "0    0.799591\n",
       "1    2.037845\n",
       "2    1.667169\n",
       "3   -0.604162\n",
       "4    0.074750\n",
       "Name: sample, dtype: float64"
      ]
     },
     "execution_count": 3,
     "metadata": {},
     "output_type": "execute_result"
    }
   ],
   "source": [
    "sr1.name ='sample'\n",
    "sr1"
   ]
  },
  {
   "cell_type": "code",
   "execution_count": 4,
   "id": "9a130726",
   "metadata": {},
   "outputs": [
    {
     "data": {
      "text/plain": [
       "5"
      ]
     },
     "execution_count": 4,
     "metadata": {},
     "output_type": "execute_result"
    }
   ],
   "source": [
    "sr1.size"
   ]
  },
  {
   "cell_type": "code",
   "execution_count": 5,
   "id": "8fe0f128",
   "metadata": {},
   "outputs": [
    {
     "data": {
      "text/plain": [
       "(5,)"
      ]
     },
     "execution_count": 5,
     "metadata": {},
     "output_type": "execute_result"
    }
   ],
   "source": [
    "sr1.shape"
   ]
  },
  {
   "cell_type": "code",
   "execution_count": 7,
   "id": "df3cf849",
   "metadata": {},
   "outputs": [
    {
     "data": {
      "text/html": [
       "<div>\n",
       "<style scoped>\n",
       "    .dataframe tbody tr th:only-of-type {\n",
       "        vertical-align: middle;\n",
       "    }\n",
       "\n",
       "    .dataframe tbody tr th {\n",
       "        vertical-align: top;\n",
       "    }\n",
       "\n",
       "    .dataframe thead th {\n",
       "        text-align: right;\n",
       "    }\n",
       "</style>\n",
       "<table border=\"1\" class=\"dataframe\">\n",
       "  <thead>\n",
       "    <tr style=\"text-align: right;\">\n",
       "      <th></th>\n",
       "      <th>A</th>\n",
       "      <th>B</th>\n",
       "      <th>C</th>\n",
       "      <th>D</th>\n",
       "      <th>E</th>\n",
       "    </tr>\n",
       "  </thead>\n",
       "  <tbody>\n",
       "    <tr>\n",
       "      <th>0</th>\n",
       "      <td>0.769332</td>\n",
       "      <td>0.250550</td>\n",
       "      <td>-0.520688</td>\n",
       "      <td>0.584825</td>\n",
       "      <td>0.250885</td>\n",
       "    </tr>\n",
       "    <tr>\n",
       "      <th>1</th>\n",
       "      <td>0.800346</td>\n",
       "      <td>-0.667962</td>\n",
       "      <td>-1.431938</td>\n",
       "      <td>0.150920</td>\n",
       "      <td>0.272655</td>\n",
       "    </tr>\n",
       "    <tr>\n",
       "      <th>2</th>\n",
       "      <td>-0.286170</td>\n",
       "      <td>0.657382</td>\n",
       "      <td>0.113328</td>\n",
       "      <td>-1.307611</td>\n",
       "      <td>1.185078</td>\n",
       "    </tr>\n",
       "    <tr>\n",
       "      <th>3</th>\n",
       "      <td>-2.012262</td>\n",
       "      <td>-0.220553</td>\n",
       "      <td>0.352311</td>\n",
       "      <td>0.163268</td>\n",
       "      <td>0.549059</td>\n",
       "    </tr>\n",
       "  </tbody>\n",
       "</table>\n",
       "</div>"
      ],
      "text/plain": [
       "          A         B         C         D         E\n",
       "0  0.769332  0.250550 -0.520688  0.584825  0.250885\n",
       "1  0.800346 -0.667962 -1.431938  0.150920  0.272655\n",
       "2 -0.286170  0.657382  0.113328 -1.307611  1.185078\n",
       "3 -2.012262 -0.220553  0.352311  0.163268  0.549059"
      ]
     },
     "execution_count": 7,
     "metadata": {},
     "output_type": "execute_result"
    }
   ],
   "source": [
    "#Data Frames\n",
    "df=pd.DataFrame(data=np.random.randn(4,5),columns=['A','B','C','D','E'])\n",
    "df"
   ]
  },
  {
   "cell_type": "code",
   "execution_count": 8,
   "id": "3a3ba0b0",
   "metadata": {},
   "outputs": [
    {
     "data": {
      "text/plain": [
       "RangeIndex(start=0, stop=4, step=1)"
      ]
     },
     "execution_count": 8,
     "metadata": {},
     "output_type": "execute_result"
    }
   ],
   "source": [
    "df.index"
   ]
  },
  {
   "cell_type": "code",
   "execution_count": 9,
   "id": "1bc9a319",
   "metadata": {},
   "outputs": [
    {
     "name": "stdout",
     "output_type": "stream",
     "text": [
      "<class 'pandas.core.frame.DataFrame'>\n",
      "RangeIndex: 4 entries, 0 to 3\n",
      "Data columns (total 5 columns):\n",
      " #   Column  Non-Null Count  Dtype  \n",
      "---  ------  --------------  -----  \n",
      " 0   A       4 non-null      float64\n",
      " 1   B       4 non-null      float64\n",
      " 2   C       4 non-null      float64\n",
      " 3   D       4 non-null      float64\n",
      " 4   E       4 non-null      float64\n",
      "dtypes: float64(5)\n",
      "memory usage: 288.0 bytes\n"
     ]
    }
   ],
   "source": [
    "df.info()"
   ]
  },
  {
   "cell_type": "code",
   "execution_count": 10,
   "id": "2314d811",
   "metadata": {},
   "outputs": [
    {
     "data": {
      "text/plain": [
       "<bound method DataFrame.info of           A         B         C         D         E\n",
       "0  0.769332  0.250550 -0.520688  0.584825  0.250885\n",
       "1  0.800346 -0.667962 -1.431938  0.150920  0.272655\n",
       "2 -0.286170  0.657382  0.113328 -1.307611  1.185078\n",
       "3 -2.012262 -0.220553  0.352311  0.163268  0.549059>"
      ]
     },
     "execution_count": 10,
     "metadata": {},
     "output_type": "execute_result"
    }
   ],
   "source": [
    "df.info"
   ]
  },
  {
   "cell_type": "code",
   "execution_count": 11,
   "id": "8067123a",
   "metadata": {},
   "outputs": [
    {
     "data": {
      "text/plain": [
       "0"
      ]
     },
     "execution_count": 11,
     "metadata": {},
     "output_type": "execute_result"
    }
   ],
   "source": [
    "df.index.start"
   ]
  },
  {
   "cell_type": "code",
   "execution_count": 12,
   "id": "b72f3428",
   "metadata": {},
   "outputs": [
    {
     "data": {
      "text/plain": [
       "4"
      ]
     },
     "execution_count": 12,
     "metadata": {},
     "output_type": "execute_result"
    }
   ],
   "source": [
    "df.index.stop"
   ]
  },
  {
   "cell_type": "code",
   "execution_count": 13,
   "id": "759e8444",
   "metadata": {},
   "outputs": [
    {
     "data": {
      "text/plain": [
       "Index    128\n",
       "A         32\n",
       "B         32\n",
       "C         32\n",
       "D         32\n",
       "E         32\n",
       "dtype: int64"
      ]
     },
     "execution_count": 13,
     "metadata": {},
     "output_type": "execute_result"
    }
   ],
   "source": [
    "df.memory_usage()"
   ]
  },
  {
   "cell_type": "code",
   "execution_count": 14,
   "id": "9ca96e76",
   "metadata": {},
   "outputs": [
    {
     "data": {
      "text/plain": [
       "288"
      ]
     },
     "execution_count": 14,
     "metadata": {},
     "output_type": "execute_result"
    }
   ],
   "source": [
    "32*5 +128"
   ]
  },
  {
   "cell_type": "code",
   "execution_count": 16,
   "id": "587c959b",
   "metadata": {},
   "outputs": [
    {
     "data": {
      "text/plain": [
       "A    32\n",
       "B    32\n",
       "C    32\n",
       "D    32\n",
       "E    32\n",
       "dtype: int64"
      ]
     },
     "execution_count": 16,
     "metadata": {},
     "output_type": "execute_result"
    }
   ],
   "source": [
    "df.memory_usage(index=False)"
   ]
  },
  {
   "cell_type": "code",
   "execution_count": 17,
   "id": "76eb643f",
   "metadata": {},
   "outputs": [
    {
     "data": {
      "text/plain": [
       "Index    128\n",
       "A         32\n",
       "B         32\n",
       "C         32\n",
       "D         32\n",
       "E         32\n",
       "dtype: int64"
      ]
     },
     "execution_count": 17,
     "metadata": {},
     "output_type": "execute_result"
    }
   ],
   "source": [
    "df.memory_usage(index=True)"
   ]
  },
  {
   "cell_type": "code",
   "execution_count": 18,
   "id": "05fcf56b",
   "metadata": {},
   "outputs": [
    {
     "data": {
      "text/html": [
       "<div>\n",
       "<style scoped>\n",
       "    .dataframe tbody tr th:only-of-type {\n",
       "        vertical-align: middle;\n",
       "    }\n",
       "\n",
       "    .dataframe tbody tr th {\n",
       "        vertical-align: top;\n",
       "    }\n",
       "\n",
       "    .dataframe thead th {\n",
       "        text-align: right;\n",
       "    }\n",
       "</style>\n",
       "<table border=\"1\" class=\"dataframe\">\n",
       "  <thead>\n",
       "    <tr style=\"text-align: right;\">\n",
       "      <th></th>\n",
       "      <th>A</th>\n",
       "      <th>B</th>\n",
       "      <th>C</th>\n",
       "      <th>D</th>\n",
       "      <th>E</th>\n",
       "    </tr>\n",
       "  </thead>\n",
       "  <tbody>\n",
       "    <tr>\n",
       "      <th>0</th>\n",
       "      <td>0.769332</td>\n",
       "      <td>0.250550</td>\n",
       "      <td>-0.520688</td>\n",
       "      <td>0.584825</td>\n",
       "      <td>0.250885</td>\n",
       "    </tr>\n",
       "    <tr>\n",
       "      <th>1</th>\n",
       "      <td>0.800346</td>\n",
       "      <td>-0.667962</td>\n",
       "      <td>-1.431938</td>\n",
       "      <td>0.150920</td>\n",
       "      <td>0.272655</td>\n",
       "    </tr>\n",
       "    <tr>\n",
       "      <th>2</th>\n",
       "      <td>-0.286170</td>\n",
       "      <td>0.657382</td>\n",
       "      <td>0.113328</td>\n",
       "      <td>-1.307611</td>\n",
       "      <td>1.185078</td>\n",
       "    </tr>\n",
       "    <tr>\n",
       "      <th>3</th>\n",
       "      <td>-2.012262</td>\n",
       "      <td>-0.220553</td>\n",
       "      <td>0.352311</td>\n",
       "      <td>0.163268</td>\n",
       "      <td>0.549059</td>\n",
       "    </tr>\n",
       "  </tbody>\n",
       "</table>\n",
       "</div>"
      ],
      "text/plain": [
       "          A         B         C         D         E\n",
       "0  0.769332  0.250550 -0.520688  0.584825  0.250885\n",
       "1  0.800346 -0.667962 -1.431938  0.150920  0.272655\n",
       "2 -0.286170  0.657382  0.113328 -1.307611  1.185078\n",
       "3 -2.012262 -0.220553  0.352311  0.163268  0.549059"
      ]
     },
     "execution_count": 18,
     "metadata": {},
     "output_type": "execute_result"
    }
   ],
   "source": [
    "df"
   ]
  },
  {
   "cell_type": "code",
   "execution_count": 19,
   "id": "63f1f030",
   "metadata": {},
   "outputs": [
    {
     "data": {
      "text/html": [
       "<div>\n",
       "<style scoped>\n",
       "    .dataframe tbody tr th:only-of-type {\n",
       "        vertical-align: middle;\n",
       "    }\n",
       "\n",
       "    .dataframe tbody tr th {\n",
       "        vertical-align: top;\n",
       "    }\n",
       "\n",
       "    .dataframe thead th {\n",
       "        text-align: right;\n",
       "    }\n",
       "</style>\n",
       "<table border=\"1\" class=\"dataframe\">\n",
       "  <thead>\n",
       "    <tr style=\"text-align: right;\">\n",
       "      <th></th>\n",
       "      <th>A</th>\n",
       "      <th>B</th>\n",
       "      <th>C</th>\n",
       "      <th>D</th>\n",
       "      <th>E</th>\n",
       "    </tr>\n",
       "    <tr>\n",
       "      <th>SL.NO.</th>\n",
       "      <th></th>\n",
       "      <th></th>\n",
       "      <th></th>\n",
       "      <th></th>\n",
       "      <th></th>\n",
       "    </tr>\n",
       "  </thead>\n",
       "  <tbody>\n",
       "    <tr>\n",
       "      <th>0</th>\n",
       "      <td>0.769332</td>\n",
       "      <td>0.250550</td>\n",
       "      <td>-0.520688</td>\n",
       "      <td>0.584825</td>\n",
       "      <td>0.250885</td>\n",
       "    </tr>\n",
       "    <tr>\n",
       "      <th>1</th>\n",
       "      <td>0.800346</td>\n",
       "      <td>-0.667962</td>\n",
       "      <td>-1.431938</td>\n",
       "      <td>0.150920</td>\n",
       "      <td>0.272655</td>\n",
       "    </tr>\n",
       "    <tr>\n",
       "      <th>2</th>\n",
       "      <td>-0.286170</td>\n",
       "      <td>0.657382</td>\n",
       "      <td>0.113328</td>\n",
       "      <td>-1.307611</td>\n",
       "      <td>1.185078</td>\n",
       "    </tr>\n",
       "    <tr>\n",
       "      <th>3</th>\n",
       "      <td>-2.012262</td>\n",
       "      <td>-0.220553</td>\n",
       "      <td>0.352311</td>\n",
       "      <td>0.163268</td>\n",
       "      <td>0.549059</td>\n",
       "    </tr>\n",
       "  </tbody>\n",
       "</table>\n",
       "</div>"
      ],
      "text/plain": [
       "               A         B         C         D         E\n",
       "SL.NO.                                                  \n",
       "0       0.769332  0.250550 -0.520688  0.584825  0.250885\n",
       "1       0.800346 -0.667962 -1.431938  0.150920  0.272655\n",
       "2      -0.286170  0.657382  0.113328 -1.307611  1.185078\n",
       "3      -2.012262 -0.220553  0.352311  0.163268  0.549059"
      ]
     },
     "execution_count": 19,
     "metadata": {},
     "output_type": "execute_result"
    }
   ],
   "source": [
    "df.index.name='SL.NO.'# if you want to name the index col. name\n",
    "df"
   ]
  },
  {
   "cell_type": "code",
   "execution_count": 21,
   "id": "f6217da2",
   "metadata": {},
   "outputs": [
    {
     "data": {
      "text/plain": [
       "'SL.NO.'"
      ]
     },
     "execution_count": 21,
     "metadata": {},
     "output_type": "execute_result"
    }
   ],
   "source": [
    "df.index.name# you want to call the index name"
   ]
  },
  {
   "cell_type": "code",
   "execution_count": 22,
   "id": "bac89833",
   "metadata": {},
   "outputs": [
    {
     "data": {
      "text/html": [
       "<div>\n",
       "<style scoped>\n",
       "    .dataframe tbody tr th:only-of-type {\n",
       "        vertical-align: middle;\n",
       "    }\n",
       "\n",
       "    .dataframe tbody tr th {\n",
       "        vertical-align: top;\n",
       "    }\n",
       "\n",
       "    .dataframe thead th {\n",
       "        text-align: right;\n",
       "    }\n",
       "</style>\n",
       "<table border=\"1\" class=\"dataframe\">\n",
       "  <thead>\n",
       "    <tr style=\"text-align: right;\">\n",
       "      <th></th>\n",
       "      <th>A</th>\n",
       "      <th>B</th>\n",
       "      <th>C</th>\n",
       "      <th>D</th>\n",
       "      <th>E</th>\n",
       "    </tr>\n",
       "  </thead>\n",
       "  <tbody>\n",
       "    <tr>\n",
       "      <th>row1</th>\n",
       "      <td>0.769332</td>\n",
       "      <td>0.250550</td>\n",
       "      <td>-0.520688</td>\n",
       "      <td>0.584825</td>\n",
       "      <td>0.250885</td>\n",
       "    </tr>\n",
       "    <tr>\n",
       "      <th>row2</th>\n",
       "      <td>0.800346</td>\n",
       "      <td>-0.667962</td>\n",
       "      <td>-1.431938</td>\n",
       "      <td>0.150920</td>\n",
       "      <td>0.272655</td>\n",
       "    </tr>\n",
       "    <tr>\n",
       "      <th>row3</th>\n",
       "      <td>-0.286170</td>\n",
       "      <td>0.657382</td>\n",
       "      <td>0.113328</td>\n",
       "      <td>-1.307611</td>\n",
       "      <td>1.185078</td>\n",
       "    </tr>\n",
       "    <tr>\n",
       "      <th>row4</th>\n",
       "      <td>-2.012262</td>\n",
       "      <td>-0.220553</td>\n",
       "      <td>0.352311</td>\n",
       "      <td>0.163268</td>\n",
       "      <td>0.549059</td>\n",
       "    </tr>\n",
       "  </tbody>\n",
       "</table>\n",
       "</div>"
      ],
      "text/plain": [
       "             A         B         C         D         E\n",
       "row1  0.769332  0.250550 -0.520688  0.584825  0.250885\n",
       "row2  0.800346 -0.667962 -1.431938  0.150920  0.272655\n",
       "row3 -0.286170  0.657382  0.113328 -1.307611  1.185078\n",
       "row4 -2.012262 -0.220553  0.352311  0.163268  0.549059"
      ]
     },
     "execution_count": 22,
     "metadata": {},
     "output_type": "execute_result"
    }
   ],
   "source": [
    "# if you want no change the index name\n",
    "df.index=['row1','row2','row3','row4']\n",
    "df"
   ]
  },
  {
   "cell_type": "markdown",
   "id": "10768815",
   "metadata": {},
   "source": [
    "# Basic attributes of dataframes"
   ]
  },
  {
   "cell_type": "code",
   "execution_count": 23,
   "id": "a3726de6",
   "metadata": {},
   "outputs": [
    {
     "data": {
      "text/html": [
       "<div>\n",
       "<style scoped>\n",
       "    .dataframe tbody tr th:only-of-type {\n",
       "        vertical-align: middle;\n",
       "    }\n",
       "\n",
       "    .dataframe tbody tr th {\n",
       "        vertical-align: top;\n",
       "    }\n",
       "\n",
       "    .dataframe thead th {\n",
       "        text-align: right;\n",
       "    }\n",
       "</style>\n",
       "<table border=\"1\" class=\"dataframe\">\n",
       "  <thead>\n",
       "    <tr style=\"text-align: right;\">\n",
       "      <th></th>\n",
       "      <th>A</th>\n",
       "      <th>B</th>\n",
       "      <th>C</th>\n",
       "      <th>D</th>\n",
       "      <th>E</th>\n",
       "    </tr>\n",
       "  </thead>\n",
       "  <tbody>\n",
       "    <tr>\n",
       "      <th>row1</th>\n",
       "      <td>0.769332</td>\n",
       "      <td>0.250550</td>\n",
       "      <td>-0.520688</td>\n",
       "      <td>0.584825</td>\n",
       "      <td>0.250885</td>\n",
       "    </tr>\n",
       "    <tr>\n",
       "      <th>row2</th>\n",
       "      <td>0.800346</td>\n",
       "      <td>-0.667962</td>\n",
       "      <td>-1.431938</td>\n",
       "      <td>0.150920</td>\n",
       "      <td>0.272655</td>\n",
       "    </tr>\n",
       "    <tr>\n",
       "      <th>row3</th>\n",
       "      <td>-0.286170</td>\n",
       "      <td>0.657382</td>\n",
       "      <td>0.113328</td>\n",
       "      <td>-1.307611</td>\n",
       "      <td>1.185078</td>\n",
       "    </tr>\n",
       "    <tr>\n",
       "      <th>row4</th>\n",
       "      <td>-2.012262</td>\n",
       "      <td>-0.220553</td>\n",
       "      <td>0.352311</td>\n",
       "      <td>0.163268</td>\n",
       "      <td>0.549059</td>\n",
       "    </tr>\n",
       "  </tbody>\n",
       "</table>\n",
       "</div>"
      ],
      "text/plain": [
       "             A         B         C         D         E\n",
       "row1  0.769332  0.250550 -0.520688  0.584825  0.250885\n",
       "row2  0.800346 -0.667962 -1.431938  0.150920  0.272655\n",
       "row3 -0.286170  0.657382  0.113328 -1.307611  1.185078\n",
       "row4 -2.012262 -0.220553  0.352311  0.163268  0.549059"
      ]
     },
     "execution_count": 23,
     "metadata": {},
     "output_type": "execute_result"
    }
   ],
   "source": [
    "df"
   ]
  },
  {
   "cell_type": "code",
   "execution_count": 24,
   "id": "443925ca",
   "metadata": {},
   "outputs": [
    {
     "data": {
      "text/plain": [
       "(4, 5)"
      ]
     },
     "execution_count": 24,
     "metadata": {},
     "output_type": "execute_result"
    }
   ],
   "source": [
    "df.shape"
   ]
  },
  {
   "cell_type": "code",
   "execution_count": 25,
   "id": "c2117056",
   "metadata": {},
   "outputs": [
    {
     "data": {
      "text/plain": [
       "4"
      ]
     },
     "execution_count": 25,
     "metadata": {},
     "output_type": "execute_result"
    }
   ],
   "source": [
    "df.shape[0]"
   ]
  },
  {
   "cell_type": "code",
   "execution_count": 26,
   "id": "d5e42507",
   "metadata": {},
   "outputs": [
    {
     "data": {
      "text/plain": [
       "5"
      ]
     },
     "execution_count": 26,
     "metadata": {},
     "output_type": "execute_result"
    }
   ],
   "source": [
    "df.shape[1]"
   ]
  },
  {
   "cell_type": "code",
   "execution_count": 27,
   "id": "2fd99efc",
   "metadata": {},
   "outputs": [
    {
     "data": {
      "text/html": [
       "<div>\n",
       "<style scoped>\n",
       "    .dataframe tbody tr th:only-of-type {\n",
       "        vertical-align: middle;\n",
       "    }\n",
       "\n",
       "    .dataframe tbody tr th {\n",
       "        vertical-align: top;\n",
       "    }\n",
       "\n",
       "    .dataframe thead th {\n",
       "        text-align: right;\n",
       "    }\n",
       "</style>\n",
       "<table border=\"1\" class=\"dataframe\">\n",
       "  <thead>\n",
       "    <tr style=\"text-align: right;\">\n",
       "      <th></th>\n",
       "      <th>A</th>\n",
       "      <th>B</th>\n",
       "      <th>C</th>\n",
       "      <th>D</th>\n",
       "      <th>E</th>\n",
       "    </tr>\n",
       "  </thead>\n",
       "  <tbody>\n",
       "    <tr>\n",
       "      <th>count</th>\n",
       "      <td>4.000000</td>\n",
       "      <td>4.000000</td>\n",
       "      <td>4.000000</td>\n",
       "      <td>4.000000</td>\n",
       "      <td>4.000000</td>\n",
       "    </tr>\n",
       "    <tr>\n",
       "      <th>mean</th>\n",
       "      <td>-0.182188</td>\n",
       "      <td>0.004855</td>\n",
       "      <td>-0.371747</td>\n",
       "      <td>-0.102150</td>\n",
       "      <td>0.564419</td>\n",
       "    </tr>\n",
       "    <tr>\n",
       "      <th>std</th>\n",
       "      <td>1.320448</td>\n",
       "      <td>0.574354</td>\n",
       "      <td>0.797025</td>\n",
       "      <td>0.828566</td>\n",
       "      <td>0.435463</td>\n",
       "    </tr>\n",
       "    <tr>\n",
       "      <th>min</th>\n",
       "      <td>-2.012262</td>\n",
       "      <td>-0.667962</td>\n",
       "      <td>-1.431938</td>\n",
       "      <td>-1.307611</td>\n",
       "      <td>0.250885</td>\n",
       "    </tr>\n",
       "    <tr>\n",
       "      <th>25%</th>\n",
       "      <td>-0.717693</td>\n",
       "      <td>-0.332405</td>\n",
       "      <td>-0.748501</td>\n",
       "      <td>-0.213713</td>\n",
       "      <td>0.267213</td>\n",
       "    </tr>\n",
       "    <tr>\n",
       "      <th>50%</th>\n",
       "      <td>0.241581</td>\n",
       "      <td>0.014999</td>\n",
       "      <td>-0.203680</td>\n",
       "      <td>0.157094</td>\n",
       "      <td>0.410857</td>\n",
       "    </tr>\n",
       "    <tr>\n",
       "      <th>75%</th>\n",
       "      <td>0.777086</td>\n",
       "      <td>0.352258</td>\n",
       "      <td>0.173073</td>\n",
       "      <td>0.268657</td>\n",
       "      <td>0.708064</td>\n",
       "    </tr>\n",
       "    <tr>\n",
       "      <th>max</th>\n",
       "      <td>0.800346</td>\n",
       "      <td>0.657382</td>\n",
       "      <td>0.352311</td>\n",
       "      <td>0.584825</td>\n",
       "      <td>1.185078</td>\n",
       "    </tr>\n",
       "  </tbody>\n",
       "</table>\n",
       "</div>"
      ],
      "text/plain": [
       "              A         B         C         D         E\n",
       "count  4.000000  4.000000  4.000000  4.000000  4.000000\n",
       "mean  -0.182188  0.004855 -0.371747 -0.102150  0.564419\n",
       "std    1.320448  0.574354  0.797025  0.828566  0.435463\n",
       "min   -2.012262 -0.667962 -1.431938 -1.307611  0.250885\n",
       "25%   -0.717693 -0.332405 -0.748501 -0.213713  0.267213\n",
       "50%    0.241581  0.014999 -0.203680  0.157094  0.410857\n",
       "75%    0.777086  0.352258  0.173073  0.268657  0.708064\n",
       "max    0.800346  0.657382  0.352311  0.584825  1.185078"
      ]
     },
     "execution_count": 27,
     "metadata": {},
     "output_type": "execute_result"
    }
   ],
   "source": [
    "df.describe()"
   ]
  },
  {
   "cell_type": "code",
   "execution_count": 28,
   "id": "b7d57d6a",
   "metadata": {},
   "outputs": [
    {
     "data": {
      "text/plain": [
       "A    4\n",
       "B    4\n",
       "C    4\n",
       "D    4\n",
       "E    4\n",
       "dtype: int64"
      ]
     },
     "execution_count": 28,
     "metadata": {},
     "output_type": "execute_result"
    }
   ],
   "source": [
    "df.count()"
   ]
  },
  {
   "cell_type": "code",
   "execution_count": 29,
   "id": "5986fe7a",
   "metadata": {},
   "outputs": [
    {
     "data": {
      "text/plain": [
       "Index(['A', 'B', 'C', 'D', 'E'], dtype='object')"
      ]
     },
     "execution_count": 29,
     "metadata": {},
     "output_type": "execute_result"
    }
   ],
   "source": [
    "df.columns"
   ]
  },
  {
   "cell_type": "code",
   "execution_count": 30,
   "id": "5626fb22",
   "metadata": {},
   "outputs": [
    {
     "data": {
      "text/plain": [
       "array(['A', 'B', 'C', 'D', 'E'], dtype=object)"
      ]
     },
     "execution_count": 30,
     "metadata": {},
     "output_type": "execute_result"
    }
   ],
   "source": [
    "df.columns.values#it give in form of array"
   ]
  },
  {
   "cell_type": "code",
   "execution_count": 31,
   "id": "edb06663",
   "metadata": {},
   "outputs": [
    {
     "data": {
      "text/plain": [
       "pandas.core.indexes.base.Index"
      ]
     },
     "execution_count": 31,
     "metadata": {},
     "output_type": "execute_result"
    }
   ],
   "source": [
    "type(df.columns)"
   ]
  },
  {
   "cell_type": "markdown",
   "id": "f8c48806",
   "metadata": {},
   "source": [
    "# Import data in pandas"
   ]
  },
  {
   "cell_type": "code",
   "execution_count": null,
   "id": "9e8eaedf",
   "metadata": {},
   "outputs": [],
   "source": []
  }
 ],
 "metadata": {
  "kernelspec": {
   "display_name": "Python 3 (ipykernel)",
   "language": "python",
   "name": "python3"
  },
  "language_info": {
   "codemirror_mode": {
    "name": "ipython",
    "version": 3
   },
   "file_extension": ".py",
   "mimetype": "text/x-python",
   "name": "python",
   "nbconvert_exporter": "python",
   "pygments_lexer": "ipython3",
   "version": "3.10.1"
  }
 },
 "nbformat": 4,
 "nbformat_minor": 5
}
