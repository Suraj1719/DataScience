{
 "cells": [
  {
   "cell_type": "markdown",
   "id": "343a10b8",
   "metadata": {},
   "source": [
    "# What is sympy?"
   ]
  },
  {
   "cell_type": "raw",
   "id": "e0102d6b",
   "metadata": {},
   "source": [
    "sympy is a python library for symbolic mathematics ."
   ]
  },
  {
   "cell_type": "markdown",
   "id": "f2d44228",
   "metadata": {},
   "source": [
    "$\\sqrt(3)=1.732$<br>\n",
    "$\\frac{2}{4}=\\frac{1}{2}$"
   ]
  },
  {
   "cell_type": "markdown",
   "id": "b6766adc",
   "metadata": {},
   "source": [
    "Above kind of term writen are not writen in codes in python . These are just symbolical representation "
   ]
  },
  {
   "cell_type": "code",
   "execution_count": 1,
   "id": "e563080f",
   "metadata": {},
   "outputs": [
    {
     "data": {
      "text/plain": [
       "27"
      ]
     },
     "execution_count": 1,
     "metadata": {},
     "output_type": "execute_result"
    }
   ],
   "source": [
    "3**3"
   ]
  },
  {
   "cell_type": "code",
   "execution_count": 2,
   "id": "902dcefd",
   "metadata": {},
   "outputs": [
    {
     "data": {
      "text/plain": [
       "1.7320508075688772"
      ]
     },
     "execution_count": 2,
     "metadata": {},
     "output_type": "execute_result"
    }
   ],
   "source": [
    "3**(1/2)"
   ]
  },
  {
   "cell_type": "code",
   "execution_count": 3,
   "id": "236ff00e",
   "metadata": {},
   "outputs": [
    {
     "data": {
      "text/plain": [
       "0.5"
      ]
     },
     "execution_count": 3,
     "metadata": {},
     "output_type": "execute_result"
    }
   ],
   "source": [
    "2/4"
   ]
  },
  {
   "cell_type": "code",
   "execution_count": 4,
   "id": "eedb9057",
   "metadata": {},
   "outputs": [
    {
     "data": {
      "text/plain": [
       "0.5"
      ]
     },
     "execution_count": 4,
     "metadata": {},
     "output_type": "execute_result"
    }
   ],
   "source": [
    "1/2"
   ]
  },
  {
   "cell_type": "code",
   "execution_count": 6,
   "id": "5fa80e13",
   "metadata": {},
   "outputs": [
    {
     "data": {
      "text/plain": [
       "True"
      ]
     },
     "execution_count": 6,
     "metadata": {},
     "output_type": "execute_result"
    }
   ],
   "source": [
    "1/2==2/4 # we can write like this"
   ]
  },
  {
   "cell_type": "markdown",
   "id": "5de55bfe",
   "metadata": {},
   "source": [
    "So for symbolic representation we use sympy ."
   ]
  },
  {
   "cell_type": "markdown",
   "id": "a540c6d5",
   "metadata": {},
   "source": [
    "# import and check sympy version"
   ]
  },
  {
   "cell_type": "code",
   "execution_count": 9,
   "id": "6da14eba",
   "metadata": {},
   "outputs": [],
   "source": [
    "import sympy as su"
   ]
  },
  {
   "cell_type": "code",
   "execution_count": 10,
   "id": "ce162bdb",
   "metadata": {},
   "outputs": [
    {
     "data": {
      "text/plain": [
       "'1.9'"
      ]
     },
     "execution_count": 10,
     "metadata": {},
     "output_type": "execute_result"
    }
   ],
   "source": [
    "su.__version__"
   ]
  },
  {
   "cell_type": "markdown",
   "id": "5a79d362",
   "metadata": {},
   "source": [
    "For assigning one variable we use \"Symbol\""
   ]
  },
  {
   "cell_type": "code",
   "execution_count": 11,
   "id": "f9c14e6f",
   "metadata": {},
   "outputs": [],
   "source": [
    "x=su.Symbol('x')"
   ]
  },
  {
   "cell_type": "code",
   "execution_count": 12,
   "id": "35f0805d",
   "metadata": {},
   "outputs": [
    {
     "data": {
      "text/latex": [
       "$\\displaystyle x$"
      ],
      "text/plain": [
       "x"
      ]
     },
     "execution_count": 12,
     "metadata": {},
     "output_type": "execute_result"
    }
   ],
   "source": [
    "x"
   ]
  },
  {
   "cell_type": "markdown",
   "id": "e38b11e7",
   "metadata": {},
   "source": [
    "multiple assignments will be done with 'symbols'"
   ]
  },
  {
   "cell_type": "code",
   "execution_count": 13,
   "id": "beab0edc",
   "metadata": {},
   "outputs": [],
   "source": [
    "a,b,c=su.symbols('a,b,c')"
   ]
  },
  {
   "cell_type": "code",
   "execution_count": 14,
   "id": "74e828f7",
   "metadata": {},
   "outputs": [
    {
     "data": {
      "text/latex": [
       "$\\displaystyle a$"
      ],
      "text/plain": [
       "a"
      ]
     },
     "execution_count": 14,
     "metadata": {},
     "output_type": "execute_result"
    }
   ],
   "source": [
    "a"
   ]
  },
  {
   "cell_type": "code",
   "execution_count": 15,
   "id": "157517ce",
   "metadata": {},
   "outputs": [
    {
     "data": {
      "text/latex": [
       "$\\displaystyle b$"
      ],
      "text/plain": [
       "b"
      ]
     },
     "execution_count": 15,
     "metadata": {},
     "output_type": "execute_result"
    }
   ],
   "source": [
    "b"
   ]
  },
  {
   "cell_type": "code",
   "execution_count": 16,
   "id": "b0e9504e",
   "metadata": {},
   "outputs": [
    {
     "data": {
      "text/latex": [
       "$\\displaystyle c$"
      ],
      "text/plain": [
       "c"
      ]
     },
     "execution_count": 16,
     "metadata": {},
     "output_type": "execute_result"
    }
   ],
   "source": [
    "c"
   ]
  },
  {
   "cell_type": "markdown",
   "id": "698b2943",
   "metadata": {},
   "source": [
    "Instead of writing su every time we can import all the function of sympy using * operator"
   ]
  },
  {
   "cell_type": "code",
   "execution_count": 17,
   "id": "f5196bcb",
   "metadata": {},
   "outputs": [],
   "source": [
    "from sympy import*\n",
    "from sympy.abc import*"
   ]
  },
  {
   "cell_type": "code",
   "execution_count": 18,
   "id": "9d7618b0",
   "metadata": {},
   "outputs": [
    {
     "data": {
      "text/latex": [
       "$\\displaystyle \\zeta$"
      ],
      "text/plain": [
       "zeta"
      ]
     },
     "execution_count": 18,
     "metadata": {},
     "output_type": "execute_result"
    }
   ],
   "source": [
    "zeta"
   ]
  },
  {
   "cell_type": "code",
   "execution_count": 19,
   "id": "5f2f4bd6",
   "metadata": {},
   "outputs": [
    {
     "data": {
      "text/latex": [
       "$\\displaystyle \\theta$"
      ],
      "text/plain": [
       "theta"
      ]
     },
     "execution_count": 19,
     "metadata": {},
     "output_type": "execute_result"
    }
   ],
   "source": [
    "theta"
   ]
  },
  {
   "cell_type": "markdown",
   "id": "fb795fa4",
   "metadata": {},
   "source": [
    "# Substitution:-"
   ]
  },
  {
   "cell_type": "markdown",
   "id": "0b1b6322",
   "metadata": {},
   "source": [
    "One of the most common things you might want to do with a mathematical expression is substitution.Substitution replace \n",
    "all instances of something in an expresszion with someone else. It is done using the subs methode."
   ]
  },
  {
   "cell_type": "code",
   "execution_count": 22,
   "id": "e6f5df9f",
   "metadata": {},
   "outputs": [
    {
     "data": {
      "text/latex": [
       "$\\displaystyle x^{2} + 2 x + y$"
      ],
      "text/plain": [
       "x**2 + 2*x + y"
      ]
     },
     "execution_count": 22,
     "metadata": {},
     "output_type": "execute_result"
    }
   ],
   "source": [
    "expr=x**2+x*2+y\n",
    "expr"
   ]
  },
  {
   "cell_type": "code",
   "execution_count": 23,
   "id": "d4c594eb",
   "metadata": {},
   "outputs": [
    {
     "data": {
      "text/latex": [
       "$\\displaystyle y + 35$"
      ],
      "text/plain": [
       "y + 35"
      ]
     },
     "execution_count": 23,
     "metadata": {},
     "output_type": "execute_result"
    }
   ],
   "source": [
    "expr.subs(x,5)"
   ]
  },
  {
   "cell_type": "code",
   "execution_count": 24,
   "id": "bb6ba9b4",
   "metadata": {},
   "outputs": [
    {
     "data": {
      "text/plain": [
       "'strstrstrstrstr'"
      ]
     },
     "execution_count": 24,
     "metadata": {},
     "output_type": "execute_result"
    }
   ],
   "source": [
    "\"str\"*5"
   ]
  },
  {
   "cell_type": "code",
   "execution_count": 25,
   "id": "0ad1014c",
   "metadata": {},
   "outputs": [
    {
     "data": {
      "text/plain": [
       "'-str--str--str--str--str-'"
      ]
     },
     "execution_count": 25,
     "metadata": {},
     "output_type": "execute_result"
    }
   ],
   "source": [
    "\"-str-\"*5"
   ]
  },
  {
   "cell_type": "markdown",
   "id": "03af0ed0",
   "metadata": {},
   "source": [
    "# Converting strings to sympy Expression"
   ]
  },
  {
   "cell_type": "code",
   "execution_count": 26,
   "id": "3ba886d2",
   "metadata": {},
   "outputs": [
    {
     "data": {
      "text/latex": [
       "$\\displaystyle x^{2} + 3 x - \\frac{1}{2}$"
      ],
      "text/plain": [
       "x**2 + 3*x - 1/2"
      ]
     },
     "execution_count": 26,
     "metadata": {},
     "output_type": "execute_result"
    }
   ],
   "source": [
    "su_expr=\"x**2+x*3-1/2\"\n",
    "expr=sympify(su_expr)\n",
    "expr"
   ]
  },
  {
   "cell_type": "code",
   "execution_count": 27,
   "id": "a35c8273",
   "metadata": {},
   "outputs": [
    {
     "data": {
      "text/latex": [
       "$\\displaystyle \\frac{19}{2}$"
      ],
      "text/plain": [
       "19/2"
      ]
     },
     "execution_count": 27,
     "metadata": {},
     "output_type": "execute_result"
    }
   ],
   "source": [
    "expr.subs(x,2)"
   ]
  },
  {
   "cell_type": "markdown",
   "id": "f9cbfedc",
   "metadata": {},
   "source": [
    "# Evalf"
   ]
  },
  {
   "cell_type": "markdown",
   "id": "29032947",
   "metadata": {},
   "source": [
    "To evaluate a numerical expression into a floating point number use evalf"
   ]
  },
  {
   "cell_type": "code",
   "execution_count": 3,
   "id": "02b57de0",
   "metadata": {},
   "outputs": [],
   "source": [
    "from sympy import*\n",
    "from sympy.abc import*"
   ]
  },
  {
   "cell_type": "code",
   "execution_count": 9,
   "id": "8cc5f0d1",
   "metadata": {},
   "outputs": [
    {
     "data": {
      "text/latex": [
       "$\\displaystyle 4.12310562561766$"
      ],
      "text/plain": [
       "4.12310562561766"
      ]
     },
     "execution_count": 9,
     "metadata": {},
     "output_type": "execute_result"
    }
   ],
   "source": [
    "expr=sqrt(17)#evaluating value we need evalf fumnction\n",
    "expr\n",
    "expr.evalf()\n",
    "#sqrt(16).evalf()\n",
    "#importmath\n",
    "#math.sqrt()"
   ]
  },
  {
   "cell_type": "code",
   "execution_count": 10,
   "id": "fa5e021e",
   "metadata": {},
   "outputs": [
    {
     "data": {
      "text/latex": [
       "$\\displaystyle \\sqrt{19}$"
      ],
      "text/plain": [
       "sqrt(19)"
      ]
     },
     "execution_count": 10,
     "metadata": {},
     "output_type": "execute_result"
    }
   ],
   "source": [
    "expr=sqrt(19)#here only syntex represent\n",
    "expr"
   ]
  },
  {
   "cell_type": "code",
   "execution_count": 8,
   "id": "ae68b91f",
   "metadata": {},
   "outputs": [
    {
     "data": {
      "text/plain": [
       "3.0"
      ]
     },
     "execution_count": 8,
     "metadata": {},
     "output_type": "execute_result"
    }
   ],
   "source": [
    "import math\n",
    "math.sqrt(9)"
   ]
  },
  {
   "cell_type": "code",
   "execution_count": 11,
   "id": "689d55b2",
   "metadata": {},
   "outputs": [
    {
     "data": {
      "text/plain": [
       "1.7320508075688772"
      ]
     },
     "execution_count": 11,
     "metadata": {},
     "output_type": "execute_result"
    }
   ],
   "source": [
    "math.sqrt(3)"
   ]
  },
  {
   "cell_type": "markdown",
   "id": "1fce5b73",
   "metadata": {},
   "source": [
    "# simplify"
   ]
  },
  {
   "cell_type": "code",
   "execution_count": 12,
   "id": "4649e8b4",
   "metadata": {},
   "outputs": [
    {
     "data": {
      "text/latex": [
       "$\\displaystyle \\sin^{2}{\\left(x \\right)} + \\cos^{2}{\\left(x \\right)}$"
      ],
      "text/plain": [
       "sin(x)**2 + cos(x)**2"
      ]
     },
     "execution_count": 12,
     "metadata": {},
     "output_type": "execute_result"
    }
   ],
   "source": [
    "expr=sin(x)**2+cos(x)**2\n",
    "expr"
   ]
  },
  {
   "cell_type": "code",
   "execution_count": 13,
   "id": "31cbe96f",
   "metadata": {},
   "outputs": [
    {
     "data": {
      "text/latex": [
       "$\\displaystyle 1$"
      ],
      "text/plain": [
       "1"
      ]
     },
     "execution_count": 13,
     "metadata": {},
     "output_type": "execute_result"
    }
   ],
   "source": [
    "simplify(expr)"
   ]
  },
  {
   "cell_type": "markdown",
   "id": "72f71a45",
   "metadata": {},
   "source": [
    "# Expand"
   ]
  },
  {
   "cell_type": "markdown",
   "id": "6eee69d8",
   "metadata": {},
   "source": [
    "expand() function is one of the most common simplification function in sumpy . Although it has a lot of scope , but it mainly used fpor expanding polynomial expression ."
   ]
  },
  {
   "cell_type": "code",
   "execution_count": 14,
   "id": "5bdc5637",
   "metadata": {},
   "outputs": [
    {
     "data": {
      "text/latex": [
       "$\\displaystyle a^{2} + 2 a b + 2 a c + b^{2} + 2 b c + c^{2}$"
      ],
      "text/plain": [
       "a**2 + 2*a*b + 2*a*c + b**2 + 2*b*c + c**2"
      ]
     },
     "execution_count": 14,
     "metadata": {},
     "output_type": "execute_result"
    }
   ],
   "source": [
    "expr=(a+b+c)**2\n",
    "expand(expr)"
   ]
  },
  {
   "cell_type": "code",
   "execution_count": 15,
   "id": "e2ee5f1b",
   "metadata": {},
   "outputs": [
    {
     "data": {
      "text/latex": [
       "$\\displaystyle a^{3} + 3 a^{2} b + 3 a b^{2} + b^{3}$"
      ],
      "text/plain": [
       "a**3 + 3*a**2*b + 3*a*b**2 + b**3"
      ]
     },
     "execution_count": 15,
     "metadata": {},
     "output_type": "execute_result"
    }
   ],
   "source": [
    "expr=(a+b)**3\n",
    "expand(expr)"
   ]
  },
  {
   "cell_type": "markdown",
   "id": "067dd1b6",
   "metadata": {},
   "source": [
    "# factor "
   ]
  },
  {
   "cell_type": "markdown",
   "id": "60317658",
   "metadata": {},
   "source": [
    "factor() takes a polynomial and factors it into irreducible factores over the rational numbers."
   ]
  },
  {
   "cell_type": "code",
   "execution_count": 16,
   "id": "71ecb7d1",
   "metadata": {},
   "outputs": [
    {
     "data": {
      "text/latex": [
       "$\\displaystyle \\left(a + b\\right)^{3}$"
      ],
      "text/plain": [
       "(a + b)**3"
      ]
     },
     "execution_count": 16,
     "metadata": {},
     "output_type": "execute_result"
    }
   ],
   "source": [
    "factor(expr)"
   ]
  },
  {
   "cell_type": "code",
   "execution_count": 17,
   "id": "dd17fadb",
   "metadata": {},
   "outputs": [
    {
     "data": {
      "text/latex": [
       "$\\displaystyle z \\left(x + 2 y\\right)^{2}$"
      ],
      "text/plain": [
       "z*(x + 2*y)**2"
      ]
     },
     "execution_count": 17,
     "metadata": {},
     "output_type": "execute_result"
    }
   ],
   "source": [
    "expr1=(x**2*z + 4*x*y*z +4*y**2*z)\n",
    "expr1\n",
    "factor(expr1)"
   ]
  },
  {
   "cell_type": "markdown",
   "id": "73b3c27b",
   "metadata": {},
   "source": [
    "# collect"
   ]
  },
  {
   "cell_type": "code",
   "execution_count": 18,
   "id": "20cdc77c",
   "metadata": {},
   "outputs": [
    {
     "data": {
      "text/latex": [
       "$\\displaystyle x^{3} - x^{2} z + 2 x^{2} + x y + x - 3$"
      ],
      "text/plain": [
       "x**3 - x**2*z + 2*x**2 + x*y + x - 3"
      ]
     },
     "execution_count": 18,
     "metadata": {},
     "output_type": "execute_result"
    }
   ],
   "source": [
    "expr=x*y+x-3+2*x**2-z*x**2+x**3\n",
    "expr"
   ]
  },
  {
   "cell_type": "code",
   "execution_count": 19,
   "id": "7f3d96cb",
   "metadata": {},
   "outputs": [
    {
     "data": {
      "text/latex": [
       "$\\displaystyle x^{3} + x^{2} \\left(2 - z\\right) + x \\left(y + 1\\right) - 3$"
      ],
      "text/plain": [
       "x**3 + x**2*(2 - z) + x*(y + 1) - 3"
      ]
     },
     "execution_count": 19,
     "metadata": {},
     "output_type": "execute_result"
    }
   ],
   "source": [
    "collect(expr,x)"
   ]
  },
  {
   "cell_type": "markdown",
   "id": "58bac55e",
   "metadata": {},
   "source": [
    "# cancel"
   ]
  },
  {
   "cell_type": "code",
   "execution_count": 20,
   "id": "1f489612",
   "metadata": {},
   "outputs": [
    {
     "data": {
      "text/latex": [
       "$\\displaystyle \\frac{x^{2} - y^{2}}{x - y}$"
      ],
      "text/plain": [
       "(x**2 - y**2)/(x - y)"
      ]
     },
     "execution_count": 20,
     "metadata": {},
     "output_type": "execute_result"
    }
   ],
   "source": [
    "expr=(x**2-y**2)/(x-y)\n",
    "expr"
   ]
  },
  {
   "cell_type": "code",
   "execution_count": 21,
   "id": "ea9cef2a",
   "metadata": {},
   "outputs": [
    {
     "data": {
      "text/latex": [
       "$\\displaystyle x + y$"
      ],
      "text/plain": [
       "x + y"
      ]
     },
     "execution_count": 21,
     "metadata": {},
     "output_type": "execute_result"
    }
   ],
   "source": [
    "cancel(expr)"
   ]
  },
  {
   "cell_type": "markdown",
   "id": "538b2ac3",
   "metadata": {},
   "source": [
    "# trigsimp"
   ]
  },
  {
   "cell_type": "code",
   "execution_count": 22,
   "id": "e4a4c1be",
   "metadata": {},
   "outputs": [
    {
     "data": {
      "text/latex": [
       "$\\displaystyle \\sinh^{2}{\\left(x \\right)} + \\cosh^{2}{\\left(x \\right)}$"
      ],
      "text/plain": [
       "sinh(x)**2 + cosh(x)**2"
      ]
     },
     "execution_count": 22,
     "metadata": {},
     "output_type": "execute_result"
    }
   ],
   "source": [
    "expr=cosh(x)**2+sinh(x)**2\n",
    "expr"
   ]
  },
  {
   "cell_type": "code",
   "execution_count": 23,
   "id": "fb913a65",
   "metadata": {},
   "outputs": [
    {
     "data": {
      "text/latex": [
       "$\\displaystyle \\cosh{\\left(2 x \\right)}$"
      ],
      "text/plain": [
       "cosh(2*x)"
      ]
     },
     "execution_count": 23,
     "metadata": {},
     "output_type": "execute_result"
    }
   ],
   "source": [
    "trigsimp(expr)"
   ]
  },
  {
   "cell_type": "code",
   "execution_count": 24,
   "id": "409dcb2b",
   "metadata": {},
   "outputs": [
    {
     "data": {
      "text/latex": [
       "$\\displaystyle \\sin{\\left(a + b \\right)}$"
      ],
      "text/plain": [
       "sin(a + b)"
      ]
     },
     "execution_count": 24,
     "metadata": {},
     "output_type": "execute_result"
    }
   ],
   "source": [
    "eq=sin(a+b)\n",
    "eq"
   ]
  },
  {
   "cell_type": "code",
   "execution_count": 25,
   "id": "bd4ff5f1",
   "metadata": {},
   "outputs": [
    {
     "data": {
      "text/latex": [
       "$\\displaystyle \\sin{\\left(a + b \\right)}$"
      ],
      "text/plain": [
       "sin(a + b)"
      ]
     },
     "execution_count": 25,
     "metadata": {},
     "output_type": "execute_result"
    }
   ],
   "source": [
    "trigsimp(eq)"
   ]
  },
  {
   "cell_type": "markdown",
   "id": "8e126dae",
   "metadata": {},
   "source": [
    "# expand_trig"
   ]
  },
  {
   "cell_type": "code",
   "execution_count": 26,
   "id": "788e7cfc",
   "metadata": {},
   "outputs": [
    {
     "data": {
      "text/latex": [
       "$\\displaystyle \\sin{\\left(a \\right)} \\cos{\\left(b \\right)} + \\sin{\\left(b \\right)} \\cos{\\left(a \\right)}$"
      ],
      "text/plain": [
       "sin(a)*cos(b) + sin(b)*cos(a)"
      ]
     },
     "execution_count": 26,
     "metadata": {},
     "output_type": "execute_result"
    }
   ],
   "source": [
    "expand_trig(eq)"
   ]
  },
  {
   "cell_type": "code",
   "execution_count": 27,
   "id": "98588b86",
   "metadata": {},
   "outputs": [
    {
     "data": {
      "text/latex": [
       "$\\displaystyle \\sin{\\left(\\alpha \\right)} \\cos{\\left(\\beta \\right)} + \\sin{\\left(\\beta \\right)} \\cos{\\left(\\alpha \\right)}$"
      ],
      "text/plain": [
       "sin(alpha)*cos(beta) + sin(beta)*cos(alpha)"
      ]
     },
     "execution_count": 27,
     "metadata": {},
     "output_type": "execute_result"
    }
   ],
   "source": [
    "expand_trig((sin(alpha+beta)))"
   ]
  },
  {
   "cell_type": "markdown",
   "id": "371b51e9",
   "metadata": {},
   "source": [
    "# Eq "
   ]
  },
  {
   "cell_type": "code",
   "execution_count": 28,
   "id": "80800939",
   "metadata": {},
   "outputs": [
    {
     "data": {
      "text/latex": [
       "$\\displaystyle \\sin{\\left(a + b \\right)} = \\sin{\\left(a \\right)} \\cos{\\left(b \\right)} + \\sin{\\left(b \\right)} \\cos{\\left(a \\right)}$"
      ],
      "text/plain": [
       "Eq(sin(a + b), sin(a)*cos(b) + sin(b)*cos(a))"
      ]
     },
     "execution_count": 28,
     "metadata": {},
     "output_type": "execute_result"
    }
   ],
   "source": [
    "Eq(eq,expand_trig(eq))"
   ]
  },
  {
   "cell_type": "markdown",
   "id": "f235a6f8",
   "metadata": {},
   "source": [
    "# powsimp"
   ]
  },
  {
   "cell_type": "code",
   "execution_count": 29,
   "id": "332937e5",
   "metadata": {},
   "outputs": [],
   "source": [
    "expr=x**2*x**3"
   ]
  },
  {
   "cell_type": "code",
   "execution_count": 30,
   "id": "bbc2b6c8",
   "metadata": {},
   "outputs": [
    {
     "data": {
      "text/latex": [
       "$\\displaystyle x^{5}$"
      ],
      "text/plain": [
       "x**5"
      ]
     },
     "execution_count": 30,
     "metadata": {},
     "output_type": "execute_result"
    }
   ],
   "source": [
    "expr"
   ]
  },
  {
   "cell_type": "code",
   "execution_count": 31,
   "id": "cdbec775",
   "metadata": {},
   "outputs": [
    {
     "data": {
      "text/latex": [
       "$\\displaystyle x^{3} x^{- a}$"
      ],
      "text/plain": [
       "x**3/x**a"
      ]
     },
     "execution_count": 31,
     "metadata": {},
     "output_type": "execute_result"
    }
   ],
   "source": [
    "expr=x**3/x**a\n",
    "expr"
   ]
  },
  {
   "cell_type": "code",
   "execution_count": 32,
   "id": "7ba19037",
   "metadata": {},
   "outputs": [
    {
     "data": {
      "text/latex": [
       "$\\displaystyle x^{3 - a}$"
      ],
      "text/plain": [
       "x**(3 - a)"
      ]
     },
     "execution_count": 32,
     "metadata": {},
     "output_type": "execute_result"
    }
   ],
   "source": [
    "powsimp(expr)"
   ]
  },
  {
   "cell_type": "code",
   "execution_count": 33,
   "id": "aea1a2aa",
   "metadata": {},
   "outputs": [
    {
     "data": {
      "text/latex": [
       "$\\displaystyle y^{a} y^{- b}$"
      ],
      "text/plain": [
       "y**a/y**b"
      ]
     },
     "execution_count": 33,
     "metadata": {},
     "output_type": "execute_result"
    }
   ],
   "source": [
    "expand_power_exp(y**(a-b))"
   ]
  },
  {
   "cell_type": "markdown",
   "id": "fd0fe3f4",
   "metadata": {},
   "source": [
    "# log"
   ]
  },
  {
   "cell_type": "code",
   "execution_count": 34,
   "id": "44ff28fd",
   "metadata": {},
   "outputs": [
    {
     "data": {
      "text/latex": [
       "$\\displaystyle \\log{\\left(x \\right)}$"
      ],
      "text/plain": [
       "log(x)"
      ]
     },
     "execution_count": 34,
     "metadata": {},
     "output_type": "execute_result"
    }
   ],
   "source": [
    "log(x)"
   ]
  },
  {
   "cell_type": "code",
   "execution_count": 35,
   "id": "45dc4b8d",
   "metadata": {},
   "outputs": [
    {
     "data": {
      "text/latex": [
       "$\\displaystyle \\log{\\left(y \\right)}$"
      ],
      "text/plain": [
       "log(y)"
      ]
     },
     "execution_count": 35,
     "metadata": {},
     "output_type": "execute_result"
    }
   ],
   "source": [
    "ln(y)"
   ]
  },
  {
   "cell_type": "markdown",
   "id": "e494d13c",
   "metadata": {},
   "source": [
    "# factorial"
   ]
  },
  {
   "cell_type": "code",
   "execution_count": 36,
   "id": "47690648",
   "metadata": {},
   "outputs": [
    {
     "data": {
      "text/latex": [
       "$\\displaystyle 120$"
      ],
      "text/plain": [
       "120"
      ]
     },
     "execution_count": 36,
     "metadata": {},
     "output_type": "execute_result"
    }
   ],
   "source": [
    "factorial(5)"
   ]
  },
  {
   "cell_type": "code",
   "execution_count": 37,
   "id": "8e9b0049",
   "metadata": {},
   "outputs": [
    {
     "data": {
      "text/latex": [
       "$\\displaystyle x! = x!$"
      ],
      "text/plain": [
       "Eq(factorial(x), factorial(x))"
      ]
     },
     "execution_count": 37,
     "metadata": {},
     "output_type": "execute_result"
    }
   ],
   "source": [
    "Eq(factorial(x),factorial(x),evaluate=False)"
   ]
  },
  {
   "cell_type": "markdown",
   "id": "7de16dde",
   "metadata": {},
   "source": [
    "# rational"
   ]
  },
  {
   "cell_type": "code",
   "execution_count": 38,
   "id": "3bbbf3d7",
   "metadata": {},
   "outputs": [
    {
     "data": {
      "text/latex": [
       "$\\displaystyle \\frac{1}{2}$"
      ],
      "text/plain": [
       "1/2"
      ]
     },
     "execution_count": 38,
     "metadata": {},
     "output_type": "execute_result"
    }
   ],
   "source": [
    "Rational(2,4)"
   ]
  },
  {
   "cell_type": "code",
   "execution_count": 40,
   "id": "68b029b2",
   "metadata": {},
   "outputs": [
    {
     "data": {
      "text/latex": [
       "$\\displaystyle \\frac{p}{q}$"
      ],
      "text/plain": [
       "p/q"
      ]
     },
     "execution_count": 40,
     "metadata": {},
     "output_type": "execute_result"
    }
   ],
   "source": [
    "sympify('p/q')"
   ]
  },
  {
   "cell_type": "code",
   "execution_count": 58,
   "id": "ec619371",
   "metadata": {},
   "outputs": [
    {
     "data": {
      "text/latex": [
       "$\\displaystyle \\frac{3}{4} + \\frac{7}{3} = \\frac{37}{12}$"
      ],
      "text/plain": [
       "Eq(3/4 + 7/3, 37/12)"
      ]
     },
     "execution_count": 58,
     "metadata": {},
     "output_type": "execute_result"
    }
   ],
   "source": [
    "Eq(sympify('7/3+3/4',evaluate=False),sympify('7/3+3/4'),evaluate=False)"
   ]
  },
  {
   "cell_type": "code",
   "execution_count": 59,
   "id": "5fc529f1",
   "metadata": {},
   "outputs": [],
   "source": [
    "a=tan(theta)/(1-cot(theta))"
   ]
  },
  {
   "cell_type": "code",
   "execution_count": 60,
   "id": "f7dee5c5",
   "metadata": {},
   "outputs": [],
   "source": [
    "b=cot(theta)/(1-tan(theta))"
   ]
  },
  {
   "cell_type": "code",
   "execution_count": 61,
   "id": "4d116a4a",
   "metadata": {},
   "outputs": [
    {
     "data": {
      "text/latex": [
       "$\\displaystyle \\frac{\\tan{\\left(\\theta \\right)}}{1 - \\cot{\\left(\\theta \\right)}} + \\frac{\\cot{\\left(\\theta \\right)}}{1 - \\tan{\\left(\\theta \\right)}}$"
      ],
      "text/plain": [
       "tan(theta)/(1 - cot(theta)) + cot(theta)/(1 - tan(theta))"
      ]
     },
     "execution_count": 61,
     "metadata": {},
     "output_type": "execute_result"
    }
   ],
   "source": [
    "a+b"
   ]
  },
  {
   "cell_type": "code",
   "execution_count": 62,
   "id": "f40e3465",
   "metadata": {},
   "outputs": [
    {
     "data": {
      "text/latex": [
       "$\\displaystyle \\frac{\\tan{\\left(\\theta \\right)}}{1 - \\cot{\\left(\\theta \\right)}} + \\frac{\\cot{\\left(\\theta \\right)}}{1 - \\tan{\\left(\\theta \\right)}} = \\tan{\\left(\\theta \\right)} + \\cot{\\left(\\theta \\right)} + 1$"
      ],
      "text/plain": [
       "Eq(tan(theta)/(1 - cot(theta)) + cot(theta)/(1 - tan(theta)), tan(theta) + cot(theta) + 1)"
      ]
     },
     "execution_count": 62,
     "metadata": {},
     "output_type": "execute_result"
    }
   ],
   "source": [
    "Eq(a+b,1+tan(theta)+cot(theta))"
   ]
  },
  {
   "cell_type": "code",
   "execution_count": 63,
   "id": "b9f9640c",
   "metadata": {},
   "outputs": [
    {
     "data": {
      "text/latex": [
       "$\\displaystyle \\tan{\\left(\\theta \\right)} + 1 + \\frac{1}{\\tan{\\left(\\theta \\right)}} = \\tan{\\left(\\theta \\right)} + \\cot{\\left(\\theta \\right)} + 1$"
      ],
      "text/plain": [
       "Eq(tan(theta) + 1 + 1/tan(theta), tan(theta) + cot(theta) + 1)"
      ]
     },
     "execution_count": 63,
     "metadata": {},
     "output_type": "execute_result"
    }
   ],
   "source": [
    "Eq(trigsimp(a+b),1+tan(theta)+cot(theta))"
   ]
  },
  {
   "cell_type": "code",
   "execution_count": 64,
   "id": "e758a6de",
   "metadata": {},
   "outputs": [],
   "source": [
    "expr=(1/sin(theta)**2+1/cos(theta)**2)"
   ]
  },
  {
   "cell_type": "code",
   "execution_count": 65,
   "id": "9c6272f6",
   "metadata": {},
   "outputs": [
    {
     "data": {
      "text/latex": [
       "$\\displaystyle \\frac{1}{\\cos^{2}{\\left(\\theta \\right)}} + \\frac{1}{\\sin^{2}{\\left(\\theta \\right)}}$"
      ],
      "text/plain": [
       "cos(theta)**(-2) + sin(theta)**(-2)"
      ]
     },
     "execution_count": 65,
     "metadata": {},
     "output_type": "execute_result"
    }
   ],
   "source": [
    "expr"
   ]
  },
  {
   "cell_type": "markdown",
   "id": "d55b7d37",
   "metadata": {},
   "source": [
    "# Calculus"
   ]
  },
  {
   "cell_type": "code",
   "execution_count": 66,
   "id": "53392ed3",
   "metadata": {},
   "outputs": [
    {
     "data": {
      "text/latex": [
       "$\\displaystyle \\sqrt[4]{x}$"
      ],
      "text/plain": [
       "x**(1/4)"
      ]
     },
     "execution_count": 66,
     "metadata": {},
     "output_type": "execute_result"
    }
   ],
   "source": [
    "root(x,4)"
   ]
  },
  {
   "cell_type": "code",
   "execution_count": 67,
   "id": "7da473c2",
   "metadata": {},
   "outputs": [
    {
     "data": {
      "text/latex": [
       "$\\displaystyle \\sqrt[15]{x}$"
      ],
      "text/plain": [
       "x**(1/15)"
      ]
     },
     "execution_count": 67,
     "metadata": {},
     "output_type": "execute_result"
    }
   ],
   "source": [
    "root(root(x,3),5)"
   ]
  },
  {
   "cell_type": "code",
   "execution_count": 68,
   "id": "fae1df7d",
   "metadata": {},
   "outputs": [
    {
     "data": {
      "text/latex": [
       "$\\displaystyle \\left(x^{2} + 4 x + 6\\right)^{5}$"
      ],
      "text/plain": [
       "(x**2 + 4*x + 6)**5"
      ]
     },
     "execution_count": 68,
     "metadata": {},
     "output_type": "execute_result"
    }
   ],
   "source": [
    "expr=(x**2+4*x+6)**5\n",
    "expr"
   ]
  },
  {
   "cell_type": "code",
   "execution_count": 69,
   "id": "586dcebc",
   "metadata": {},
   "outputs": [
    {
     "data": {
      "text/latex": [
       "$\\displaystyle \\left(x^{2} + 4 x + 6\\right)^{5}$"
      ],
      "text/plain": [
       "(x**2 + 4*x + 6)**5"
      ]
     },
     "execution_count": 69,
     "metadata": {},
     "output_type": "execute_result"
    }
   ],
   "source": [
    "expr"
   ]
  },
  {
   "cell_type": "markdown",
   "id": "6ed0423f",
   "metadata": {},
   "source": [
    "# Differential"
   ]
  },
  {
   "cell_type": "code",
   "execution_count": 71,
   "id": "5add5812",
   "metadata": {},
   "outputs": [
    {
     "data": {
      "text/latex": [
       "$\\displaystyle \\frac{d}{d x} \\left(x^{2} + 4 x + 6\\right)^{5}$"
      ],
      "text/plain": [
       "Derivative((x**2 + 4*x + 6)**5, x)"
      ]
     },
     "execution_count": 71,
     "metadata": {},
     "output_type": "execute_result"
    }
   ],
   "source": [
    "Derivative(expr,x)#it gives only the derivative form"
   ]
  },
  {
   "cell_type": "code",
   "execution_count": 72,
   "id": "166bc41e",
   "metadata": {},
   "outputs": [
    {
     "data": {
      "text/latex": [
       "$\\displaystyle \\left(10 x + 20\\right) \\left(x^{2} + 4 x + 6\\right)^{4}$"
      ],
      "text/plain": [
       "(10*x + 20)*(x**2 + 4*x + 6)**4"
      ]
     },
     "execution_count": 72,
     "metadata": {},
     "output_type": "execute_result"
    }
   ],
   "source": [
    "diff(expr,x)"
   ]
  },
  {
   "cell_type": "code",
   "execution_count": 73,
   "id": "b2f35e36",
   "metadata": {},
   "outputs": [
    {
     "data": {
      "text/latex": [
       "$\\displaystyle 10 \\left(x + 2\\right) \\left(x^{2} + 4 x + 6\\right)^{4}$"
      ],
      "text/plain": [
       "10*(x + 2)*(x**2 + 4*x + 6)**4"
      ]
     },
     "execution_count": 73,
     "metadata": {},
     "output_type": "execute_result"
    }
   ],
   "source": [
    "factor(diff(expr,x))"
   ]
  },
  {
   "cell_type": "code",
   "execution_count": 75,
   "id": "e03f804c",
   "metadata": {},
   "outputs": [
    {
     "data": {
      "text/latex": [
       "$\\displaystyle \\frac{d}{d x} \\left(x^{2} + 4 x + 6\\right)^{5} = 10 \\left(x + 2\\right) \\left(x^{2} + 4 x + 6\\right)^{4}$"
      ],
      "text/plain": [
       "Eq(Derivative((x**2 + 4*x + 6)**5, x), 10*(x + 2)*(x**2 + 4*x + 6)**4)"
      ]
     },
     "execution_count": 75,
     "metadata": {},
     "output_type": "execute_result"
    }
   ],
   "source": [
    "Eq(Derivative(expr,x),factor(diff(expr,x)))"
   ]
  },
  {
   "cell_type": "code",
   "execution_count": 76,
   "id": "b716bbe1",
   "metadata": {},
   "outputs": [
    {
     "data": {
      "text/latex": [
       "$\\displaystyle \\frac{d}{d x} \\tan{\\left(3 x \\right)}$"
      ],
      "text/plain": [
       "Derivative(tan(3*x), x)"
      ]
     },
     "execution_count": 76,
     "metadata": {},
     "output_type": "execute_result"
    }
   ],
   "source": [
    "Derivative(tan(3*x),x)"
   ]
  },
  {
   "cell_type": "code",
   "execution_count": 77,
   "id": "65872e37",
   "metadata": {},
   "outputs": [
    {
     "data": {
      "text/latex": [
       "$\\displaystyle 3 \\tan^{2}{\\left(3 x \\right)} + 3$"
      ],
      "text/plain": [
       "3*tan(3*x)**2 + 3"
      ]
     },
     "execution_count": 77,
     "metadata": {},
     "output_type": "execute_result"
    }
   ],
   "source": [
    "diff(tan(3*x),x)"
   ]
  },
  {
   "cell_type": "code",
   "execution_count": 78,
   "id": "96b70041",
   "metadata": {},
   "outputs": [
    {
     "data": {
      "text/latex": [
       "$\\displaystyle \\frac{d}{d x} \\tan{\\left(3 x \\right)} = 3 \\left(\\tan^{2}{\\left(3 x \\right)} + 1\\right)$"
      ],
      "text/plain": [
       "Eq(Derivative(tan(3*x), x), 3*(tan(3*x)**2 + 1))"
      ]
     },
     "execution_count": 78,
     "metadata": {},
     "output_type": "execute_result"
    }
   ],
   "source": [
    "Eq(Derivative(tan(3*x),x),factor(diff(tan(3*x),x)))"
   ]
  },
  {
   "cell_type": "markdown",
   "id": "f5965a36",
   "metadata": {},
   "source": [
    "# integration"
   ]
  },
  {
   "cell_type": "code",
   "execution_count": 79,
   "id": "007539db",
   "metadata": {},
   "outputs": [
    {
     "data": {
      "text/latex": [
       "$\\displaystyle \\left(x^{2} + 4 x + 6\\right)^{5}$"
      ],
      "text/plain": [
       "(x**2 + 4*x + 6)**5"
      ]
     },
     "execution_count": 79,
     "metadata": {},
     "output_type": "execute_result"
    }
   ],
   "source": [
    "expr"
   ]
  },
  {
   "cell_type": "code",
   "execution_count": 82,
   "id": "cc50b8ec",
   "metadata": {},
   "outputs": [
    {
     "data": {
      "text/latex": [
       "$\\displaystyle \\int \\left(x^{2} + 4 x + 6\\right)^{5}\\, dx$"
      ],
      "text/plain": [
       "Integral((x**2 + 4*x + 6)**5, x)"
      ]
     },
     "execution_count": 82,
     "metadata": {},
     "output_type": "execute_result"
    }
   ],
   "source": [
    "Integral(expr,x)#it produce integration form"
   ]
  },
  {
   "cell_type": "code",
   "execution_count": 81,
   "id": "4155ff3a",
   "metadata": {},
   "outputs": [
    {
     "data": {
      "text/latex": [
       "$\\displaystyle \\frac{x^{11}}{11} + 2 x^{10} + \\frac{190 x^{9}}{9} + 140 x^{8} + \\frac{4520 x^{7}}{7} + \\frac{6512 x^{6}}{3} + 5424 x^{5} + 10080 x^{4} + 13680 x^{3} + 12960 x^{2} + 7776 x$"
      ],
      "text/plain": [
       "x**11/11 + 2*x**10 + 190*x**9/9 + 140*x**8 + 4520*x**7/7 + 6512*x**6/3 + 5424*x**5 + 10080*x**4 + 13680*x**3 + 12960*x**2 + 7776*x"
      ]
     },
     "execution_count": 81,
     "metadata": {},
     "output_type": "execute_result"
    }
   ],
   "source": [
    "integrate(expr,x) #it gives integration value"
   ]
  },
  {
   "cell_type": "code",
   "execution_count": 83,
   "id": "3baa7783",
   "metadata": {},
   "outputs": [
    {
     "data": {
      "text/latex": [
       "$\\displaystyle \\sin^{3}{\\left(x \\right)}$"
      ],
      "text/plain": [
       "sin(x)**3"
      ]
     },
     "execution_count": 83,
     "metadata": {},
     "output_type": "execute_result"
    }
   ],
   "source": [
    "expr=sin(x)**3\n",
    "expr"
   ]
  },
  {
   "cell_type": "code",
   "execution_count": 84,
   "id": "5151e1d9",
   "metadata": {},
   "outputs": [
    {
     "data": {
      "text/latex": [
       "$\\displaystyle \\frac{\\cos^{3}{\\left(x \\right)}}{3} - \\cos{\\left(x \\right)}$"
      ],
      "text/plain": [
       "cos(x)**3/3 - cos(x)"
      ]
     },
     "execution_count": 84,
     "metadata": {},
     "output_type": "execute_result"
    }
   ],
   "source": [
    "integrate(expr,x)"
   ]
  },
  {
   "cell_type": "code",
   "execution_count": 86,
   "id": "1014f911",
   "metadata": {},
   "outputs": [
    {
     "data": {
      "text/latex": [
       "$\\displaystyle \\frac{\\cos^{3}{\\left(x \\right)}}{3} - \\cos{\\left(x \\right)}$"
      ],
      "text/plain": [
       "cos(x)**3/3 - cos(x)"
      ]
     },
     "execution_count": 86,
     "metadata": {},
     "output_type": "execute_result"
    }
   ],
   "source": [
    "trigsimp(integrate(expr,x))"
   ]
  },
  {
   "cell_type": "code",
   "execution_count": 88,
   "id": "c96615d6",
   "metadata": {},
   "outputs": [
    {
     "data": {
      "text/latex": [
       "$\\displaystyle \\int \\sin^{3}{\\left(x \\right)}\\, dx = \\frac{\\cos^{3}{\\left(x \\right)}}{3} - \\cos{\\left(x \\right)}$"
      ],
      "text/plain": [
       "Eq(Integral(sin(x)**3, x), cos(x)**3/3 - cos(x))"
      ]
     },
     "execution_count": 88,
     "metadata": {},
     "output_type": "execute_result"
    }
   ],
   "source": [
    "Eq(Integral(expr,x),trigsimp(integrate(expr,x)))"
   ]
  },
  {
   "cell_type": "code",
   "execution_count": 89,
   "id": "261c9564",
   "metadata": {},
   "outputs": [],
   "source": [
    "expr=-3*cos(x)/4"
   ]
  },
  {
   "cell_type": "code",
   "execution_count": 90,
   "id": "27567413",
   "metadata": {},
   "outputs": [
    {
     "data": {
      "text/latex": [
       "$\\displaystyle - \\frac{3 \\cos{\\left(x \\right)}}{4} + \\frac{\\cos{\\left(3 x \\right)}}{12}$"
      ],
      "text/plain": [
       "-3*cos(x)/4 + cos(3*x)/12"
      ]
     },
     "execution_count": 90,
     "metadata": {},
     "output_type": "execute_result"
    }
   ],
   "source": [
    "simplify(expr+cos(3*x)/12)"
   ]
  },
  {
   "cell_type": "code",
   "execution_count": 91,
   "id": "b3a1f595",
   "metadata": {},
   "outputs": [
    {
     "data": {
      "text/latex": [
       "$\\displaystyle \\int e^{- x}\\, dx$"
      ],
      "text/plain": [
       "Integral(exp(-x), x)"
      ]
     },
     "execution_count": 91,
     "metadata": {},
     "output_type": "execute_result"
    }
   ],
   "source": [
    "Integral(exp(-x))"
   ]
  },
  {
   "cell_type": "code",
   "execution_count": 95,
   "id": "ddfaa477",
   "metadata": {},
   "outputs": [
    {
     "data": {
      "text/latex": [
       "$\\displaystyle \\int\\limits_{0}^{\\infty} e^{- x}\\, dx$"
      ],
      "text/plain": [
       "Integral(exp(-x), (x, 0, oo))"
      ]
     },
     "execution_count": 95,
     "metadata": {},
     "output_type": "execute_result"
    }
   ],
   "source": [
    "Integral(exp(-x),(x,0,oo))"
   ]
  },
  {
   "cell_type": "code",
   "execution_count": 96,
   "id": "cb8f0f6b",
   "metadata": {},
   "outputs": [
    {
     "data": {
      "text/latex": [
       "$\\displaystyle 1$"
      ],
      "text/plain": [
       "1"
      ]
     },
     "execution_count": 96,
     "metadata": {},
     "output_type": "execute_result"
    }
   ],
   "source": [
    "integrate(exp(-x),(x,0,oo))"
   ]
  },
  {
   "cell_type": "code",
   "execution_count": 101,
   "id": "90db4831",
   "metadata": {},
   "outputs": [
    {
     "data": {
      "text/latex": [
       "$\\displaystyle \\int\\limits_{0}^{\\infty} e^{- x}\\, dx = 1$"
      ],
      "text/plain": [
       "Eq(Integral(exp(-x), (x, 0, oo)), 1)"
      ]
     },
     "execution_count": 101,
     "metadata": {},
     "output_type": "execute_result"
    }
   ],
   "source": [
    "Eq(Integral(exp(-x),(x,0,oo)),integrate(exp(-x),(x,0,oo)))"
   ]
  },
  {
   "cell_type": "markdown",
   "id": "e0425a27",
   "metadata": {},
   "source": [
    "# Limits"
   ]
  },
  {
   "cell_type": "code",
   "execution_count": 103,
   "id": "14042a1b",
   "metadata": {},
   "outputs": [
    {
     "data": {
      "text/latex": [
       "$\\displaystyle \\lim_{y \\to 3^+} \\frac{1}{y}$"
      ],
      "text/plain": [
       "Limit(1/y, y, 3)"
      ]
     },
     "execution_count": 103,
     "metadata": {},
     "output_type": "execute_result"
    }
   ],
   "source": [
    "Limit(1/y,y,3)#give limit form"
   ]
  },
  {
   "cell_type": "code",
   "execution_count": 105,
   "id": "8882af58",
   "metadata": {},
   "outputs": [
    {
     "data": {
      "text/latex": [
       "$\\displaystyle \\frac{1}{3}$"
      ],
      "text/plain": [
       "1/3"
      ]
     },
     "execution_count": 105,
     "metadata": {},
     "output_type": "execute_result"
    }
   ],
   "source": [
    "limit(1/y,y,3)#give the value of limit function"
   ]
  },
  {
   "cell_type": "code",
   "execution_count": 106,
   "id": "ef209157",
   "metadata": {},
   "outputs": [
    {
     "data": {
      "text/latex": [
       "$\\displaystyle \\lim_{y \\to 3^+} \\frac{1}{y} = \\frac{1}{3}$"
      ],
      "text/plain": [
       "Eq(Limit(1/y, y, 3), 1/3)"
      ]
     },
     "execution_count": 106,
     "metadata": {},
     "output_type": "execute_result"
    }
   ],
   "source": [
    "Eq(Limit(1/y,y,3),limit(1/y,y,3))"
   ]
  },
  {
   "cell_type": "code",
   "execution_count": 107,
   "id": "7db43766",
   "metadata": {},
   "outputs": [
    {
     "data": {
      "text/latex": [
       "$\\displaystyle -\\infty$"
      ],
      "text/plain": [
       "-oo"
      ]
     },
     "execution_count": 107,
     "metadata": {},
     "output_type": "execute_result"
    }
   ],
   "source": [
    "limit(1/x,x,0,'-')"
   ]
  },
  {
   "cell_type": "code",
   "execution_count": null,
   "id": "07dcc5b3",
   "metadata": {},
   "outputs": [],
   "source": []
  }
 ],
 "metadata": {
  "kernelspec": {
   "display_name": "Python 3 (ipykernel)",
   "language": "python",
   "name": "python3"
  },
  "language_info": {
   "codemirror_mode": {
    "name": "ipython",
    "version": 3
   },
   "file_extension": ".py",
   "mimetype": "text/x-python",
   "name": "python",
   "nbconvert_exporter": "python",
   "pygments_lexer": "ipython3",
   "version": "3.10.1"
  }
 },
 "nbformat": 4,
 "nbformat_minor": 5
}
