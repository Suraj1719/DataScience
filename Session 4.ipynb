{
 "cells": [
  {
   "cell_type": "markdown",
   "id": "dd929a44",
   "metadata": {},
   "source": [
    "# Data types\n",
    "  1.List"
   ]
  },
  {
   "cell_type": "code",
   "execution_count": 1,
   "id": "347813da",
   "metadata": {},
   "outputs": [],
   "source": [
    "num=[5,10,15,20,25]"
   ]
  },
  {
   "cell_type": "code",
   "execution_count": 2,
   "id": "9afe885b",
   "metadata": {},
   "outputs": [
    {
     "data": {
      "text/plain": [
       "list"
      ]
     },
     "execution_count": 2,
     "metadata": {},
     "output_type": "execute_result"
    }
   ],
   "source": [
    "type(num)"
   ]
  },
  {
   "cell_type": "code",
   "execution_count": 3,
   "id": "7615de02",
   "metadata": {},
   "outputs": [],
   "source": [
    "#add numbers\n",
    "num.append(23)"
   ]
  },
  {
   "cell_type": "code",
   "execution_count": 4,
   "id": "a12cd758",
   "metadata": {},
   "outputs": [
    {
     "data": {
      "text/plain": [
       "[5, 10, 15, 20, 25, 23]"
      ]
     },
     "execution_count": 4,
     "metadata": {},
     "output_type": "execute_result"
    }
   ],
   "source": [
    "num"
   ]
  },
  {
   "cell_type": "code",
   "execution_count": 5,
   "id": "40c3e85d",
   "metadata": {},
   "outputs": [
    {
     "data": {
      "text/plain": [
       "[5, 10, 15, 20, 25, 23, 34.7]"
      ]
     },
     "execution_count": 5,
     "metadata": {},
     "output_type": "execute_result"
    }
   ],
   "source": [
    "num.append(34.7)\n",
    "num"
   ]
  },
  {
   "cell_type": "code",
   "execution_count": 6,
   "id": "00b9d579",
   "metadata": {},
   "outputs": [
    {
     "data": {
      "text/plain": [
       "[5, 10, 15, 20, 25, 23, 34.7, -45, 56, 'suraj']"
      ]
     },
     "execution_count": 6,
     "metadata": {},
     "output_type": "execute_result"
    }
   ],
   "source": [
    "#multidata inputs\n",
    "num.extend([-45,56,'suraj'])\n",
    "num"
   ]
  },
  {
   "cell_type": "code",
   "execution_count": 7,
   "id": "3d05351e",
   "metadata": {},
   "outputs": [
    {
     "data": {
      "text/plain": [
       "['Start', 5, 10, 15, 20, 25, 23, 34.7, -45, 56, 'suraj']"
      ]
     },
     "execution_count": 7,
     "metadata": {},
     "output_type": "execute_result"
    }
   ],
   "source": [
    "#insert at a specific position\n",
    "num.insert(0,'Start')\n",
    "num"
   ]
  },
  {
   "cell_type": "code",
   "execution_count": 11,
   "id": "f1cc90ac",
   "metadata": {},
   "outputs": [
    {
     "data": {
      "text/plain": [
       "['Start', 5, 10, 15, 20, 25, 23, 34.7, -45, 56, 'Mr', 'Mr', 'suraj', 'Mr']"
      ]
     },
     "execution_count": 11,
     "metadata": {},
     "output_type": "execute_result"
    }
   ],
   "source": [
    "num"
   ]
  },
  {
   "cell_type": "code",
   "execution_count": 12,
   "id": "a62b7933",
   "metadata": {},
   "outputs": [
    {
     "data": {
      "text/plain": [
       "['Start', 5, 10, 15, 20, 25, 23, 34.7, -45, 56, 'Mr', 'suraj', 'Mr']"
      ]
     },
     "execution_count": 12,
     "metadata": {},
     "output_type": "execute_result"
    }
   ],
   "source": [
    "#reoval of data at a specific position\n",
    "num.remove('Mr')\n",
    "num"
   ]
  },
  {
   "cell_type": "code",
   "execution_count": 13,
   "id": "7048d290",
   "metadata": {},
   "outputs": [
    {
     "data": {
      "text/plain": [
       "['Start', 5, 10, 15, 20, 25, 23, 34.7, -45, 56, 'Mr', 'suraj']"
      ]
     },
     "execution_count": 13,
     "metadata": {},
     "output_type": "execute_result"
    }
   ],
   "source": [
    "num.pop()\n",
    "num"
   ]
  },
  {
   "cell_type": "code",
   "execution_count": 14,
   "id": "6d1e28fd",
   "metadata": {},
   "outputs": [
    {
     "data": {
      "text/plain": [
       "'suraj'"
      ]
     },
     "execution_count": 14,
     "metadata": {},
     "output_type": "execute_result"
    }
   ],
   "source": [
    "num.pop(-1)"
   ]
  },
  {
   "cell_type": "code",
   "execution_count": 15,
   "id": "1dca0460",
   "metadata": {},
   "outputs": [
    {
     "data": {
      "text/plain": [
       "['Start', 5, 10, 15, 20, 25, 23, 34.7, -45, 56, 'Mr']"
      ]
     },
     "execution_count": 15,
     "metadata": {},
     "output_type": "execute_result"
    }
   ],
   "source": [
    "num"
   ]
  },
  {
   "cell_type": "code",
   "execution_count": 16,
   "id": "2913d0a5",
   "metadata": {},
   "outputs": [
    {
     "data": {
      "text/plain": [
       "10"
      ]
     },
     "execution_count": 16,
     "metadata": {},
     "output_type": "execute_result"
    }
   ],
   "source": [
    "num.pop(-9)"
   ]
  },
  {
   "cell_type": "code",
   "execution_count": 17,
   "id": "e5f74ea0",
   "metadata": {},
   "outputs": [
    {
     "data": {
      "text/plain": [
       "['Start', 5, 15, 20, 25, 23, 34.7, -45, 56, 'Mr']"
      ]
     },
     "execution_count": 17,
     "metadata": {},
     "output_type": "execute_result"
    }
   ],
   "source": [
    "num"
   ]
  },
  {
   "cell_type": "code",
   "execution_count": 19,
   "id": "22c24c45",
   "metadata": {},
   "outputs": [
    {
     "data": {
      "text/plain": [
       "'abcdefghijklmnopqrstuvwxyz'"
      ]
     },
     "execution_count": 19,
     "metadata": {},
     "output_type": "execute_result"
    }
   ],
   "source": [
    "import string\n",
    "string.ascii_lowercase"
   ]
  },
  {
   "cell_type": "code",
   "execution_count": 21,
   "id": "331c7109",
   "metadata": {},
   "outputs": [
    {
     "data": {
      "text/plain": [
       "'f'"
      ]
     },
     "execution_count": 21,
     "metadata": {},
     "output_type": "execute_result"
    }
   ],
   "source": [
    "string.ascii_lowercase[5] "
   ]
  },
  {
   "cell_type": "code",
   "execution_count": 22,
   "id": "45db26ad",
   "metadata": {},
   "outputs": [
    {
     "data": {
      "text/plain": [
       "['Start', 5, 15, 20, 25, 23, 34.7, -45, 56, 'Mr']"
      ]
     },
     "execution_count": 22,
     "metadata": {},
     "output_type": "execute_result"
    }
   ],
   "source": [
    "num"
   ]
  },
  {
   "cell_type": "code",
   "execution_count": 23,
   "id": "54624365",
   "metadata": {},
   "outputs": [],
   "source": [
    "num.remove('Start')"
   ]
  },
  {
   "cell_type": "code",
   "execution_count": 24,
   "id": "778b93e3",
   "metadata": {},
   "outputs": [
    {
     "data": {
      "text/plain": [
       "[5, 15, 20, 25, 23, 34.7, -45, 56, 'Mr']"
      ]
     },
     "execution_count": 24,
     "metadata": {},
     "output_type": "execute_result"
    }
   ],
   "source": [
    "num"
   ]
  },
  {
   "cell_type": "code",
   "execution_count": 25,
   "id": "fd4c1cd0",
   "metadata": {},
   "outputs": [],
   "source": [
    "num.remove('Mr')\n",
    "num.remove(56)\n",
    "num.remove(-45)"
   ]
  },
  {
   "cell_type": "code",
   "execution_count": 26,
   "id": "dc49371e",
   "metadata": {},
   "outputs": [
    {
     "data": {
      "text/plain": [
       "[5, 15, 20, 25, 23, 34.7]"
      ]
     },
     "execution_count": 26,
     "metadata": {},
     "output_type": "execute_result"
    }
   ],
   "source": [
    "num"
   ]
  },
  {
   "cell_type": "code",
   "execution_count": 27,
   "id": "43ad32c0",
   "metadata": {},
   "outputs": [
    {
     "data": {
      "text/plain": [
       "[5, 15, 20, 25, 23]"
      ]
     },
     "execution_count": 27,
     "metadata": {},
     "output_type": "execute_result"
    }
   ],
   "source": [
    "num.remove(34.7)\n",
    "num"
   ]
  },
  {
   "cell_type": "code",
   "execution_count": 28,
   "id": "b377e074",
   "metadata": {},
   "outputs": [
    {
     "name": "stdout",
     "output_type": "stream",
     "text": [
      "5 e\n",
      "15 o\n",
      "20 t\n",
      "25 y\n",
      "23 w\n"
     ]
    }
   ],
   "source": [
    "for i in num:\n",
    "    print( i, string.ascii_lowercase[i-1])"
   ]
  },
  {
   "cell_type": "code",
   "execution_count": 29,
   "id": "649538de",
   "metadata": {},
   "outputs": [
    {
     "data": {
      "text/plain": [
       "[-5, -4, [-3, -2, [-1, 0, 1], 2, 3], 4, 5]"
      ]
     },
     "execution_count": 29,
     "metadata": {},
     "output_type": "execute_result"
    }
   ],
   "source": [
    "#multi-index list\n",
    "multi_index_list=[-5 , -4 , [ -3 , -2 , [-1 , 0 , 1], 2, 3], 4, 5]\n",
    "multi_index_list"
   ]
  },
  {
   "cell_type": "code",
   "execution_count": 30,
   "id": "3d8c9f16",
   "metadata": {},
   "outputs": [
    {
     "data": {
      "text/plain": [
       "-5"
      ]
     },
     "execution_count": 30,
     "metadata": {},
     "output_type": "execute_result"
    }
   ],
   "source": [
    "multi_index_list[0]"
   ]
  },
  {
   "cell_type": "code",
   "execution_count": 31,
   "id": "60b7e69f",
   "metadata": {},
   "outputs": [
    {
     "data": {
      "text/plain": [
       "[-3, -2, [-1, 0, 1], 2, 3]"
      ]
     },
     "execution_count": 31,
     "metadata": {},
     "output_type": "execute_result"
    }
   ],
   "source": [
    "multi_index_list[2]"
   ]
  },
  {
   "cell_type": "code",
   "execution_count": 32,
   "id": "168a0954",
   "metadata": {},
   "outputs": [
    {
     "data": {
      "text/plain": [
       "4"
      ]
     },
     "execution_count": 32,
     "metadata": {},
     "output_type": "execute_result"
    }
   ],
   "source": [
    "multi_index_list[3]"
   ]
  },
  {
   "cell_type": "code",
   "execution_count": 33,
   "id": "c6c079f1",
   "metadata": {},
   "outputs": [
    {
     "data": {
      "text/plain": [
       "-3"
      ]
     },
     "execution_count": 33,
     "metadata": {},
     "output_type": "execute_result"
    }
   ],
   "source": [
    "multi_index_list[2][0]"
   ]
  },
  {
   "cell_type": "code",
   "execution_count": 34,
   "id": "83fed63d",
   "metadata": {},
   "outputs": [
    {
     "data": {
      "text/plain": [
       "[-1, 0, 1]"
      ]
     },
     "execution_count": 34,
     "metadata": {},
     "output_type": "execute_result"
    }
   ],
   "source": [
    "multi_index_list[2][2]"
   ]
  },
  {
   "cell_type": "code",
   "execution_count": 35,
   "id": "b2d4bef9",
   "metadata": {},
   "outputs": [
    {
     "data": {
      "text/plain": [
       "1"
      ]
     },
     "execution_count": 35,
     "metadata": {},
     "output_type": "execute_result"
    }
   ],
   "source": [
    "multi_index_list[2][2][2]"
   ]
  },
  {
   "cell_type": "code",
   "execution_count": 36,
   "id": "dfb8d4f4",
   "metadata": {},
   "outputs": [
    {
     "data": {
      "text/plain": [
       "0"
      ]
     },
     "execution_count": 36,
     "metadata": {},
     "output_type": "execute_result"
    }
   ],
   "source": [
    "multi_index_list[2][2][1]"
   ]
  },
  {
   "cell_type": "code",
   "execution_count": 37,
   "id": "d644040a",
   "metadata": {},
   "outputs": [
    {
     "name": "stdout",
     "output_type": "stream",
     "text": [
      "-5\n",
      "-4\n",
      "[-3, -2, [-1, 0, 1], 2, 3]\n",
      "4\n",
      "5\n"
     ]
    }
   ],
   "source": [
    "for i in multi_index_list:\n",
    "    print(i)"
   ]
  },
  {
   "cell_type": "code",
   "execution_count": 38,
   "id": "fb6fc546",
   "metadata": {},
   "outputs": [
    {
     "name": "stdout",
     "output_type": "stream",
     "text": [
      "['p', 'n', 'k', 'q', 'l', 'v', 'y', 't', 'z', 'd', 'i', 'h', 'f', 's', 'g', 'u', 'r', 'w', 'x', 'o', 'b', 'e', 'a', 'c', 'm', 'j']\n"
     ]
    }
   ],
   "source": [
    "import random\n",
    "print(random.sample(string.ascii_lowercase,26))"
   ]
  },
  {
   "cell_type": "code",
   "execution_count": 39,
   "id": "edea2649",
   "metadata": {},
   "outputs": [
    {
     "name": "stdout",
     "output_type": "stream",
     "text": [
      "['c', 'q', 'b', 'y', 'w', 'l', 't', 'a', 'h', 'j', 'g', 'f', 'r', 'e', 'i', 'k', 'x', 'u', 'd', 's', 'p', 'm', 'v', 'n', 'z', 'o']\n"
     ]
    }
   ],
   "source": [
    "unsorted_list=random.sample(string.ascii_lowercase,26)\n",
    "print(unsorted_list)"
   ]
  },
  {
   "cell_type": "code",
   "execution_count": 42,
   "id": "7767217f",
   "metadata": {},
   "outputs": [
    {
     "name": "stdout",
     "output_type": "stream",
     "text": [
      "['a', 'b', 'c', 'd', 'e', 'f', 'g', 'h', 'i', 'j', 'k', 'l', 'm', 'n', 'o', 'p', 'q', 'r', 's', 't', 'u', 'v', 'w', 'x', 'y', 'z']\n"
     ]
    }
   ],
   "source": [
    "#sort the unsorted list\n",
    "unsorted_list.sort()\n",
    "print(unsorted_list)"
   ]
  },
  {
   "cell_type": "markdown",
   "id": "f4dfc8e7",
   "metadata": {},
   "source": [
    "### tuples"
   ]
  },
  {
   "cell_type": "code",
   "execution_count": 50,
   "id": "167d73cc",
   "metadata": {},
   "outputs": [],
   "source": [
    "sample_list_letters=random.sample(string.ascii_letters,7)"
   ]
  },
  {
   "cell_type": "code",
   "execution_count": 54,
   "id": "ac308b7f",
   "metadata": {},
   "outputs": [
    {
     "data": {
      "text/plain": [
       "['M', 'R', 'v', 'p', 'A', 'S', 'D']"
      ]
     },
     "execution_count": 54,
     "metadata": {},
     "output_type": "execute_result"
    }
   ],
   "source": [
    "sample_list_letters"
   ]
  },
  {
   "cell_type": "code",
   "execution_count": 55,
   "id": "efb8bb76",
   "metadata": {},
   "outputs": [],
   "source": [
    "#constructor method of tuples\n",
    "tuple_values=tuple(sample_list_letters)"
   ]
  },
  {
   "cell_type": "code",
   "execution_count": 63,
   "id": "c733709b",
   "metadata": {},
   "outputs": [
    {
     "data": {
      "text/plain": [
       "0"
      ]
     },
     "execution_count": 63,
     "metadata": {},
     "output_type": "execute_result"
    }
   ],
   "source": [
    "#methodes in tuples\n",
    "tuple_values.count('o')"
   ]
  },
  {
   "cell_type": "code",
   "execution_count": 62,
   "id": "179965b9",
   "metadata": {},
   "outputs": [
    {
     "data": {
      "text/plain": [
       "1"
      ]
     },
     "execution_count": 62,
     "metadata": {},
     "output_type": "execute_result"
    }
   ],
   "source": [
    "tuple_values.count('R')"
   ]
  },
  {
   "cell_type": "code",
   "execution_count": 65,
   "id": "b82208d5",
   "metadata": {},
   "outputs": [
    {
     "data": {
      "text/plain": [
       "3"
      ]
     },
     "execution_count": 65,
     "metadata": {},
     "output_type": "execute_result"
    }
   ],
   "source": [
    "tuple_values.index('p')"
   ]
  },
  {
   "cell_type": "markdown",
   "id": "04968a7f",
   "metadata": {},
   "source": [
    "### Sets "
   ]
  },
  {
   "cell_type": "code",
   "execution_count": 66,
   "id": "918225c4",
   "metadata": {},
   "outputs": [
    {
     "data": {
      "text/plain": [
       "{1, 2, 3, 4, 5, 6, 7}"
      ]
     },
     "execution_count": 66,
     "metadata": {},
     "output_type": "execute_result"
    }
   ],
   "source": [
    "{1,2,3,2,4,3,6,7,5,1}"
   ]
  },
  {
   "cell_type": "code",
   "execution_count": 67,
   "id": "61fb0995",
   "metadata": {},
   "outputs": [],
   "source": [
    "a={1,2,3}\n",
    "b={3,4,5}"
   ]
  },
  {
   "cell_type": "code",
   "execution_count": 69,
   "id": "3ae4e542",
   "metadata": {},
   "outputs": [
    {
     "data": {
      "text/plain": [
       "({3}, {3})"
      ]
     },
     "execution_count": 69,
     "metadata": {},
     "output_type": "execute_result"
    }
   ],
   "source": [
    "#intersection\n",
    "a&b,a.intersection(b)"
   ]
  },
  {
   "cell_type": "code",
   "execution_count": 70,
   "id": "a97f893b",
   "metadata": {},
   "outputs": [
    {
     "data": {
      "text/plain": [
       "{1, 2, 3, 4, 5}"
      ]
     },
     "execution_count": 70,
     "metadata": {},
     "output_type": "execute_result"
    }
   ],
   "source": [
    "#union\n",
    "a|b"
   ]
  },
  {
   "cell_type": "code",
   "execution_count": 71,
   "id": "6a73a85a",
   "metadata": {},
   "outputs": [
    {
     "data": {
      "text/plain": [
       "({1, 2}, {4, 5})"
      ]
     },
     "execution_count": 71,
     "metadata": {},
     "output_type": "execute_result"
    }
   ],
   "source": [
    "#diference\n",
    "a-b,b-a"
   ]
  },
  {
   "cell_type": "code",
   "execution_count": 72,
   "id": "ee0b9050",
   "metadata": {},
   "outputs": [
    {
     "data": {
      "text/plain": [
       "{1, 2, 4, 5}"
      ]
     },
     "execution_count": 72,
     "metadata": {},
     "output_type": "execute_result"
    }
   ],
   "source": [
    "#find the different element in both sets\n",
    "a.symmetric_difference(b)"
   ]
  },
  {
   "cell_type": "code",
   "execution_count": 73,
   "id": "984cf020",
   "metadata": {},
   "outputs": [
    {
     "data": {
      "text/plain": [
       "True"
      ]
     },
     "execution_count": 73,
     "metadata": {},
     "output_type": "execute_result"
    }
   ],
   "source": [
    "#subset\n",
    "{4,2}.issubset(a.symmetric_difference(b))"
   ]
  },
  {
   "cell_type": "markdown",
   "id": "e6ee0dc6",
   "metadata": {},
   "source": [
    "### dictionary "
   ]
  },
  {
   "cell_type": "code",
   "execution_count": 74,
   "id": "5ae517e4",
   "metadata": {},
   "outputs": [],
   "source": [
    "#creating a dict\n",
    "sa={'a':5,'b':10}"
   ]
  },
  {
   "cell_type": "code",
   "execution_count": 75,
   "id": "2dcfe318",
   "metadata": {},
   "outputs": [
    {
     "data": {
      "text/plain": [
       "{'a': 5, 'b': 10}"
      ]
     },
     "execution_count": 75,
     "metadata": {},
     "output_type": "execute_result"
    }
   ],
   "source": [
    "sa"
   ]
  },
  {
   "cell_type": "code",
   "execution_count": 76,
   "id": "5319736d",
   "metadata": {},
   "outputs": [
    {
     "data": {
      "text/plain": [
       "dict_keys(['a', 'b'])"
      ]
     },
     "execution_count": 76,
     "metadata": {},
     "output_type": "execute_result"
    }
   ],
   "source": [
    "sa.keys()"
   ]
  },
  {
   "cell_type": "code",
   "execution_count": 77,
   "id": "b6bfc86a",
   "metadata": {},
   "outputs": [
    {
     "data": {
      "text/plain": [
       "dict_values([5, 10])"
      ]
     },
     "execution_count": 77,
     "metadata": {},
     "output_type": "execute_result"
    }
   ],
   "source": [
    "sa.values()"
   ]
  },
  {
   "cell_type": "code",
   "execution_count": 78,
   "id": "3113e02f",
   "metadata": {},
   "outputs": [
    {
     "data": {
      "text/plain": [
       "dict_items([('a', 5), ('b', 10)])"
      ]
     },
     "execution_count": 78,
     "metadata": {},
     "output_type": "execute_result"
    }
   ],
   "source": [
    "sa.items()"
   ]
  },
  {
   "cell_type": "code",
   "execution_count": 80,
   "id": "59db576b",
   "metadata": {},
   "outputs": [
    {
     "name": "stdout",
     "output_type": "stream",
     "text": [
      "a\n",
      "b\n"
     ]
    }
   ],
   "source": [
    "for i in sa:\n",
    "    print(i)"
   ]
  },
  {
   "cell_type": "code",
   "execution_count": 84,
   "id": "4c6c0860",
   "metadata": {},
   "outputs": [
    {
     "name": "stdout",
     "output_type": "stream",
     "text": [
      "a 5\n",
      "b 10\n"
     ]
    }
   ],
   "source": [
    "for i in sa:\n",
    "    print(i,sa[i])"
   ]
  },
  {
   "cell_type": "code",
   "execution_count": null,
   "id": "4f8d5d0a",
   "metadata": {},
   "outputs": [],
   "source": []
  }
 ],
 "metadata": {
  "kernelspec": {
   "display_name": "Python 3",
   "language": "python",
   "name": "python3"
  },
  "language_info": {
   "codemirror_mode": {
    "name": "ipython",
    "version": 3
   },
   "file_extension": ".py",
   "mimetype": "text/x-python",
   "name": "python",
   "nbconvert_exporter": "python",
   "pygments_lexer": "ipython3",
   "version": "3.8.8"
  }
 },
 "nbformat": 4,
 "nbformat_minor": 5
}
