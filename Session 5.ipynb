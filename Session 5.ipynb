{
 "cells": [
  {
   "cell_type": "code",
   "execution_count": 1,
   "id": "0687746a",
   "metadata": {},
   "outputs": [],
   "source": [
    "#How to write a function and call it\n",
    "def Sqaure(param):\n",
    "    return param**2"
   ]
  },
  {
   "cell_type": "code",
   "execution_count": 2,
   "id": "d5670a59",
   "metadata": {},
   "outputs": [
    {
     "data": {
      "text/plain": [
       "36"
      ]
     },
     "execution_count": 2,
     "metadata": {},
     "output_type": "execute_result"
    }
   ],
   "source": [
    "Sqaure(param=6)"
   ]
  },
  {
   "cell_type": "code",
   "execution_count": 3,
   "id": "9bedd83d",
   "metadata": {},
   "outputs": [
    {
     "data": {
      "text/plain": [
       "100"
      ]
     },
     "execution_count": 3,
     "metadata": {},
     "output_type": "execute_result"
    }
   ],
   "source": [
    "Sqaure(param=10)"
   ]
  },
  {
   "cell_type": "code",
   "execution_count": 8,
   "id": "81186519",
   "metadata": {},
   "outputs": [],
   "source": [
    "#if i want to take multi ple arguments at a time\n",
    "def add(*num):\n",
    "    return sum(num)"
   ]
  },
  {
   "cell_type": "code",
   "execution_count": 9,
   "id": "38799f4d",
   "metadata": {},
   "outputs": [
    {
     "data": {
      "text/plain": [
       "14"
      ]
     },
     "execution_count": 9,
     "metadata": {},
     "output_type": "execute_result"
    }
   ],
   "source": [
    "add(2,3,4,5)"
   ]
  },
  {
   "cell_type": "code",
   "execution_count": 22,
   "id": "3c14ce42",
   "metadata": {},
   "outputs": [],
   "source": [
    "d=[1 , 2, 3, 4]\n",
    "s=[]\n",
    "for num in d:\n",
    "    s.append(pow(num,2))"
   ]
  },
  {
   "cell_type": "code",
   "execution_count": 25,
   "id": "d6095e0a",
   "metadata": {},
   "outputs": [
    {
     "data": {
      "text/plain": [
       "[1, 4, 9, 16]"
      ]
     },
     "execution_count": 25,
     "metadata": {},
     "output_type": "execute_result"
    }
   ],
   "source": [
    "s"
   ]
  },
  {
   "cell_type": "code",
   "execution_count": 2,
   "id": "9569be43",
   "metadata": {},
   "outputs": [],
   "source": [
    "def Squre_Mul(*param):\n",
    "    s=[]\n",
    "    for num in param:\n",
    "        s.append(pow(num,2))\n",
    "        return param , tuple(s)\n",
    "    "
   ]
  },
  {
   "cell_type": "code",
   "execution_count": 3,
   "id": "e6d94e0d",
   "metadata": {},
   "outputs": [
    {
     "data": {
      "text/plain": [
       "((3, 6), (9,))"
      ]
     },
     "execution_count": 3,
     "metadata": {},
     "output_type": "execute_result"
    }
   ],
   "source": [
    "Squre_Mul(3,6)"
   ]
  },
  {
   "cell_type": "code",
   "execution_count": 1,
   "id": "38b98b7e",
   "metadata": {},
   "outputs": [
    {
     "ename": "NameError",
     "evalue": "name 'Squre_Mul' is not defined",
     "output_type": "error",
     "traceback": [
      "\u001b[1;31m---------------------------------------------------------------------------\u001b[0m",
      "\u001b[1;31mNameError\u001b[0m                                 Traceback (most recent call last)",
      "\u001b[1;32m<ipython-input-1-abd44704949b>\u001b[0m in \u001b[0;36m<module>\u001b[1;34m\u001b[0m\n\u001b[1;32m----> 1\u001b[1;33m \u001b[0mSqure_Mul\u001b[0m\u001b[1;33m(\u001b[0m\u001b[1;36m5\u001b[0m\u001b[1;33m,\u001b[0m\u001b[1;36m6\u001b[0m\u001b[1;33m,\u001b[0m\u001b[1;36m8\u001b[0m\u001b[1;33m)\u001b[0m\u001b[1;33m\u001b[0m\u001b[1;33m\u001b[0m\u001b[0m\n\u001b[0m",
      "\u001b[1;31mNameError\u001b[0m: name 'Squre_Mul' is not defined"
     ]
    }
   ],
   "source": [
    "Squre_Mul(5,6,8)"
   ]
  },
  {
   "cell_type": "code",
   "execution_count": 5,
   "id": "0530a865",
   "metadata": {},
   "outputs": [],
   "source": [
    "def Squre_Mul(*num):\n",
    "    s=[]\n",
    "    for num in num:\n",
    "        s.append(pow(num,2))\n",
    "        return tuple(s)"
   ]
  },
  {
   "cell_type": "code",
   "execution_count": 6,
   "id": "24c275dc",
   "metadata": {},
   "outputs": [
    {
     "data": {
      "text/plain": [
       "(9,)"
      ]
     },
     "execution_count": 6,
     "metadata": {},
     "output_type": "execute_result"
    }
   ],
   "source": [
    "Squre_Mul(3,5,6)"
   ]
  },
  {
   "cell_type": "code",
   "execution_count": 9,
   "id": "d85f85ad",
   "metadata": {},
   "outputs": [],
   "source": [
    "def add(*num):\n",
    " return sum(num)"
   ]
  },
  {
   "cell_type": "code",
   "execution_count": 10,
   "id": "361de03c",
   "metadata": {},
   "outputs": [
    {
     "data": {
      "text/plain": [
       "28"
      ]
     },
     "execution_count": 10,
     "metadata": {},
     "output_type": "execute_result"
    }
   ],
   "source": [
    "add(1,4,6,8,9)"
   ]
  },
  {
   "cell_type": "code",
   "execution_count": 11,
   "id": "e2aeef7a",
   "metadata": {},
   "outputs": [
    {
     "name": "stdout",
     "output_type": "stream",
     "text": [
      "1\n",
      "2\n",
      "3\n",
      "4\n",
      "5\n",
      "Loop executed correctly [i reached 6]\n"
     ]
    }
   ],
   "source": [
    "i=1\n",
    "while i<6:\n",
    "    print(i)\n",
    "    i+=1 #reinitialize the value of i\n",
    "else:\n",
    "    print('Loop executed correctly [i reached 6]')"
   ]
  },
  {
   "cell_type": "markdown",
   "id": "2111ecc1",
   "metadata": {},
   "source": [
    "# Gussing Number Program"
   ]
  },
  {
   "cell_type": "code",
   "execution_count": 15,
   "id": "4880c7c2",
   "metadata": {},
   "outputs": [
    {
     "data": {
      "text/plain": [
       "0.7566972830338992"
      ]
     },
     "execution_count": 15,
     "metadata": {},
     "output_type": "execute_result"
    }
   ],
   "source": [
    "import random\n",
    "random.random()"
   ]
  },
  {
   "cell_type": "code",
   "execution_count": 18,
   "id": "d8c9232e",
   "metadata": {},
   "outputs": [
    {
     "name": "stdout",
     "output_type": "stream",
     "text": [
      "new number: 6\n",
      "number is small\n",
      "new number: 8\n",
      "number is small\n",
      "new number: 10\n",
      "number is small\n",
      "new number: 12\n",
      "congratuletion,you guessed it.\n"
     ]
    }
   ],
   "source": [
    "number_guess=int(10*random.random())+3  #initialize from m,achin\n",
    "guess=0\n",
    "while guess!=number_guess:\n",
    "    guess=int(input('new number: '))\n",
    "    if guess>0:\n",
    "        if guess>number_guess:\n",
    "            print('nuber is large')\n",
    "        elif guess<number_guess:\n",
    "            print('number is small')\n",
    "    else:\n",
    "        print('invalid input')\n",
    "        break\n",
    "else:\n",
    "    print('congratuletion,you guessed it.')\n",
    "        \n",
    "        "
   ]
  },
  {
   "cell_type": "code",
   "execution_count": 19,
   "id": "c6440bdd",
   "metadata": {},
   "outputs": [
    {
     "name": "stdout",
     "output_type": "stream",
     "text": [
      "sun\n",
      "mon\n",
      "tue\n",
      "wed\n",
      "thu\n",
      "fri\n",
      "sat\n"
     ]
    }
   ],
   "source": [
    "days=[\"sun\",\"mon\",\"tue\",\"wed\",\"thu\",\"fri\",\"sat\"]\n",
    "for x in days:\n",
    "    print(x)"
   ]
  },
  {
   "cell_type": "code",
   "execution_count": 22,
   "id": "a65950a5",
   "metadata": {},
   "outputs": [
    {
     "ename": "IndentationError",
     "evalue": "expected an indented block (<ipython-input-22-707d904033e6>, line 2)",
     "output_type": "error",
     "traceback": [
      "\u001b[1;36m  File \u001b[1;32m\"<ipython-input-22-707d904033e6>\"\u001b[1;36m, line \u001b[1;32m2\u001b[0m\n\u001b[1;33m    print(elements)\u001b[0m\n\u001b[1;37m    ^\u001b[0m\n\u001b[1;31mIndentationError\u001b[0m\u001b[1;31m:\u001b[0m expected an indented block\n"
     ]
    }
   ],
   "source": [
    "for elements in [[1,2,3],[4,5]]:\n",
    "print(elements)"
   ]
  },
  {
   "cell_type": "code",
   "execution_count": 23,
   "id": "1d1d747c",
   "metadata": {},
   "outputs": [
    {
     "name": "stdout",
     "output_type": "stream",
     "text": [
      "1\n",
      "2\n",
      "3\n"
     ]
    }
   ],
   "source": [
    "for elemewnts in [1,2,3]:\n",
    "    print(elemewnts)"
   ]
  },
  {
   "cell_type": "code",
   "execution_count": 24,
   "id": "80e8fb6a",
   "metadata": {},
   "outputs": [
    {
     "name": "stdout",
     "output_type": "stream",
     "text": [
      "[1, 2]\n",
      "[3, 4]\n",
      "[7]\n"
     ]
    }
   ],
   "source": [
    "for elements in [[1,2],[3,4],[7]]:\n",
    "    print(elements)"
   ]
  },
  {
   "cell_type": "markdown",
   "id": "e17910f6",
   "metadata": {},
   "source": [
    "FACTORIAL"
   ]
  },
  {
   "cell_type": "code",
   "execution_count": 31,
   "id": "73e47f01",
   "metadata": {},
   "outputs": [
    {
     "name": "stdout",
     "output_type": "stream",
     "text": [
      "number :5\n",
      "120\n"
     ]
    }
   ],
   "source": [
    "num=int(input(\"number :\"))  #USER INPUT\n",
    "factorial=1\n",
    "if num<0:\n",
    "    print(\"invalid input\")\n",
    "elif num==0:\n",
    "    print(\"factorial is 1\")\n",
    "else:\n",
    "    for i in range(1,num+1):\n",
    "        factorial=factorial*i\n",
    "print(factorial)"
   ]
  },
  {
   "cell_type": "code",
   "execution_count": 34,
   "id": "b9168d35",
   "metadata": {},
   "outputs": [],
   "source": [
    "def Factorial(number):   # CALL BY FUNCTION\n",
    "    factorial=1\n",
    "    for i in range(1,number+1):\n",
    "        factorial=factorial*i\n",
    "    print(factorial)\n",
    "    "
   ]
  },
  {
   "cell_type": "code",
   "execution_count": 36,
   "id": "56b9f9e4",
   "metadata": {},
   "outputs": [
    {
     "name": "stdout",
     "output_type": "stream",
     "text": [
      "120\n"
     ]
    }
   ],
   "source": [
    "Factorial(5)"
   ]
  },
  {
   "cell_type": "markdown",
   "id": "b45fba6e",
   "metadata": {},
   "source": [
    "# Break,Continue and Pass Statement\n"
   ]
  },
  {
   "cell_type": "code",
   "execution_count": 40,
   "id": "0379d77c",
   "metadata": {},
   "outputs": [
    {
     "name": "stdout",
     "output_type": "stream",
     "text": [
      "2\n",
      "3\n",
      "4\n",
      "loop ended\n"
     ]
    }
   ],
   "source": [
    "for numbers in [2,3,4,5,6]: # after 5 the loop terminate\n",
    "    if numbers==5:\n",
    "        break\n",
    "    print(numbers)\n",
    "print('loop ended')"
   ]
  },
  {
   "cell_type": "code",
   "execution_count": 41,
   "id": "1f1ebb18",
   "metadata": {},
   "outputs": [
    {
     "name": "stdout",
     "output_type": "stream",
     "text": [
      "2\n",
      "3\n",
      "4\n",
      "6\n",
      "loop ended\n"
     ]
    }
   ],
   "source": [
    "for numbers in [2,3,4,5,6]: # only 5 value skiped by loop\n",
    "    if numbers==5:\n",
    "        continue\n",
    "    print(numbers)\n",
    "print('loop ended')"
   ]
  },
  {
   "cell_type": "code",
   "execution_count": 42,
   "id": "6d3e288e",
   "metadata": {},
   "outputs": [
    {
     "name": "stdout",
     "output_type": "stream",
     "text": [
      "2\n",
      "3\n",
      "4\n",
      "5\n",
      "6\n",
      "loop ended\n"
     ]
    }
   ],
   "source": [
    "for numbers in [2,3,4,5,6]: # no change\n",
    "    if numbers==5:\n",
    "        pass\n",
    "    print(numbers)\n",
    "print('loop ended')"
   ]
  },
  {
   "cell_type": "markdown",
   "id": "d6869625",
   "metadata": {},
   "source": [
    "# Passenger Traveler Info."
   ]
  },
  {
   "cell_type": "code",
   "execution_count": 43,
   "id": "17c49ca5",
   "metadata": {},
   "outputs": [
    {
     "name": "stdout",
     "output_type": "stream",
     "text": [
      "yes or no :yes\n",
      "Enter number of people :2\n",
      "\n",
      "Name of the passenger :suraj\n",
      "Age :20\n",
      "Gender:m\n",
      "\n",
      "Name of the passenger :akash\n",
      "Age :21\n",
      "Gender:m\n",
      "\n",
      "Confirm entry[yes or no]\n",
      "\n",
      "Missed anyone :no\n",
      "\n",
      "_ _ _ _ _ _Passenger5 Informationb _ _ _ _ _\n",
      "Passenger1:('suraj', 'M', '20')\n",
      "Passenger2:('akash', 'M', '21')\n"
     ]
    }
   ],
   "source": [
    "Passenger_Name,Gender,Age=[],[],[]\n",
    "travelling=input(\"yes or no :\")\n",
    "while travelling==\"yes\" :\n",
    "    num=int(input(\"Enter number of people :\"))\n",
    "    for num in range(1,num+1):\n",
    "        name=input(\"\\nName of the passenger :\").split()[0]\n",
    "        Passenger_Name.append(name)\n",
    "        age=input(\"Age :\")\n",
    "        Age.append(age)\n",
    "        gender=input(\"Gender:\").upper()[0]\n",
    "        Gender.append(gender)\n",
    "    print(\"\\nConfirm entry[yes or no]\\n\")\n",
    "    travelling=input(\"Missed anyone :\")\n",
    "print('\\n_ _ _ _ _ _Passenger5 Informationb _ _ _ _ _')\n",
    "Passenger_data=list(zip(Passenger_Name,Gender,Age))\n",
    "for data in Passenger_data:\n",
    "    print(f'Passenger{Passenger_data.index(data)+1}:{data}')"
   ]
  },
  {
   "cell_type": "code",
   "execution_count": 44,
   "id": "cf2d00b7",
   "metadata": {},
   "outputs": [
    {
     "name": "stdout",
     "output_type": "stream",
     "text": [
      "yes or no :yes\n",
      "Enter number of people :1\n",
      "\n",
      "Name of the passenger :suraj\n",
      "Age :20\n",
      "Gender:m\n",
      "\n",
      "Confirm entry[yes or no]\n",
      "\n",
      "Missed anyone :yes\n",
      "Enter number of people :2\n",
      "\n",
      "Name of the passenger :suraj\n",
      "Age :20\n",
      "Gender:m\n",
      "\n",
      "Name of the passenger :akash\n",
      "Age :21\n",
      "Gender:m\n",
      "\n",
      "Confirm entry[yes or no]\n",
      "\n",
      "Missed anyone :no\n",
      "\n",
      "_ _ _ _ _ _Passenger5 Informationb _ _ _ _ _\n",
      "Passenger1:('suraj', 'M', '20')\n",
      "Passenger1:('suraj', 'M', '20')\n",
      "Passenger3:('akash', 'M', '21')\n"
     ]
    }
   ],
   "source": [
    "Passenger_Name,Gender,Age=[],[],[]\n",
    "travelling=input(\"yes or no :\")\n",
    "while travelling==\"yes\" :\n",
    "    num=int(input(\"Enter number of people :\"))\n",
    "    for num in range(1,num+1):\n",
    "        name=input(\"\\nName of the passenger :\").split()[0]\n",
    "        Passenger_Name.append(name)\n",
    "        age=input(\"Age :\")\n",
    "        Age.append(age)\n",
    "        gender=input(\"Gender:\").upper()[0]\n",
    "        Gender.append(gender)\n",
    "    print(\"\\nConfirm entry[yes or no]\\n\")\n",
    "    travelling=input(\"Missed anyone :\")\n",
    "print('\\n_ _ _ _ _ _Passenger5 Informationb _ _ _ _ _')\n",
    "Passenger_data=list(zip(Passenger_Name,Gender,Age))\n",
    "for data in Passenger_data:\n",
    "    print(f'Passenger{Passenger_data.index(data)+1}:{data}')"
   ]
  },
  {
   "cell_type": "code",
   "execution_count": null,
   "id": "ca781562",
   "metadata": {},
   "outputs": [],
   "source": []
  }
 ],
 "metadata": {
  "kernelspec": {
   "display_name": "Python 3",
   "language": "python",
   "name": "python3"
  },
  "language_info": {
   "codemirror_mode": {
    "name": "ipython",
    "version": 3
   },
   "file_extension": ".py",
   "mimetype": "text/x-python",
   "name": "python",
   "nbconvert_exporter": "python",
   "pygments_lexer": "ipython3",
   "version": "3.8.8"
  }
 },
 "nbformat": 4,
 "nbformat_minor": 5
}
