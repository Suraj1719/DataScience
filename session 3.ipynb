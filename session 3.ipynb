{
 "cells": [
  {
   "cell_type": "markdown",
   "id": "ba46dec1",
   "metadata": {},
   "source": [
    "# Operetors\n",
    "  Arithmetic Operetors"
   ]
  },
  {
   "cell_type": "code",
   "execution_count": 1,
   "id": "f9bfc47b",
   "metadata": {},
   "outputs": [
    {
     "name": "stdout",
     "output_type": "stream",
     "text": [
      "9\n"
     ]
    }
   ],
   "source": [
    "#addition\n",
    "print(4+5)"
   ]
  },
  {
   "cell_type": "code",
   "execution_count": 2,
   "id": "b93b7394",
   "metadata": {},
   "outputs": [
    {
     "name": "stdout",
     "output_type": "stream",
     "text": [
      "-1\n"
     ]
    }
   ],
   "source": [
    "#subtraction\n",
    "print(4-5)"
   ]
  },
  {
   "cell_type": "code",
   "execution_count": 3,
   "id": "c0e814b9",
   "metadata": {},
   "outputs": [
    {
     "name": "stdout",
     "output_type": "stream",
     "text": [
      "20\n"
     ]
    }
   ],
   "source": [
    "#multiplication\n",
    "print(4*5)"
   ]
  },
  {
   "cell_type": "code",
   "execution_count": 4,
   "id": "7f41d04e",
   "metadata": {},
   "outputs": [
    {
     "name": "stdout",
     "output_type": "stream",
     "text": [
      "0.8\n"
     ]
    }
   ],
   "source": [
    "#division\n",
    "print(4/5)"
   ]
  },
  {
   "cell_type": "code",
   "execution_count": 5,
   "id": "39f94e52",
   "metadata": {},
   "outputs": [
    {
     "name": "stdout",
     "output_type": "stream",
     "text": [
      "0\n"
     ]
    }
   ],
   "source": [
    "#integer division/floor division\n",
    "print(4//5)"
   ]
  },
  {
   "cell_type": "code",
   "execution_count": 6,
   "id": "6df3a45a",
   "metadata": {},
   "outputs": [
    {
     "name": "stdout",
     "output_type": "stream",
     "text": [
      "125\n"
     ]
    }
   ],
   "source": [
    "#exponentiation\n",
    "print(5**3)"
   ]
  },
  {
   "cell_type": "code",
   "execution_count": 7,
   "id": "5fec66b5",
   "metadata": {},
   "outputs": [
    {
     "name": "stdout",
     "output_type": "stream",
     "text": [
      "2\n"
     ]
    }
   ],
   "source": [
    "#modulus/remainder\n",
    "print(5%3)"
   ]
  },
  {
   "cell_type": "markdown",
   "id": "a14ddf85",
   "metadata": {},
   "source": [
    "Assignment Operator"
   ]
  },
  {
   "cell_type": "code",
   "execution_count": 8,
   "id": "bb9d5348",
   "metadata": {},
   "outputs": [
    {
     "name": "stdout",
     "output_type": "stream",
     "text": [
      "5\n"
     ]
    }
   ],
   "source": [
    "#equals to\n",
    "x=5\n",
    "print(x)"
   ]
  },
  {
   "cell_type": "code",
   "execution_count": 9,
   "id": "5063cc4f",
   "metadata": {},
   "outputs": [
    {
     "data": {
      "text/plain": [
       "11"
      ]
     },
     "execution_count": 9,
     "metadata": {},
     "output_type": "execute_result"
    }
   ],
   "source": [
    "#add\n",
    "x+=6\n",
    "x"
   ]
  },
  {
   "cell_type": "code",
   "execution_count": 10,
   "id": "0de0337a",
   "metadata": {},
   "outputs": [
    {
     "data": {
      "text/plain": [
       "8"
      ]
     },
     "execution_count": 10,
     "metadata": {},
     "output_type": "execute_result"
    }
   ],
   "source": [
    "x-=3\n",
    "x"
   ]
  },
  {
   "cell_type": "code",
   "execution_count": 20,
   "id": "fc12c59f",
   "metadata": {},
   "outputs": [
    {
     "data": {
      "text/plain": [
       "(3, 3, 3, 3, 3, 3, 3, 3, 3, 3, 3, 3, 3, 3, 3, 3, 3, 3, 3, 3, 3, 3, 3, 3)"
      ]
     },
     "execution_count": 20,
     "metadata": {},
     "output_type": "execute_result"
    }
   ],
   "source": [
    "x*3\n"
   ]
  },
  {
   "cell_type": "code",
   "execution_count": 8,
   "id": "e5b58f91",
   "metadata": {},
   "outputs": [
    {
     "data": {
      "text/plain": [
       "(4, 4, 4, 4, 4, 4, 4, 4)"
      ]
     },
     "execution_count": 8,
     "metadata": {},
     "output_type": "execute_result"
    }
   ],
   "source": [
    "X=8 #IT is not multiplication as ',' is used .It return x number of 4\n",
    "X*=4,\n",
    "X"
   ]
  },
  {
   "cell_type": "code",
   "execution_count": 9,
   "id": "d4c1839f",
   "metadata": {},
   "outputs": [
    {
     "data": {
      "text/plain": [
       "36"
      ]
     },
     "execution_count": 9,
     "metadata": {},
     "output_type": "execute_result"
    }
   ],
   "source": [
    "y=6\n",
    "y*=6\n",
    "y"
   ]
  },
  {
   "cell_type": "markdown",
   "id": "aa78286f",
   "metadata": {},
   "source": [
    "Comparision Operetors"
   ]
  },
  {
   "cell_type": "code",
   "execution_count": 10,
   "id": "5fcefaf5",
   "metadata": {},
   "outputs": [],
   "source": [
    "s=5"
   ]
  },
  {
   "cell_type": "code",
   "execution_count": 11,
   "id": "466da2cb",
   "metadata": {},
   "outputs": [
    {
     "data": {
      "text/plain": [
       "(5, 36)"
      ]
     },
     "execution_count": 11,
     "metadata": {},
     "output_type": "execute_result"
    }
   ],
   "source": [
    "s,y"
   ]
  },
  {
   "cell_type": "code",
   "execution_count": 12,
   "id": "26761ee9",
   "metadata": {},
   "outputs": [
    {
     "data": {
      "text/plain": [
       "False"
      ]
     },
     "execution_count": 12,
     "metadata": {},
     "output_type": "execute_result"
    }
   ],
   "source": [
    "#equalities\n",
    "s==3"
   ]
  },
  {
   "cell_type": "code",
   "execution_count": 13,
   "id": "a524e6f2",
   "metadata": {},
   "outputs": [
    {
     "data": {
      "text/plain": [
       "True"
      ]
     },
     "execution_count": 13,
     "metadata": {},
     "output_type": "execute_result"
    }
   ],
   "source": [
    "s==5"
   ]
  },
  {
   "cell_type": "markdown",
   "id": "271e4213",
   "metadata": {},
   "source": [
    "Logical Operetores\n"
   ]
  },
  {
   "cell_type": "code",
   "execution_count": 14,
   "id": "7f441fcf",
   "metadata": {},
   "outputs": [
    {
     "data": {
      "text/plain": [
       "(True, False, False, False)"
      ]
     },
     "execution_count": 14,
     "metadata": {},
     "output_type": "execute_result"
    }
   ],
   "source": [
    "#and\n",
    "4<5 and 10>2,4>5 and 10>2,4<5 and 10<2,4>5 and 10<2,"
   ]
  },
  {
   "cell_type": "code",
   "execution_count": 15,
   "id": "89d07937",
   "metadata": {},
   "outputs": [
    {
     "data": {
      "text/plain": [
       "(0, 1, 1, 1)"
      ]
     },
     "execution_count": 15,
     "metadata": {},
     "output_type": "execute_result"
    }
   ],
   "source": [
    "#or\n",
    "0|0,0|1,1|0,1|1"
   ]
  },
  {
   "cell_type": "markdown",
   "id": "0474ec8c",
   "metadata": {},
   "source": [
    "Membership operator"
   ]
  },
  {
   "cell_type": "code",
   "execution_count": 16,
   "id": "0247b7e8",
   "metadata": {},
   "outputs": [
    {
     "data": {
      "text/plain": [
       "True"
      ]
     },
     "execution_count": 16,
     "metadata": {},
     "output_type": "execute_result"
    }
   ],
   "source": [
    "import keyword\n",
    "'True' in keyword.kwlist"
   ]
  },
  {
   "cell_type": "code",
   "execution_count": 18,
   "id": "4e050549",
   "metadata": {},
   "outputs": [
    {
     "data": {
      "text/plain": [
       "140727774881712"
      ]
     },
     "execution_count": 18,
     "metadata": {},
     "output_type": "execute_result"
    }
   ],
   "source": [
    "x=5\n",
    "id(x)"
   ]
  },
  {
   "cell_type": "code",
   "execution_count": 19,
   "id": "78fe2fb8",
   "metadata": {},
   "outputs": [
    {
     "data": {
      "text/plain": [
       "140727774882704"
      ]
     },
     "execution_count": 19,
     "metadata": {},
     "output_type": "execute_result"
    }
   ],
   "source": [
    "id(y)"
   ]
  },
  {
   "cell_type": "code",
   "execution_count": 20,
   "id": "a1c9e0e4",
   "metadata": {},
   "outputs": [
    {
     "name": "stdout",
     "output_type": "stream",
     "text": [
      "Help on built-in function id in module builtins:\n",
      "\n",
      "id(obj, /)\n",
      "    Return the identity of an object.\n",
      "    \n",
      "    This is guaranteed to be unique among simultaneously existing objects.\n",
      "    (CPython uses the object's memory address.)\n",
      "\n"
     ]
    }
   ],
   "source": [
    "help(id)"
   ]
  },
  {
   "cell_type": "markdown",
   "id": "185cee03",
   "metadata": {},
   "source": [
    "# DATA TYPES\n",
    "    1.Strings(str)\n",
    "    2.List(list)\n",
    "    3.Tuples(tuple)\n",
    "    4.Set (set)\n",
    "    5.Dictionary(dict)\n",
    "    "
   ]
  },
  {
   "cell_type": "markdown",
   "id": "48c8ddd5",
   "metadata": {},
   "source": [
    "1.strings"
   ]
  },
  {
   "cell_type": "code",
   "execution_count": 26,
   "id": "c1c459b2",
   "metadata": {},
   "outputs": [
    {
     "data": {
      "text/plain": [
       "'abcdefghijklmnopqrstuvwxyzABCDEFGHIJKLMNOPQRSTUVWXYZ'"
      ]
     },
     "execution_count": 26,
     "metadata": {},
     "output_type": "execute_result"
    }
   ],
   "source": [
    "import string as Str\n",
    "Str.ascii_letters"
   ]
  },
  {
   "cell_type": "code",
   "execution_count": 27,
   "id": "b866d3d9",
   "metadata": {},
   "outputs": [
    {
     "data": {
      "text/plain": [
       "'abcdefghijklmnopqrstuvwxyz'"
      ]
     },
     "execution_count": 27,
     "metadata": {},
     "output_type": "execute_result"
    }
   ],
   "source": [
    "Str.ascii_lowercase"
   ]
  },
  {
   "cell_type": "code",
   "execution_count": 28,
   "id": "a5eaccb0",
   "metadata": {},
   "outputs": [
    {
     "data": {
      "text/plain": [
       "'ABCDEFGHIJKLMNOPQRSTUVWXYZ'"
      ]
     },
     "execution_count": 28,
     "metadata": {},
     "output_type": "execute_result"
    }
   ],
   "source": [
    "Str.ascii_uppercase"
   ]
  },
  {
   "cell_type": "code",
   "execution_count": 29,
   "id": "73ee8aec",
   "metadata": {},
   "outputs": [
    {
     "data": {
      "text/plain": [
       "'abcdefghijklmnopqrstuvwxyzABCDEFGHIJKLMNOPQRSTUVWXYZ'"
      ]
     },
     "execution_count": 29,
     "metadata": {},
     "output_type": "execute_result"
    }
   ],
   "source": [
    "Str.ascii_lowercase+Str.ascii_uppercase"
   ]
  },
  {
   "cell_type": "code",
   "execution_count": 31,
   "id": "144c0f2c",
   "metadata": {},
   "outputs": [
    {
     "data": {
      "text/plain": [
       "'Word'"
      ]
     },
     "execution_count": 31,
     "metadata": {},
     "output_type": "execute_result"
    }
   ],
   "source": [
    "Str.capwords('word','/')"
   ]
  },
  {
   "cell_type": "code",
   "execution_count": 32,
   "id": "ded101d7",
   "metadata": {},
   "outputs": [
    {
     "data": {
      "text/plain": [
       "'Wo rd'"
      ]
     },
     "execution_count": 32,
     "metadata": {},
     "output_type": "execute_result"
    }
   ],
   "source": [
    "Str.capwords('wo rd','/')"
   ]
  },
  {
   "cell_type": "code",
   "execution_count": 33,
   "id": "a15ce7a9",
   "metadata": {},
   "outputs": [
    {
     "data": {
      "text/plain": [
       "'0123456789'"
      ]
     },
     "execution_count": 33,
     "metadata": {},
     "output_type": "execute_result"
    }
   ],
   "source": [
    "Str.digits"
   ]
  },
  {
   "cell_type": "code",
   "execution_count": 34,
   "id": "90b7a451",
   "metadata": {},
   "outputs": [
    {
     "data": {
      "text/plain": [
       "'0123456789abcdefABCDEF'"
      ]
     },
     "execution_count": 34,
     "metadata": {},
     "output_type": "execute_result"
    }
   ],
   "source": [
    "Str.hexdigits"
   ]
  },
  {
   "cell_type": "code",
   "execution_count": 35,
   "id": "371a34dd",
   "metadata": {},
   "outputs": [
    {
     "data": {
      "text/plain": [
       "'abs'"
      ]
     },
     "execution_count": 35,
     "metadata": {},
     "output_type": "execute_result"
    }
   ],
   "source": [
    "str.lower('ABS')"
   ]
  },
  {
   "cell_type": "code",
   "execution_count": 36,
   "id": "c74dfd4d",
   "metadata": {},
   "outputs": [
    {
     "data": {
      "text/plain": [
       "'UPPER'"
      ]
     },
     "execution_count": 36,
     "metadata": {},
     "output_type": "execute_result"
    }
   ],
   "source": [
    "'upper'.upper()"
   ]
  },
  {
   "cell_type": "code",
   "execution_count": 37,
   "id": "a9adf266",
   "metadata": {},
   "outputs": [
    {
     "data": {
      "text/plain": [
       "'A sentence'"
      ]
     },
     "execution_count": 37,
     "metadata": {},
     "output_type": "execute_result"
    }
   ],
   "source": [
    "'a sentence'.capitalize()"
   ]
  },
  {
   "cell_type": "code",
   "execution_count": 38,
   "id": "a9eb77d5",
   "metadata": {},
   "outputs": [
    {
     "data": {
      "text/plain": [
       "'Abs Sentence'"
      ]
     },
     "execution_count": 38,
     "metadata": {},
     "output_type": "execute_result"
    }
   ],
   "source": [
    "str.title('abs sentence')"
   ]
  },
  {
   "cell_type": "code",
   "execution_count": 39,
   "id": "8b96b65f",
   "metadata": {},
   "outputs": [
    {
     "data": {
      "text/plain": [
       "'SurAJ KumAr'"
      ]
     },
     "execution_count": 39,
     "metadata": {},
     "output_type": "execute_result"
    }
   ],
   "source": [
    "str.swapcase('sURaj kUMaR')"
   ]
  },
  {
   "cell_type": "code",
   "execution_count": 40,
   "id": "e4abd35b",
   "metadata": {},
   "outputs": [
    {
     "data": {
      "text/plain": [
       "'       suraj        '"
      ]
     },
     "execution_count": 40,
     "metadata": {},
     "output_type": "execute_result"
    }
   ],
   "source": [
    "str.center('suraj',20)"
   ]
  },
  {
   "cell_type": "code",
   "execution_count": 41,
   "id": "5c5a4d26",
   "metadata": {},
   "outputs": [
    {
     "data": {
      "text/plain": [
       "'hello world!'"
      ]
     },
     "execution_count": 41,
     "metadata": {},
     "output_type": "execute_result"
    }
   ],
   "source": [
    "str.strip('     hello world!     ')"
   ]
  },
  {
   "cell_type": "code",
   "execution_count": 42,
   "id": "437880e9",
   "metadata": {},
   "outputs": [
    {
     "data": {
      "text/plain": [
       "2"
      ]
     },
     "execution_count": 42,
     "metadata": {},
     "output_type": "execute_result"
    }
   ],
   "source": [
    "str.count('stringing','g')"
   ]
  },
  {
   "cell_type": "code",
   "execution_count": 44,
   "id": "827ef423",
   "metadata": {},
   "outputs": [
    {
     "data": {
      "text/plain": [
       "2"
      ]
     },
     "execution_count": 44,
     "metadata": {},
     "output_type": "execute_result"
    }
   ],
   "source": [
    "str.count('mamali','m')"
   ]
  },
  {
   "cell_type": "code",
   "execution_count": null,
   "id": "b4fa9418",
   "metadata": {},
   "outputs": [],
   "source": []
  }
 ],
 "metadata": {
  "kernelspec": {
   "display_name": "Python 3",
   "language": "python",
   "name": "python3"
  },
  "language_info": {
   "codemirror_mode": {
    "name": "ipython",
    "version": 3
   },
   "file_extension": ".py",
   "mimetype": "text/x-python",
   "name": "python",
   "nbconvert_exporter": "python",
   "pygments_lexer": "ipython3",
   "version": "3.8.8"
  }
 },
 "nbformat": 4,
 "nbformat_minor": 5
}
