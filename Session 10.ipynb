{
 "cells": [
  {
   "cell_type": "markdown",
   "id": "8229e3d7",
   "metadata": {},
   "source": [
    "# PANDAS IN Python\n"
   ]
  },
  {
   "cell_type": "code",
   "execution_count": 3,
   "id": "3f3d3175",
   "metadata": {},
   "outputs": [],
   "source": [
    "import pandas as pd\n",
    "import numpy as np\n"
   ]
  },
  {
   "cell_type": "markdown",
   "id": "a762293b",
   "metadata": {},
   "source": [
    "# Series \n"
   ]
  },
  {
   "cell_type": "code",
   "execution_count": 5,
   "id": "f46f8181",
   "metadata": {},
   "outputs": [],
   "source": [
    "#Series from a dict\n",
    "cld={'A' :45,'B' :78,'C' :234,'D' :345}\n",
    "sr=pd.Series(data=cld)"
   ]
  },
  {
   "cell_type": "code",
   "execution_count": 6,
   "id": "3869e50b",
   "metadata": {},
   "outputs": [
    {
     "data": {
      "text/plain": [
       "A     45\n",
       "B     78\n",
       "C    234\n",
       "D    345\n",
       "dtype: int64"
      ]
     },
     "execution_count": 6,
     "metadata": {},
     "output_type": "execute_result"
    }
   ],
   "source": [
    "sr"
   ]
  },
  {
   "cell_type": "code",
   "execution_count": 7,
   "id": "8cec0c16",
   "metadata": {},
   "outputs": [
    {
     "data": {
      "text/plain": [
       "1   NaN\n",
       "2   NaN\n",
       "3   NaN\n",
       "4   NaN\n",
       "dtype: float64"
      ]
     },
     "execution_count": 7,
     "metadata": {},
     "output_type": "execute_result"
    }
   ],
   "source": [
    "sr=pd.Series(data=cld, index=[1,2,3,4])\n",
    "sr"
   ]
  },
  {
   "cell_type": "code",
   "execution_count": 9,
   "id": "eb1f8dd4",
   "metadata": {},
   "outputs": [
    {
     "data": {
      "text/plain": [
       "0    11\n",
       "1    22\n",
       "2    33\n",
       "3    44\n",
       "dtype: int64"
      ]
     },
     "execution_count": 9,
     "metadata": {},
     "output_type": "execute_result"
    }
   ],
   "source": [
    "pd.Series([11,22,33,44])"
   ]
  },
  {
   "cell_type": "code",
   "execution_count": 10,
   "id": "02f2be3b",
   "metadata": {},
   "outputs": [
    {
     "data": {
      "text/plain": [
       "RangeIndex(start=0, stop=4, step=1)"
      ]
     },
     "execution_count": 10,
     "metadata": {},
     "output_type": "execute_result"
    }
   ],
   "source": [
    "pd.Series([11,22,33,44]).index"
   ]
  },
  {
   "cell_type": "code",
   "execution_count": 11,
   "id": "7a11601a",
   "metadata": {},
   "outputs": [
    {
     "data": {
      "text/plain": [
       "45    NaN\n",
       "78    NaN\n",
       "234   NaN\n",
       "345   NaN\n",
       "dtype: float64"
      ]
     },
     "execution_count": 11,
     "metadata": {},
     "output_type": "execute_result"
    }
   ],
   "source": [
    "sr"
   ]
  },
  {
   "cell_type": "code",
   "execution_count": 12,
   "id": "649d6fb6",
   "metadata": {},
   "outputs": [
    {
     "data": {
      "text/plain": [
       "A    45\n",
       "B    67\n",
       "E    78\n",
       "D    58\n",
       "dtype: int64"
      ]
     },
     "execution_count": 12,
     "metadata": {},
     "output_type": "execute_result"
    }
   ],
   "source": [
    "cld1={'A':45,'B':67,'E':78,'D':58}\n",
    "sr1=pd.Series(cld1)\n",
    "sr1"
   ]
  },
  {
   "cell_type": "code",
   "execution_count": 13,
   "id": "3e46c170",
   "metadata": {},
   "outputs": [
    {
     "data": {
      "text/plain": [
       "45    NaN\n",
       "78    NaN\n",
       "234   NaN\n",
       "345   NaN\n",
       "A     NaN\n",
       "B     NaN\n",
       "D     NaN\n",
       "E     NaN\n",
       "dtype: float64"
      ]
     },
     "execution_count": 13,
     "metadata": {},
     "output_type": "execute_result"
    }
   ],
   "source": [
    "sr + sr1"
   ]
  },
  {
   "cell_type": "code",
   "execution_count": 14,
   "id": "42468e21",
   "metadata": {},
   "outputs": [
    {
     "data": {
      "text/plain": [
       "A    45\n",
       "B    67\n",
       "E    78\n",
       "D    58\n",
       "dtype: int64"
      ]
     },
     "execution_count": 14,
     "metadata": {},
     "output_type": "execute_result"
    }
   ],
   "source": [
    "sr1"
   ]
  },
  {
   "cell_type": "code",
   "execution_count": 15,
   "id": "f224b191",
   "metadata": {},
   "outputs": [
    {
     "data": {
      "text/plain": [
       "A    23\n",
       "B    45\n",
       "C    24\n",
       "D     7\n",
       "E    98\n",
       "dtype: int64"
      ]
     },
     "execution_count": 15,
     "metadata": {},
     "output_type": "execute_result"
    }
   ],
   "source": [
    "cld2={'A':23,'B':45,'C':24,'D':7,'E':98}\n",
    "sr2=pd.Series(cld2)\n",
    "sr2\n",
    "        "
   ]
  },
  {
   "cell_type": "code",
   "execution_count": 16,
   "id": "6d65dcba",
   "metadata": {},
   "outputs": [
    {
     "data": {
      "text/plain": [
       "A     68.0\n",
       "B    112.0\n",
       "C      NaN\n",
       "D     65.0\n",
       "E    176.0\n",
       "dtype: float64"
      ]
     },
     "execution_count": 16,
     "metadata": {},
     "output_type": "execute_result"
    }
   ],
   "source": [
    "sr1 + sr2"
   ]
  },
  {
   "cell_type": "code",
   "execution_count": 17,
   "id": "7af32089",
   "metadata": {},
   "outputs": [
    {
     "data": {
      "text/plain": [
       "A    1035.0\n",
       "B    3015.0\n",
       "C       NaN\n",
       "D     406.0\n",
       "E    7644.0\n",
       "dtype: float64"
      ]
     },
     "execution_count": 17,
     "metadata": {},
     "output_type": "execute_result"
    }
   ],
   "source": [
    "sr1 * sr2"
   ]
  },
  {
   "cell_type": "code",
   "execution_count": 18,
   "id": "7c62ff0a",
   "metadata": {},
   "outputs": [
    {
     "data": {
      "text/plain": [
       "A    45\n",
       "B    67\n",
       "E    78\n",
       "D    58\n",
       "dtype: int64"
      ]
     },
     "execution_count": 18,
     "metadata": {},
     "output_type": "execute_result"
    }
   ],
   "source": [
    "#mean\n",
    "sr1"
   ]
  },
  {
   "cell_type": "code",
   "execution_count": 20,
   "id": "e3d32ef3",
   "metadata": {},
   "outputs": [
    {
     "data": {
      "text/plain": [
       "62.0"
      ]
     },
     "execution_count": 20,
     "metadata": {},
     "output_type": "execute_result"
    }
   ],
   "source": [
    "np.mean(sr1)"
   ]
  },
  {
   "cell_type": "code",
   "execution_count": 22,
   "id": "67b971e6",
   "metadata": {},
   "outputs": [
    {
     "data": {
      "text/plain": [
       "45"
      ]
     },
     "execution_count": 22,
     "metadata": {},
     "output_type": "execute_result"
    }
   ],
   "source": [
    "sr1['A']"
   ]
  },
  {
   "cell_type": "code",
   "execution_count": 23,
   "id": "ba509616",
   "metadata": {},
   "outputs": [
    {
     "data": {
      "text/plain": [
       "98"
      ]
     },
     "execution_count": 23,
     "metadata": {},
     "output_type": "execute_result"
    }
   ],
   "source": [
    "sr2['E']"
   ]
  },
  {
   "cell_type": "code",
   "execution_count": 24,
   "id": "1c8d14d3",
   "metadata": {},
   "outputs": [
    {
     "data": {
      "text/plain": [
       "248"
      ]
     },
     "execution_count": 24,
     "metadata": {},
     "output_type": "execute_result"
    }
   ],
   "source": [
    "sr1.sum()"
   ]
  },
  {
   "cell_type": "code",
   "execution_count": 25,
   "id": "3a0ba03a",
   "metadata": {},
   "outputs": [
    {
     "data": {
      "text/plain": [
       "197"
      ]
     },
     "execution_count": 25,
     "metadata": {},
     "output_type": "execute_result"
    }
   ],
   "source": [
    "sr2.sum()#sum alue"
   ]
  },
  {
   "cell_type": "code",
   "execution_count": 26,
   "id": "7978cc35",
   "metadata": {},
   "outputs": [
    {
     "data": {
      "text/plain": [
       "62.5"
      ]
     },
     "execution_count": 26,
     "metadata": {},
     "output_type": "execute_result"
    }
   ],
   "source": [
    "sr1.median()"
   ]
  },
  {
   "cell_type": "code",
   "execution_count": 28,
   "id": "bf599f8b",
   "metadata": {},
   "outputs": [
    {
     "data": {
      "text/plain": [
       "24.0"
      ]
     },
     "execution_count": 28,
     "metadata": {},
     "output_type": "execute_result"
    }
   ],
   "source": [
    "sr2.median()"
   ]
  },
  {
   "cell_type": "code",
   "execution_count": 29,
   "id": "10871464",
   "metadata": {},
   "outputs": [
    {
     "data": {
      "text/plain": [
       "1035"
      ]
     },
     "execution_count": 29,
     "metadata": {},
     "output_type": "execute_result"
    }
   ],
   "source": [
    "sr1['A'] * sr2[0]"
   ]
  },
  {
   "cell_type": "code",
   "execution_count": 30,
   "id": "49b450b2",
   "metadata": {},
   "outputs": [
    {
     "data": {
      "text/plain": [
       "45"
      ]
     },
     "execution_count": 30,
     "metadata": {},
     "output_type": "execute_result"
    }
   ],
   "source": [
    "sr1['A']"
   ]
  },
  {
   "cell_type": "code",
   "execution_count": 31,
   "id": "175d7398",
   "metadata": {},
   "outputs": [
    {
     "data": {
      "text/plain": [
       "23"
      ]
     },
     "execution_count": 31,
     "metadata": {},
     "output_type": "execute_result"
    }
   ],
   "source": [
    "sr2[0]"
   ]
  },
  {
   "cell_type": "code",
   "execution_count": 32,
   "id": "a9fe0f5a",
   "metadata": {},
   "outputs": [
    {
     "data": {
      "text/plain": [
       "1035"
      ]
     },
     "execution_count": 32,
     "metadata": {},
     "output_type": "execute_result"
    }
   ],
   "source": [
    "45 * 23"
   ]
  },
  {
   "cell_type": "code",
   "execution_count": null,
   "id": "89568be5",
   "metadata": {},
   "outputs": [],
   "source": []
  }
 ],
 "metadata": {
  "kernelspec": {
   "display_name": "Python 3 (ipykernel)",
   "language": "python",
   "name": "python3"
  },
  "language_info": {
   "codemirror_mode": {
    "name": "ipython",
    "version": 3
   },
   "file_extension": ".py",
   "mimetype": "text/x-python",
   "name": "python",
   "nbconvert_exporter": "python",
   "pygments_lexer": "ipython3",
   "version": "3.10.1"
  }
 },
 "nbformat": 4,
 "nbformat_minor": 5
}
