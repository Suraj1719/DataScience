{
 "cells": [
  {
   "cell_type": "code",
   "execution_count": 1,
   "id": "cc238305",
   "metadata": {},
   "outputs": [],
   "source": [
    "import numpy as np \n",
    "import pandas as pd"
   ]
  },
  {
   "cell_type": "code",
   "execution_count": 2,
   "id": "c47633f7",
   "metadata": {},
   "outputs": [],
   "source": [
    "sr1 = pd.Series(np.random.randn(3))"
   ]
  },
  {
   "cell_type": "code",
   "execution_count": 4,
   "id": "94c678f6",
   "metadata": {},
   "outputs": [
    {
     "data": {
      "text/plain": [
       "0   -1.395830\n",
       "1    0.477364\n",
       "2   -0.601710\n",
       "Name: sample, dtype: float64"
      ]
     },
     "execution_count": 4,
     "metadata": {},
     "output_type": "execute_result"
    }
   ],
   "source": [
    "sr1.name = 'sample'\n",
    "sr1"
   ]
  },
  {
   "cell_type": "code",
   "execution_count": 5,
   "id": "4d81d8e6",
   "metadata": {},
   "outputs": [
    {
     "data": {
      "text/plain": [
       "0   -1.395830\n",
       "1   -0.918466\n",
       "2   -1.520176\n",
       "Name: sample, dtype: float64"
      ]
     },
     "execution_count": 5,
     "metadata": {},
     "output_type": "execute_result"
    }
   ],
   "source": [
    "# cumsum\n",
    "sr1.cumsum()"
   ]
  },
  {
   "cell_type": "code",
   "execution_count": 6,
   "id": "c5cc7f26",
   "metadata": {},
   "outputs": [
    {
     "data": {
      "text/plain": [
       "3"
      ]
     },
     "execution_count": 6,
     "metadata": {},
     "output_type": "execute_result"
    }
   ],
   "source": [
    "sr1.size"
   ]
  },
  {
   "cell_type": "code",
   "execution_count": 7,
   "id": "b1a7a593",
   "metadata": {},
   "outputs": [
    {
     "data": {
      "text/plain": [
       "(3,)"
      ]
     },
     "execution_count": 7,
     "metadata": {},
     "output_type": "execute_result"
    }
   ],
   "source": [
    "sr1.shape"
   ]
  },
  {
   "cell_type": "code",
   "execution_count": 9,
   "id": "31962177",
   "metadata": {},
   "outputs": [],
   "source": [
    "# data frames\n",
    "df = pd.DataFrame(data = np.random.randn(3,4), columns=['W','X','Y','Z'])"
   ]
  },
  {
   "cell_type": "code",
   "execution_count": 11,
   "id": "5b11ac16",
   "metadata": {},
   "outputs": [
    {
     "data": {
      "text/html": [
       "<div>\n",
       "<style scoped>\n",
       "    .dataframe tbody tr th:only-of-type {\n",
       "        vertical-align: middle;\n",
       "    }\n",
       "\n",
       "    .dataframe tbody tr th {\n",
       "        vertical-align: top;\n",
       "    }\n",
       "\n",
       "    .dataframe thead th {\n",
       "        text-align: right;\n",
       "    }\n",
       "</style>\n",
       "<table border=\"1\" class=\"dataframe\">\n",
       "  <thead>\n",
       "    <tr style=\"text-align: right;\">\n",
       "      <th></th>\n",
       "      <th>W</th>\n",
       "      <th>X</th>\n",
       "      <th>Y</th>\n",
       "      <th>Z</th>\n",
       "    </tr>\n",
       "  </thead>\n",
       "  <tbody>\n",
       "    <tr>\n",
       "      <th>0</th>\n",
       "      <td>-0.672585</td>\n",
       "      <td>-0.222076</td>\n",
       "      <td>0.133434</td>\n",
       "      <td>-0.388635</td>\n",
       "    </tr>\n",
       "    <tr>\n",
       "      <th>1</th>\n",
       "      <td>-1.042700</td>\n",
       "      <td>0.426105</td>\n",
       "      <td>0.046394</td>\n",
       "      <td>-0.835198</td>\n",
       "    </tr>\n",
       "    <tr>\n",
       "      <th>2</th>\n",
       "      <td>-0.870127</td>\n",
       "      <td>1.176190</td>\n",
       "      <td>-0.586196</td>\n",
       "      <td>0.678825</td>\n",
       "    </tr>\n",
       "  </tbody>\n",
       "</table>\n",
       "</div>"
      ],
      "text/plain": [
       "          W         X         Y         Z\n",
       "0 -0.672585 -0.222076  0.133434 -0.388635\n",
       "1 -1.042700  0.426105  0.046394 -0.835198\n",
       "2 -0.870127  1.176190 -0.586196  0.678825"
      ]
     },
     "execution_count": 11,
     "metadata": {},
     "output_type": "execute_result"
    }
   ],
   "source": [
    "df"
   ]
  },
  {
   "cell_type": "code",
   "execution_count": 15,
   "id": "1bc836ad",
   "metadata": {},
   "outputs": [
    {
     "data": {
      "text/plain": [
       "3"
      ]
     },
     "execution_count": 15,
     "metadata": {},
     "output_type": "execute_result"
    }
   ],
   "source": [
    "df.index.stop"
   ]
  },
  {
   "cell_type": "code",
   "execution_count": 14,
   "id": "50986a9a",
   "metadata": {},
   "outputs": [
    {
     "name": "stdout",
     "output_type": "stream",
     "text": [
      "<class 'pandas.core.frame.DataFrame'>\n",
      "RangeIndex: 3 entries, 0 to 2\n",
      "Data columns (total 4 columns):\n",
      " #   Column  Non-Null Count  Dtype  \n",
      "---  ------  --------------  -----  \n",
      " 0   W       3 non-null      float64\n",
      " 1   X       3 non-null      float64\n",
      " 2   Y       3 non-null      float64\n",
      " 3   Z       3 non-null      float64\n",
      "dtypes: float64(4)\n",
      "memory usage: 224.0 bytes\n"
     ]
    }
   ],
   "source": [
    "df.info()"
   ]
  },
  {
   "cell_type": "code",
   "execution_count": 23,
   "id": "4890cc73",
   "metadata": {},
   "outputs": [
    {
     "data": {
      "text/plain": [
       "Index    128\n",
       "W         24\n",
       "X         24\n",
       "Y         24\n",
       "Z         24\n",
       "dtype: int64"
      ]
     },
     "execution_count": 23,
     "metadata": {},
     "output_type": "execute_result"
    }
   ],
   "source": [
    "df.memory_usage(index=True)"
   ]
  },
  {
   "cell_type": "code",
   "execution_count": 22,
   "id": "012bd425",
   "metadata": {},
   "outputs": [
    {
     "data": {
      "text/plain": [
       "224"
      ]
     },
     "execution_count": 22,
     "metadata": {},
     "output_type": "execute_result"
    }
   ],
   "source": [
    "24 * 4 + 128"
   ]
  },
  {
   "cell_type": "code",
   "execution_count": 24,
   "id": "3826279f",
   "metadata": {},
   "outputs": [
    {
     "data": {
      "text/html": [
       "<div>\n",
       "<style scoped>\n",
       "    .dataframe tbody tr th:only-of-type {\n",
       "        vertical-align: middle;\n",
       "    }\n",
       "\n",
       "    .dataframe tbody tr th {\n",
       "        vertical-align: top;\n",
       "    }\n",
       "\n",
       "    .dataframe thead th {\n",
       "        text-align: right;\n",
       "    }\n",
       "</style>\n",
       "<table border=\"1\" class=\"dataframe\">\n",
       "  <thead>\n",
       "    <tr style=\"text-align: right;\">\n",
       "      <th></th>\n",
       "      <th>W</th>\n",
       "      <th>X</th>\n",
       "      <th>Y</th>\n",
       "      <th>Z</th>\n",
       "    </tr>\n",
       "    <tr>\n",
       "      <th>Index</th>\n",
       "      <th></th>\n",
       "      <th></th>\n",
       "      <th></th>\n",
       "      <th></th>\n",
       "    </tr>\n",
       "  </thead>\n",
       "  <tbody>\n",
       "    <tr>\n",
       "      <th>0</th>\n",
       "      <td>-0.672585</td>\n",
       "      <td>-0.222076</td>\n",
       "      <td>0.133434</td>\n",
       "      <td>-0.388635</td>\n",
       "    </tr>\n",
       "    <tr>\n",
       "      <th>1</th>\n",
       "      <td>-1.042700</td>\n",
       "      <td>0.426105</td>\n",
       "      <td>0.046394</td>\n",
       "      <td>-0.835198</td>\n",
       "    </tr>\n",
       "    <tr>\n",
       "      <th>2</th>\n",
       "      <td>-0.870127</td>\n",
       "      <td>1.176190</td>\n",
       "      <td>-0.586196</td>\n",
       "      <td>0.678825</td>\n",
       "    </tr>\n",
       "  </tbody>\n",
       "</table>\n",
       "</div>"
      ],
      "text/plain": [
       "              W         X         Y         Z\n",
       "Index                                        \n",
       "0     -0.672585 -0.222076  0.133434 -0.388635\n",
       "1     -1.042700  0.426105  0.046394 -0.835198\n",
       "2     -0.870127  1.176190 -0.586196  0.678825"
      ]
     },
     "execution_count": 24,
     "metadata": {},
     "output_type": "execute_result"
    }
   ],
   "source": [
    "df.index.name = 'Index'\n",
    "df"
   ]
  },
  {
   "cell_type": "code",
   "execution_count": 25,
   "id": "2b2b32ea",
   "metadata": {},
   "outputs": [
    {
     "data": {
      "text/html": [
       "<div>\n",
       "<style scoped>\n",
       "    .dataframe tbody tr th:only-of-type {\n",
       "        vertical-align: middle;\n",
       "    }\n",
       "\n",
       "    .dataframe tbody tr th {\n",
       "        vertical-align: top;\n",
       "    }\n",
       "\n",
       "    .dataframe thead th {\n",
       "        text-align: right;\n",
       "    }\n",
       "</style>\n",
       "<table border=\"1\" class=\"dataframe\">\n",
       "  <thead>\n",
       "    <tr style=\"text-align: right;\">\n",
       "      <th></th>\n",
       "      <th>W</th>\n",
       "      <th>X</th>\n",
       "      <th>Y</th>\n",
       "      <th>Z</th>\n",
       "    </tr>\n",
       "  </thead>\n",
       "  <tbody>\n",
       "    <tr>\n",
       "      <th>11</th>\n",
       "      <td>-0.672585</td>\n",
       "      <td>-0.222076</td>\n",
       "      <td>0.133434</td>\n",
       "      <td>-0.388635</td>\n",
       "    </tr>\n",
       "    <tr>\n",
       "      <th>22</th>\n",
       "      <td>-1.042700</td>\n",
       "      <td>0.426105</td>\n",
       "      <td>0.046394</td>\n",
       "      <td>-0.835198</td>\n",
       "    </tr>\n",
       "    <tr>\n",
       "      <th>33</th>\n",
       "      <td>-0.870127</td>\n",
       "      <td>1.176190</td>\n",
       "      <td>-0.586196</td>\n",
       "      <td>0.678825</td>\n",
       "    </tr>\n",
       "  </tbody>\n",
       "</table>\n",
       "</div>"
      ],
      "text/plain": [
       "           W         X         Y         Z\n",
       "11 -0.672585 -0.222076  0.133434 -0.388635\n",
       "22 -1.042700  0.426105  0.046394 -0.835198\n",
       "33 -0.870127  1.176190 -0.586196  0.678825"
      ]
     },
     "execution_count": 25,
     "metadata": {},
     "output_type": "execute_result"
    }
   ],
   "source": [
    "df.index = [11, 22, 33]\n",
    "df"
   ]
  },
  {
   "cell_type": "code",
   "execution_count": 26,
   "id": "770e0f75",
   "metadata": {},
   "outputs": [
    {
     "data": {
      "text/html": [
       "<div>\n",
       "<style scoped>\n",
       "    .dataframe tbody tr th:only-of-type {\n",
       "        vertical-align: middle;\n",
       "    }\n",
       "\n",
       "    .dataframe tbody tr th {\n",
       "        vertical-align: top;\n",
       "    }\n",
       "\n",
       "    .dataframe thead th {\n",
       "        text-align: right;\n",
       "    }\n",
       "</style>\n",
       "<table border=\"1\" class=\"dataframe\">\n",
       "  <thead>\n",
       "    <tr style=\"text-align: right;\">\n",
       "      <th></th>\n",
       "      <th>W</th>\n",
       "      <th>X</th>\n",
       "      <th>Y</th>\n",
       "      <th>Z</th>\n",
       "    </tr>\n",
       "  </thead>\n",
       "  <tbody>\n",
       "    <tr>\n",
       "      <th>11</th>\n",
       "      <td>-0.672585</td>\n",
       "      <td>-0.222076</td>\n",
       "      <td>0.133434</td>\n",
       "      <td>-0.388635</td>\n",
       "    </tr>\n",
       "    <tr>\n",
       "      <th>22</th>\n",
       "      <td>-1.042700</td>\n",
       "      <td>0.426105</td>\n",
       "      <td>0.046394</td>\n",
       "      <td>-0.835198</td>\n",
       "    </tr>\n",
       "    <tr>\n",
       "      <th>33</th>\n",
       "      <td>-0.870127</td>\n",
       "      <td>1.176190</td>\n",
       "      <td>-0.586196</td>\n",
       "      <td>0.678825</td>\n",
       "    </tr>\n",
       "  </tbody>\n",
       "</table>\n",
       "</div>"
      ],
      "text/plain": [
       "           W         X         Y         Z\n",
       "11 -0.672585 -0.222076  0.133434 -0.388635\n",
       "22 -1.042700  0.426105  0.046394 -0.835198\n",
       "33 -0.870127  1.176190 -0.586196  0.678825"
      ]
     },
     "execution_count": 26,
     "metadata": {},
     "output_type": "execute_result"
    }
   ],
   "source": [
    "df"
   ]
  },
  {
   "cell_type": "markdown",
   "id": "909beda7",
   "metadata": {},
   "source": [
    "### basic attributes of dataframe"
   ]
  },
  {
   "cell_type": "code",
   "execution_count": 29,
   "id": "20cd6375",
   "metadata": {},
   "outputs": [
    {
     "data": {
      "text/plain": [
       "((3, 4), 3, 4)"
      ]
     },
     "execution_count": 29,
     "metadata": {},
     "output_type": "execute_result"
    }
   ],
   "source": [
    "df.shape, df.shape[0], df.shape[-1]"
   ]
  },
  {
   "cell_type": "code",
   "execution_count": 30,
   "id": "dde6053e",
   "metadata": {},
   "outputs": [
    {
     "data": {
      "text/html": [
       "<div>\n",
       "<style scoped>\n",
       "    .dataframe tbody tr th:only-of-type {\n",
       "        vertical-align: middle;\n",
       "    }\n",
       "\n",
       "    .dataframe tbody tr th {\n",
       "        vertical-align: top;\n",
       "    }\n",
       "\n",
       "    .dataframe thead th {\n",
       "        text-align: right;\n",
       "    }\n",
       "</style>\n",
       "<table border=\"1\" class=\"dataframe\">\n",
       "  <thead>\n",
       "    <tr style=\"text-align: right;\">\n",
       "      <th></th>\n",
       "      <th>W</th>\n",
       "      <th>X</th>\n",
       "      <th>Y</th>\n",
       "      <th>Z</th>\n",
       "    </tr>\n",
       "  </thead>\n",
       "  <tbody>\n",
       "    <tr>\n",
       "      <th>count</th>\n",
       "      <td>3.000000</td>\n",
       "      <td>3.000000</td>\n",
       "      <td>3.000000</td>\n",
       "      <td>3.000000</td>\n",
       "    </tr>\n",
       "    <tr>\n",
       "      <th>mean</th>\n",
       "      <td>-0.861804</td>\n",
       "      <td>0.460073</td>\n",
       "      <td>-0.135456</td>\n",
       "      <td>-0.181669</td>\n",
       "    </tr>\n",
       "    <tr>\n",
       "      <th>std</th>\n",
       "      <td>0.185198</td>\n",
       "      <td>0.699751</td>\n",
       "      <td>0.392771</td>\n",
       "      <td>0.777941</td>\n",
       "    </tr>\n",
       "    <tr>\n",
       "      <th>min</th>\n",
       "      <td>-1.042700</td>\n",
       "      <td>-0.222076</td>\n",
       "      <td>-0.586196</td>\n",
       "      <td>-0.835198</td>\n",
       "    </tr>\n",
       "    <tr>\n",
       "      <th>25%</th>\n",
       "      <td>-0.956414</td>\n",
       "      <td>0.102014</td>\n",
       "      <td>-0.269901</td>\n",
       "      <td>-0.611917</td>\n",
       "    </tr>\n",
       "    <tr>\n",
       "      <th>50%</th>\n",
       "      <td>-0.870127</td>\n",
       "      <td>0.426105</td>\n",
       "      <td>0.046394</td>\n",
       "      <td>-0.388635</td>\n",
       "    </tr>\n",
       "    <tr>\n",
       "      <th>75%</th>\n",
       "      <td>-0.771356</td>\n",
       "      <td>0.801147</td>\n",
       "      <td>0.089914</td>\n",
       "      <td>0.145095</td>\n",
       "    </tr>\n",
       "    <tr>\n",
       "      <th>max</th>\n",
       "      <td>-0.672585</td>\n",
       "      <td>1.176190</td>\n",
       "      <td>0.133434</td>\n",
       "      <td>0.678825</td>\n",
       "    </tr>\n",
       "  </tbody>\n",
       "</table>\n",
       "</div>"
      ],
      "text/plain": [
       "              W         X         Y         Z\n",
       "count  3.000000  3.000000  3.000000  3.000000\n",
       "mean  -0.861804  0.460073 -0.135456 -0.181669\n",
       "std    0.185198  0.699751  0.392771  0.777941\n",
       "min   -1.042700 -0.222076 -0.586196 -0.835198\n",
       "25%   -0.956414  0.102014 -0.269901 -0.611917\n",
       "50%   -0.870127  0.426105  0.046394 -0.388635\n",
       "75%   -0.771356  0.801147  0.089914  0.145095\n",
       "max   -0.672585  1.176190  0.133434  0.678825"
      ]
     },
     "execution_count": 30,
     "metadata": {},
     "output_type": "execute_result"
    }
   ],
   "source": [
    "df.describe()"
   ]
  },
  {
   "cell_type": "code",
   "execution_count": 31,
   "id": "1855785c",
   "metadata": {},
   "outputs": [
    {
     "data": {
      "text/plain": [
       "W    3\n",
       "X    3\n",
       "Y    3\n",
       "Z    3\n",
       "dtype: int64"
      ]
     },
     "execution_count": 31,
     "metadata": {},
     "output_type": "execute_result"
    }
   ],
   "source": [
    "df.count()"
   ]
  },
  {
   "cell_type": "code",
   "execution_count": 38,
   "id": "bed06d6e",
   "metadata": {},
   "outputs": [
    {
     "data": {
      "text/plain": [
       "array(['W', 'X', 'Y', 'Z'], dtype=object)"
      ]
     },
     "execution_count": 38,
     "metadata": {},
     "output_type": "execute_result"
    }
   ],
   "source": [
    "df.columns.values"
   ]
  },
  {
   "cell_type": "markdown",
   "id": "5e01a4ba",
   "metadata": {},
   "source": [
    "### Import data in pandas"
   ]
  },
  {
   "cell_type": "code",
   "execution_count": 39,
   "id": "baa2a801",
   "metadata": {},
   "outputs": [
    {
     "data": {
      "text/html": [
       "<div>\n",
       "<style scoped>\n",
       "    .dataframe tbody tr th:only-of-type {\n",
       "        vertical-align: middle;\n",
       "    }\n",
       "\n",
       "    .dataframe tbody tr th {\n",
       "        vertical-align: top;\n",
       "    }\n",
       "\n",
       "    .dataframe thead th {\n",
       "        text-align: right;\n",
       "    }\n",
       "</style>\n",
       "<table border=\"1\" class=\"dataframe\">\n",
       "  <thead>\n",
       "    <tr style=\"text-align: right;\">\n",
       "      <th></th>\n",
       "      <th>Area_Name</th>\n",
       "      <th>Year</th>\n",
       "      <th>Group_Name</th>\n",
       "      <th>Sub_Group_Name</th>\n",
       "      <th>Cases_Property_Recovered</th>\n",
       "      <th>Cases_Property_Stolen</th>\n",
       "      <th>Value_of_Property_Recovered</th>\n",
       "      <th>Value_of_Property_Stolen</th>\n",
       "    </tr>\n",
       "  </thead>\n",
       "  <tbody>\n",
       "    <tr>\n",
       "      <th>0</th>\n",
       "      <td>Andaman &amp; Nicobar Islands</td>\n",
       "      <td>2001</td>\n",
       "      <td>Burglary - Property</td>\n",
       "      <td>3. Burglary</td>\n",
       "      <td>27</td>\n",
       "      <td>64</td>\n",
       "      <td>755858</td>\n",
       "      <td>1321961</td>\n",
       "    </tr>\n",
       "    <tr>\n",
       "      <th>1</th>\n",
       "      <td>Andhra Pradesh</td>\n",
       "      <td>2001</td>\n",
       "      <td>Burglary - Property</td>\n",
       "      <td>3. Burglary</td>\n",
       "      <td>3321</td>\n",
       "      <td>7134</td>\n",
       "      <td>51483437</td>\n",
       "      <td>147019348</td>\n",
       "    </tr>\n",
       "    <tr>\n",
       "      <th>2</th>\n",
       "      <td>Arunachal Pradesh</td>\n",
       "      <td>2001</td>\n",
       "      <td>Burglary - Property</td>\n",
       "      <td>3. Burglary</td>\n",
       "      <td>66</td>\n",
       "      <td>248</td>\n",
       "      <td>825115</td>\n",
       "      <td>4931904</td>\n",
       "    </tr>\n",
       "    <tr>\n",
       "      <th>3</th>\n",
       "      <td>Assam</td>\n",
       "      <td>2001</td>\n",
       "      <td>Burglary - Property</td>\n",
       "      <td>3. Burglary</td>\n",
       "      <td>539</td>\n",
       "      <td>2423</td>\n",
       "      <td>3722850</td>\n",
       "      <td>21466955</td>\n",
       "    </tr>\n",
       "    <tr>\n",
       "      <th>4</th>\n",
       "      <td>Bihar</td>\n",
       "      <td>2001</td>\n",
       "      <td>Burglary - Property</td>\n",
       "      <td>3. Burglary</td>\n",
       "      <td>367</td>\n",
       "      <td>3231</td>\n",
       "      <td>2327135</td>\n",
       "      <td>17023937</td>\n",
       "    </tr>\n",
       "  </tbody>\n",
       "</table>\n",
       "</div>"
      ],
      "text/plain": [
       "                   Area_Name  Year           Group_Name Sub_Group_Name  \\\n",
       "0  Andaman & Nicobar Islands  2001  Burglary - Property    3. Burglary   \n",
       "1             Andhra Pradesh  2001  Burglary - Property    3. Burglary   \n",
       "2          Arunachal Pradesh  2001  Burglary - Property    3. Burglary   \n",
       "3                      Assam  2001  Burglary - Property    3. Burglary   \n",
       "4                      Bihar  2001  Burglary - Property    3. Burglary   \n",
       "\n",
       "   Cases_Property_Recovered  Cases_Property_Stolen  \\\n",
       "0                        27                     64   \n",
       "1                      3321                   7134   \n",
       "2                        66                    248   \n",
       "3                       539                   2423   \n",
       "4                       367                   3231   \n",
       "\n",
       "   Value_of_Property_Recovered  Value_of_Property_Stolen  \n",
       "0                       755858                   1321961  \n",
       "1                     51483437                 147019348  \n",
       "2                       825115                   4931904  \n",
       "3                      3722850                  21466955  \n",
       "4                      2327135                  17023937  "
      ]
     },
     "execution_count": 39,
     "metadata": {},
     "output_type": "execute_result"
    }
   ],
   "source": [
    "#csv reading\n",
    "data = pd.read_csv('10_Property_stolen_and_recovered.csv', nrows=20)\n",
    "data.head()"
   ]
  },
  {
   "cell_type": "code",
   "execution_count": 40,
   "id": "3f964250",
   "metadata": {},
   "outputs": [
    {
     "data": {
      "text/html": [
       "<div>\n",
       "<style scoped>\n",
       "    .dataframe tbody tr th:only-of-type {\n",
       "        vertical-align: middle;\n",
       "    }\n",
       "\n",
       "    .dataframe tbody tr th {\n",
       "        vertical-align: top;\n",
       "    }\n",
       "\n",
       "    .dataframe thead th {\n",
       "        text-align: right;\n",
       "    }\n",
       "</style>\n",
       "<table border=\"1\" class=\"dataframe\">\n",
       "  <thead>\n",
       "    <tr style=\"text-align: right;\">\n",
       "      <th></th>\n",
       "      <th>Area_Name</th>\n",
       "      <th>Year</th>\n",
       "      <th>Group_Name</th>\n",
       "      <th>Sub_Group_Name</th>\n",
       "      <th>Cases_Property_Recovered</th>\n",
       "      <th>Cases_Property_Stolen</th>\n",
       "      <th>Value_of_Property_Recovered</th>\n",
       "      <th>Value_of_Property_Stolen</th>\n",
       "    </tr>\n",
       "  </thead>\n",
       "  <tbody>\n",
       "    <tr>\n",
       "      <th>15</th>\n",
       "      <td>Jharkhand</td>\n",
       "      <td>2001</td>\n",
       "      <td>Burglary - Property</td>\n",
       "      <td>3. Burglary</td>\n",
       "      <td>186</td>\n",
       "      <td>1150</td>\n",
       "      <td>757019</td>\n",
       "      <td>9552273</td>\n",
       "    </tr>\n",
       "    <tr>\n",
       "      <th>16</th>\n",
       "      <td>Karnataka</td>\n",
       "      <td>2001</td>\n",
       "      <td>Burglary - Property</td>\n",
       "      <td>3. Burglary</td>\n",
       "      <td>1768</td>\n",
       "      <td>6394</td>\n",
       "      <td>42221208</td>\n",
       "      <td>139393376</td>\n",
       "    </tr>\n",
       "    <tr>\n",
       "      <th>17</th>\n",
       "      <td>Kerala</td>\n",
       "      <td>2001</td>\n",
       "      <td>Burglary - Property</td>\n",
       "      <td>3. Burglary</td>\n",
       "      <td>815</td>\n",
       "      <td>4185</td>\n",
       "      <td>21414046</td>\n",
       "      <td>131614945</td>\n",
       "    </tr>\n",
       "    <tr>\n",
       "      <th>18</th>\n",
       "      <td>Lakshadweep</td>\n",
       "      <td>2001</td>\n",
       "      <td>Burglary - Property</td>\n",
       "      <td>3. Burglary</td>\n",
       "      <td>0</td>\n",
       "      <td>1</td>\n",
       "      <td>0</td>\n",
       "      <td>12000</td>\n",
       "    </tr>\n",
       "    <tr>\n",
       "      <th>19</th>\n",
       "      <td>Madhya Pradesh</td>\n",
       "      <td>2001</td>\n",
       "      <td>Burglary - Property</td>\n",
       "      <td>3. Burglary</td>\n",
       "      <td>3526</td>\n",
       "      <td>13549</td>\n",
       "      <td>31332930</td>\n",
       "      <td>118549565</td>\n",
       "    </tr>\n",
       "  </tbody>\n",
       "</table>\n",
       "</div>"
      ],
      "text/plain": [
       "         Area_Name  Year           Group_Name Sub_Group_Name  \\\n",
       "15       Jharkhand  2001  Burglary - Property    3. Burglary   \n",
       "16       Karnataka  2001  Burglary - Property    3. Burglary   \n",
       "17          Kerala  2001  Burglary - Property    3. Burglary   \n",
       "18     Lakshadweep  2001  Burglary - Property    3. Burglary   \n",
       "19  Madhya Pradesh  2001  Burglary - Property    3. Burglary   \n",
       "\n",
       "    Cases_Property_Recovered  Cases_Property_Stolen  \\\n",
       "15                       186                   1150   \n",
       "16                      1768                   6394   \n",
       "17                       815                   4185   \n",
       "18                         0                      1   \n",
       "19                      3526                  13549   \n",
       "\n",
       "    Value_of_Property_Recovered  Value_of_Property_Stolen  \n",
       "15                       757019                   9552273  \n",
       "16                     42221208                 139393376  \n",
       "17                     21414046                 131614945  \n",
       "18                            0                     12000  \n",
       "19                     31332930                 118549565  "
      ]
     },
     "execution_count": 40,
     "metadata": {},
     "output_type": "execute_result"
    }
   ],
   "source": [
    "data.tail()"
   ]
  },
  {
   "cell_type": "code",
   "execution_count": 43,
   "id": "1196c95e",
   "metadata": {},
   "outputs": [
    {
     "data": {
      "text/html": [
       "<div>\n",
       "<style scoped>\n",
       "    .dataframe tbody tr th:only-of-type {\n",
       "        vertical-align: middle;\n",
       "    }\n",
       "\n",
       "    .dataframe tbody tr th {\n",
       "        vertical-align: top;\n",
       "    }\n",
       "\n",
       "    .dataframe thead th {\n",
       "        text-align: right;\n",
       "    }\n",
       "</style>\n",
       "<table border=\"1\" class=\"dataframe\">\n",
       "  <thead>\n",
       "    <tr style=\"text-align: right;\">\n",
       "      <th></th>\n",
       "      <th>Area_Name</th>\n",
       "      <th>Year</th>\n",
       "      <th>Group_Name</th>\n",
       "      <th>Sub_Group_Name</th>\n",
       "      <th>Cases_Property_Recovered</th>\n",
       "      <th>Cases_Property_Stolen</th>\n",
       "      <th>Value_of_Property_Recovered</th>\n",
       "      <th>Value_of_Property_Stolen</th>\n",
       "    </tr>\n",
       "  </thead>\n",
       "  <tbody>\n",
       "    <tr>\n",
       "      <th>10</th>\n",
       "      <td>Goa</td>\n",
       "      <td>2001</td>\n",
       "      <td>Burglary - Property</td>\n",
       "      <td>3. Burglary</td>\n",
       "      <td>65</td>\n",
       "      <td>347</td>\n",
       "      <td>895875</td>\n",
       "      <td>9991574</td>\n",
       "    </tr>\n",
       "    <tr>\n",
       "      <th>2</th>\n",
       "      <td>Arunachal Pradesh</td>\n",
       "      <td>2001</td>\n",
       "      <td>Burglary - Property</td>\n",
       "      <td>3. Burglary</td>\n",
       "      <td>66</td>\n",
       "      <td>248</td>\n",
       "      <td>825115</td>\n",
       "      <td>4931904</td>\n",
       "    </tr>\n",
       "    <tr>\n",
       "      <th>16</th>\n",
       "      <td>Karnataka</td>\n",
       "      <td>2001</td>\n",
       "      <td>Burglary - Property</td>\n",
       "      <td>3. Burglary</td>\n",
       "      <td>1768</td>\n",
       "      <td>6394</td>\n",
       "      <td>42221208</td>\n",
       "      <td>139393376</td>\n",
       "    </tr>\n",
       "    <tr>\n",
       "      <th>14</th>\n",
       "      <td>Jammu &amp; Kashmir</td>\n",
       "      <td>2001</td>\n",
       "      <td>Burglary - Property</td>\n",
       "      <td>3. Burglary</td>\n",
       "      <td>161</td>\n",
       "      <td>1345</td>\n",
       "      <td>2905184</td>\n",
       "      <td>27222163</td>\n",
       "    </tr>\n",
       "    <tr>\n",
       "      <th>7</th>\n",
       "      <td>Dadra &amp; Nagar Haveli</td>\n",
       "      <td>2001</td>\n",
       "      <td>Burglary - Property</td>\n",
       "      <td>3. Burglary</td>\n",
       "      <td>10</td>\n",
       "      <td>34</td>\n",
       "      <td>247140</td>\n",
       "      <td>1333389</td>\n",
       "    </tr>\n",
       "    <tr>\n",
       "      <th>9</th>\n",
       "      <td>Delhi</td>\n",
       "      <td>2001</td>\n",
       "      <td>Burglary - Property</td>\n",
       "      <td>3. Burglary</td>\n",
       "      <td>642</td>\n",
       "      <td>3029</td>\n",
       "      <td>39632177</td>\n",
       "      <td>150033824</td>\n",
       "    </tr>\n",
       "    <tr>\n",
       "      <th>18</th>\n",
       "      <td>Lakshadweep</td>\n",
       "      <td>2001</td>\n",
       "      <td>Burglary - Property</td>\n",
       "      <td>3. Burglary</td>\n",
       "      <td>0</td>\n",
       "      <td>1</td>\n",
       "      <td>0</td>\n",
       "      <td>12000</td>\n",
       "    </tr>\n",
       "    <tr>\n",
       "      <th>17</th>\n",
       "      <td>Kerala</td>\n",
       "      <td>2001</td>\n",
       "      <td>Burglary - Property</td>\n",
       "      <td>3. Burglary</td>\n",
       "      <td>815</td>\n",
       "      <td>4185</td>\n",
       "      <td>21414046</td>\n",
       "      <td>131614945</td>\n",
       "    </tr>\n",
       "    <tr>\n",
       "      <th>12</th>\n",
       "      <td>Haryana</td>\n",
       "      <td>2001</td>\n",
       "      <td>Burglary - Property</td>\n",
       "      <td>3. Burglary</td>\n",
       "      <td>1257</td>\n",
       "      <td>3098</td>\n",
       "      <td>27369980</td>\n",
       "      <td>64576543</td>\n",
       "    </tr>\n",
       "  </tbody>\n",
       "</table>\n",
       "</div>"
      ],
      "text/plain": [
       "               Area_Name  Year           Group_Name Sub_Group_Name  \\\n",
       "10                   Goa  2001  Burglary - Property    3. Burglary   \n",
       "2      Arunachal Pradesh  2001  Burglary - Property    3. Burglary   \n",
       "16             Karnataka  2001  Burglary - Property    3. Burglary   \n",
       "14       Jammu & Kashmir  2001  Burglary - Property    3. Burglary   \n",
       "7   Dadra & Nagar Haveli  2001  Burglary - Property    3. Burglary   \n",
       "9                  Delhi  2001  Burglary - Property    3. Burglary   \n",
       "18           Lakshadweep  2001  Burglary - Property    3. Burglary   \n",
       "17                Kerala  2001  Burglary - Property    3. Burglary   \n",
       "12               Haryana  2001  Burglary - Property    3. Burglary   \n",
       "\n",
       "    Cases_Property_Recovered  Cases_Property_Stolen  \\\n",
       "10                        65                    347   \n",
       "2                         66                    248   \n",
       "16                      1768                   6394   \n",
       "14                       161                   1345   \n",
       "7                         10                     34   \n",
       "9                        642                   3029   \n",
       "18                         0                      1   \n",
       "17                       815                   4185   \n",
       "12                      1257                   3098   \n",
       "\n",
       "    Value_of_Property_Recovered  Value_of_Property_Stolen  \n",
       "10                       895875                   9991574  \n",
       "2                        825115                   4931904  \n",
       "16                     42221208                 139393376  \n",
       "14                      2905184                  27222163  \n",
       "7                        247140                   1333389  \n",
       "9                      39632177                 150033824  \n",
       "18                            0                     12000  \n",
       "17                     21414046                 131614945  \n",
       "12                     27369980                  64576543  "
      ]
     },
     "execution_count": 43,
     "metadata": {},
     "output_type": "execute_result"
    }
   ],
   "source": [
    "data.sample(9)"
   ]
  },
  {
   "cell_type": "code",
   "execution_count": 44,
   "id": "00d2fad5",
   "metadata": {
    "scrolled": false
   },
   "outputs": [
    {
     "name": "stdout",
     "output_type": "stream",
     "text": [
      "<class 'pandas.core.frame.DataFrame'>\n",
      "RangeIndex: 20 entries, 0 to 19\n",
      "Data columns (total 8 columns):\n",
      " #   Column                       Non-Null Count  Dtype \n",
      "---  ------                       --------------  ----- \n",
      " 0   Area_Name                    20 non-null     object\n",
      " 1   Year                         20 non-null     int64 \n",
      " 2   Group_Name                   20 non-null     object\n",
      " 3   Sub_Group_Name               20 non-null     object\n",
      " 4   Cases_Property_Recovered     20 non-null     int64 \n",
      " 5   Cases_Property_Stolen        20 non-null     int64 \n",
      " 6   Value_of_Property_Recovered  20 non-null     int64 \n",
      " 7   Value_of_Property_Stolen     20 non-null     int64 \n",
      "dtypes: int64(5), object(3)\n",
      "memory usage: 1.4+ KB\n"
     ]
    }
   ],
   "source": [
    "data.info()"
   ]
  },
  {
   "cell_type": "code",
   "execution_count": 49,
   "id": "ce36901a",
   "metadata": {},
   "outputs": [
    {
     "data": {
      "text/plain": [
       "1408"
      ]
     },
     "execution_count": 49,
     "metadata": {},
     "output_type": "execute_result"
    }
   ],
   "source": [
    "data.memory_usage().sum()"
   ]
  },
  {
   "cell_type": "code",
   "execution_count": 50,
   "id": "3d264535",
   "metadata": {},
   "outputs": [
    {
     "data": {
      "text/html": [
       "<div>\n",
       "<style scoped>\n",
       "    .dataframe tbody tr th:only-of-type {\n",
       "        vertical-align: middle;\n",
       "    }\n",
       "\n",
       "    .dataframe tbody tr th {\n",
       "        vertical-align: top;\n",
       "    }\n",
       "\n",
       "    .dataframe thead th {\n",
       "        text-align: right;\n",
       "    }\n",
       "</style>\n",
       "<table border=\"1\" class=\"dataframe\">\n",
       "  <thead>\n",
       "    <tr style=\"text-align: right;\">\n",
       "      <th></th>\n",
       "      <th>Area_Name</th>\n",
       "      <th>Year</th>\n",
       "      <th>Group_Name</th>\n",
       "      <th>Sub_Group_Name</th>\n",
       "      <th>Cases_Property_Recovered</th>\n",
       "      <th>Cases_Property_Stolen</th>\n",
       "      <th>Value_of_Property_Recovered</th>\n",
       "      <th>Value_of_Property_Stolen</th>\n",
       "    </tr>\n",
       "  </thead>\n",
       "  <tbody>\n",
       "    <tr>\n",
       "      <th>0</th>\n",
       "      <td>Andaman &amp; Nicobar Islands</td>\n",
       "      <td>2001</td>\n",
       "      <td>Burglary - Property</td>\n",
       "      <td>3. Burglary</td>\n",
       "      <td>27</td>\n",
       "      <td>64</td>\n",
       "      <td>755858</td>\n",
       "      <td>1321961</td>\n",
       "    </tr>\n",
       "    <tr>\n",
       "      <th>1</th>\n",
       "      <td>Andhra Pradesh</td>\n",
       "      <td>2001</td>\n",
       "      <td>Burglary - Property</td>\n",
       "      <td>3. Burglary</td>\n",
       "      <td>3321</td>\n",
       "      <td>7134</td>\n",
       "      <td>51483437</td>\n",
       "      <td>147019348</td>\n",
       "    </tr>\n",
       "    <tr>\n",
       "      <th>2</th>\n",
       "      <td>Arunachal Pradesh</td>\n",
       "      <td>2001</td>\n",
       "      <td>Burglary - Property</td>\n",
       "      <td>3. Burglary</td>\n",
       "      <td>66</td>\n",
       "      <td>248</td>\n",
       "      <td>825115</td>\n",
       "      <td>4931904</td>\n",
       "    </tr>\n",
       "    <tr>\n",
       "      <th>3</th>\n",
       "      <td>Assam</td>\n",
       "      <td>2001</td>\n",
       "      <td>Burglary - Property</td>\n",
       "      <td>3. Burglary</td>\n",
       "      <td>539</td>\n",
       "      <td>2423</td>\n",
       "      <td>3722850</td>\n",
       "      <td>21466955</td>\n",
       "    </tr>\n",
       "    <tr>\n",
       "      <th>4</th>\n",
       "      <td>Bihar</td>\n",
       "      <td>2001</td>\n",
       "      <td>Burglary - Property</td>\n",
       "      <td>3. Burglary</td>\n",
       "      <td>367</td>\n",
       "      <td>3231</td>\n",
       "      <td>2327135</td>\n",
       "      <td>17023937</td>\n",
       "    </tr>\n",
       "    <tr>\n",
       "      <th>5</th>\n",
       "      <td>Chandigarh</td>\n",
       "      <td>2001</td>\n",
       "      <td>Burglary - Property</td>\n",
       "      <td>3. Burglary</td>\n",
       "      <td>119</td>\n",
       "      <td>364</td>\n",
       "      <td>1804823</td>\n",
       "      <td>10217378</td>\n",
       "    </tr>\n",
       "    <tr>\n",
       "      <th>6</th>\n",
       "      <td>Chhattisgarh</td>\n",
       "      <td>2001</td>\n",
       "      <td>Burglary - Property</td>\n",
       "      <td>3. Burglary</td>\n",
       "      <td>1169</td>\n",
       "      <td>4144</td>\n",
       "      <td>6518261</td>\n",
       "      <td>30457033</td>\n",
       "    </tr>\n",
       "    <tr>\n",
       "      <th>7</th>\n",
       "      <td>Dadra &amp; Nagar Haveli</td>\n",
       "      <td>2001</td>\n",
       "      <td>Burglary - Property</td>\n",
       "      <td>3. Burglary</td>\n",
       "      <td>10</td>\n",
       "      <td>34</td>\n",
       "      <td>247140</td>\n",
       "      <td>1333389</td>\n",
       "    </tr>\n",
       "    <tr>\n",
       "      <th>8</th>\n",
       "      <td>Daman &amp; Diu</td>\n",
       "      <td>2001</td>\n",
       "      <td>Burglary - Property</td>\n",
       "      <td>3. Burglary</td>\n",
       "      <td>7</td>\n",
       "      <td>43</td>\n",
       "      <td>479300</td>\n",
       "      <td>2084845</td>\n",
       "    </tr>\n",
       "    <tr>\n",
       "      <th>9</th>\n",
       "      <td>Delhi</td>\n",
       "      <td>2001</td>\n",
       "      <td>Burglary - Property</td>\n",
       "      <td>3. Burglary</td>\n",
       "      <td>642</td>\n",
       "      <td>3029</td>\n",
       "      <td>39632177</td>\n",
       "      <td>150033824</td>\n",
       "    </tr>\n",
       "    <tr>\n",
       "      <th>10</th>\n",
       "      <td>Goa</td>\n",
       "      <td>2001</td>\n",
       "      <td>Burglary - Property</td>\n",
       "      <td>3. Burglary</td>\n",
       "      <td>65</td>\n",
       "      <td>347</td>\n",
       "      <td>895875</td>\n",
       "      <td>9991574</td>\n",
       "    </tr>\n",
       "    <tr>\n",
       "      <th>11</th>\n",
       "      <td>Gujarat</td>\n",
       "      <td>2001</td>\n",
       "      <td>Burglary - Property</td>\n",
       "      <td>3. Burglary</td>\n",
       "      <td>1124</td>\n",
       "      <td>4928</td>\n",
       "      <td>20821285</td>\n",
       "      <td>141650158</td>\n",
       "    </tr>\n",
       "    <tr>\n",
       "      <th>12</th>\n",
       "      <td>Haryana</td>\n",
       "      <td>2001</td>\n",
       "      <td>Burglary - Property</td>\n",
       "      <td>3. Burglary</td>\n",
       "      <td>1257</td>\n",
       "      <td>3098</td>\n",
       "      <td>27369980</td>\n",
       "      <td>64576543</td>\n",
       "    </tr>\n",
       "    <tr>\n",
       "      <th>13</th>\n",
       "      <td>Himachal Pradesh</td>\n",
       "      <td>2001</td>\n",
       "      <td>Burglary - Property</td>\n",
       "      <td>3. Burglary</td>\n",
       "      <td>93</td>\n",
       "      <td>812</td>\n",
       "      <td>2936881</td>\n",
       "      <td>17092490</td>\n",
       "    </tr>\n",
       "    <tr>\n",
       "      <th>14</th>\n",
       "      <td>Jammu &amp; Kashmir</td>\n",
       "      <td>2001</td>\n",
       "      <td>Burglary - Property</td>\n",
       "      <td>3. Burglary</td>\n",
       "      <td>161</td>\n",
       "      <td>1345</td>\n",
       "      <td>2905184</td>\n",
       "      <td>27222163</td>\n",
       "    </tr>\n",
       "    <tr>\n",
       "      <th>15</th>\n",
       "      <td>Jharkhand</td>\n",
       "      <td>2001</td>\n",
       "      <td>Burglary - Property</td>\n",
       "      <td>3. Burglary</td>\n",
       "      <td>186</td>\n",
       "      <td>1150</td>\n",
       "      <td>757019</td>\n",
       "      <td>9552273</td>\n",
       "    </tr>\n",
       "    <tr>\n",
       "      <th>16</th>\n",
       "      <td>Karnataka</td>\n",
       "      <td>2001</td>\n",
       "      <td>Burglary - Property</td>\n",
       "      <td>3. Burglary</td>\n",
       "      <td>1768</td>\n",
       "      <td>6394</td>\n",
       "      <td>42221208</td>\n",
       "      <td>139393376</td>\n",
       "    </tr>\n",
       "    <tr>\n",
       "      <th>17</th>\n",
       "      <td>Kerala</td>\n",
       "      <td>2001</td>\n",
       "      <td>Burglary - Property</td>\n",
       "      <td>3. Burglary</td>\n",
       "      <td>815</td>\n",
       "      <td>4185</td>\n",
       "      <td>21414046</td>\n",
       "      <td>131614945</td>\n",
       "    </tr>\n",
       "    <tr>\n",
       "      <th>18</th>\n",
       "      <td>Lakshadweep</td>\n",
       "      <td>2001</td>\n",
       "      <td>Burglary - Property</td>\n",
       "      <td>3. Burglary</td>\n",
       "      <td>0</td>\n",
       "      <td>1</td>\n",
       "      <td>0</td>\n",
       "      <td>12000</td>\n",
       "    </tr>\n",
       "    <tr>\n",
       "      <th>19</th>\n",
       "      <td>Madhya Pradesh</td>\n",
       "      <td>2001</td>\n",
       "      <td>Burglary - Property</td>\n",
       "      <td>3. Burglary</td>\n",
       "      <td>3526</td>\n",
       "      <td>13549</td>\n",
       "      <td>31332930</td>\n",
       "      <td>118549565</td>\n",
       "    </tr>\n",
       "  </tbody>\n",
       "</table>\n",
       "</div>"
      ],
      "text/plain": [
       "                    Area_Name  Year           Group_Name Sub_Group_Name  \\\n",
       "0   Andaman & Nicobar Islands  2001  Burglary - Property    3. Burglary   \n",
       "1              Andhra Pradesh  2001  Burglary - Property    3. Burglary   \n",
       "2           Arunachal Pradesh  2001  Burglary - Property    3. Burglary   \n",
       "3                       Assam  2001  Burglary - Property    3. Burglary   \n",
       "4                       Bihar  2001  Burglary - Property    3. Burglary   \n",
       "5                  Chandigarh  2001  Burglary - Property    3. Burglary   \n",
       "6                Chhattisgarh  2001  Burglary - Property    3. Burglary   \n",
       "7        Dadra & Nagar Haveli  2001  Burglary - Property    3. Burglary   \n",
       "8                 Daman & Diu  2001  Burglary - Property    3. Burglary   \n",
       "9                       Delhi  2001  Burglary - Property    3. Burglary   \n",
       "10                        Goa  2001  Burglary - Property    3. Burglary   \n",
       "11                    Gujarat  2001  Burglary - Property    3. Burglary   \n",
       "12                    Haryana  2001  Burglary - Property    3. Burglary   \n",
       "13           Himachal Pradesh  2001  Burglary - Property    3. Burglary   \n",
       "14            Jammu & Kashmir  2001  Burglary - Property    3. Burglary   \n",
       "15                  Jharkhand  2001  Burglary - Property    3. Burglary   \n",
       "16                  Karnataka  2001  Burglary - Property    3. Burglary   \n",
       "17                     Kerala  2001  Burglary - Property    3. Burglary   \n",
       "18                Lakshadweep  2001  Burglary - Property    3. Burglary   \n",
       "19             Madhya Pradesh  2001  Burglary - Property    3. Burglary   \n",
       "\n",
       "    Cases_Property_Recovered  Cases_Property_Stolen  \\\n",
       "0                         27                     64   \n",
       "1                       3321                   7134   \n",
       "2                         66                    248   \n",
       "3                        539                   2423   \n",
       "4                        367                   3231   \n",
       "5                        119                    364   \n",
       "6                       1169                   4144   \n",
       "7                         10                     34   \n",
       "8                          7                     43   \n",
       "9                        642                   3029   \n",
       "10                        65                    347   \n",
       "11                      1124                   4928   \n",
       "12                      1257                   3098   \n",
       "13                        93                    812   \n",
       "14                       161                   1345   \n",
       "15                       186                   1150   \n",
       "16                      1768                   6394   \n",
       "17                       815                   4185   \n",
       "18                         0                      1   \n",
       "19                      3526                  13549   \n",
       "\n",
       "    Value_of_Property_Recovered  Value_of_Property_Stolen  \n",
       "0                        755858                   1321961  \n",
       "1                      51483437                 147019348  \n",
       "2                        825115                   4931904  \n",
       "3                       3722850                  21466955  \n",
       "4                       2327135                  17023937  \n",
       "5                       1804823                  10217378  \n",
       "6                       6518261                  30457033  \n",
       "7                        247140                   1333389  \n",
       "8                        479300                   2084845  \n",
       "9                      39632177                 150033824  \n",
       "10                       895875                   9991574  \n",
       "11                     20821285                 141650158  \n",
       "12                     27369980                  64576543  \n",
       "13                      2936881                  17092490  \n",
       "14                      2905184                  27222163  \n",
       "15                       757019                   9552273  \n",
       "16                     42221208                 139393376  \n",
       "17                     21414046                 131614945  \n",
       "18                            0                     12000  \n",
       "19                     31332930                 118549565  "
      ]
     },
     "execution_count": 50,
     "metadata": {},
     "output_type": "execute_result"
    }
   ],
   "source": [
    "data"
   ]
  },
  {
   "cell_type": "markdown",
   "id": "0842b4a3",
   "metadata": {},
   "source": [
    "### what all areas we have here in the data"
   ]
  },
  {
   "cell_type": "code",
   "execution_count": 51,
   "id": "9d70b3e7",
   "metadata": {},
   "outputs": [
    {
     "data": {
      "text/plain": [
       "Index(['Area_Name', 'Year', 'Group_Name', 'Sub_Group_Name',\n",
       "       'Cases_Property_Recovered', 'Cases_Property_Stolen',\n",
       "       'Value_of_Property_Recovered', 'Value_of_Property_Stolen'],\n",
       "      dtype='object')"
      ]
     },
     "execution_count": 51,
     "metadata": {},
     "output_type": "execute_result"
    }
   ],
   "source": [
    "data.columns"
   ]
  },
  {
   "cell_type": "code",
   "execution_count": 53,
   "id": "88dc986c",
   "metadata": {},
   "outputs": [
    {
     "data": {
      "text/plain": [
       "array(['Andaman & Nicobar Islands', 'Andhra Pradesh', 'Arunachal Pradesh',\n",
       "       'Assam', 'Bihar', 'Chandigarh', 'Chhattisgarh',\n",
       "       'Dadra & Nagar Haveli', 'Daman & Diu', 'Delhi', 'Goa', 'Gujarat',\n",
       "       'Haryana', 'Himachal Pradesh', 'Jammu & Kashmir', 'Jharkhand',\n",
       "       'Karnataka', 'Kerala', 'Lakshadweep', 'Madhya Pradesh'],\n",
       "      dtype=object)"
      ]
     },
     "execution_count": 53,
     "metadata": {},
     "output_type": "execute_result"
    }
   ],
   "source": [
    "data['Area_Name'].values"
   ]
  },
  {
   "cell_type": "markdown",
   "id": "391e4458",
   "metadata": {},
   "source": [
    "### how many propoerties were recovered in the year 2001?"
   ]
  },
  {
   "cell_type": "code",
   "execution_count": 54,
   "id": "b4c2c5ca",
   "metadata": {},
   "outputs": [
    {
     "data": {
      "text/plain": [
       "15262"
      ]
     },
     "execution_count": 54,
     "metadata": {},
     "output_type": "execute_result"
    }
   ],
   "source": [
    "data['Cases_Property_Recovered'].sum()"
   ]
  },
  {
   "cell_type": "markdown",
   "id": "9a8f816c",
   "metadata": {},
   "source": [
    "### what amount of properties were recovered in the year 2001?"
   ]
  },
  {
   "cell_type": "code",
   "execution_count": 55,
   "id": "63dbb375",
   "metadata": {},
   "outputs": [
    {
     "data": {
      "text/plain": [
       "258450504"
      ]
     },
     "execution_count": 55,
     "metadata": {},
     "output_type": "execute_result"
    }
   ],
   "source": [
    "data['Value_of_Property_Recovered'].sum()"
   ]
  },
  {
   "cell_type": "markdown",
   "id": "dd313590",
   "metadata": {},
   "source": [
    "### which state got most property stolen in the year 2001?"
   ]
  },
  {
   "cell_type": "code",
   "execution_count": 56,
   "id": "240428da",
   "metadata": {},
   "outputs": [
    {
     "data": {
      "text/plain": [
       "13549"
      ]
     },
     "execution_count": 56,
     "metadata": {},
     "output_type": "execute_result"
    }
   ],
   "source": [
    "data['Cases_Property_Stolen'].max()"
   ]
  },
  {
   "cell_type": "code",
   "execution_count": 57,
   "id": "8e1d56d4",
   "metadata": {},
   "outputs": [
    {
     "data": {
      "text/plain": [
       "19"
      ]
     },
     "execution_count": 57,
     "metadata": {},
     "output_type": "execute_result"
    }
   ],
   "source": [
    "data['Cases_Property_Stolen'].idxmax()"
   ]
  },
  {
   "cell_type": "code",
   "execution_count": 63,
   "id": "a1e3559f",
   "metadata": {},
   "outputs": [
    {
     "data": {
      "text/html": [
       "<div>\n",
       "<style scoped>\n",
       "    .dataframe tbody tr th:only-of-type {\n",
       "        vertical-align: middle;\n",
       "    }\n",
       "\n",
       "    .dataframe tbody tr th {\n",
       "        vertical-align: top;\n",
       "    }\n",
       "\n",
       "    .dataframe thead th {\n",
       "        text-align: right;\n",
       "    }\n",
       "</style>\n",
       "<table border=\"1\" class=\"dataframe\">\n",
       "  <thead>\n",
       "    <tr style=\"text-align: right;\">\n",
       "      <th></th>\n",
       "      <th>Area_Name</th>\n",
       "      <th>Year</th>\n",
       "      <th>Group_Name</th>\n",
       "      <th>Sub_Group_Name</th>\n",
       "      <th>Cases_Property_Recovered</th>\n",
       "      <th>Cases_Property_Stolen</th>\n",
       "      <th>Value_of_Property_Recovered</th>\n",
       "      <th>Value_of_Property_Stolen</th>\n",
       "    </tr>\n",
       "  </thead>\n",
       "  <tbody>\n",
       "    <tr>\n",
       "      <th>19</th>\n",
       "      <td>Madhya Pradesh</td>\n",
       "      <td>2001</td>\n",
       "      <td>Burglary - Property</td>\n",
       "      <td>3. Burglary</td>\n",
       "      <td>3526</td>\n",
       "      <td>13549</td>\n",
       "      <td>31332930</td>\n",
       "      <td>118549565</td>\n",
       "    </tr>\n",
       "  </tbody>\n",
       "</table>\n",
       "</div>"
      ],
      "text/plain": [
       "         Area_Name  Year           Group_Name Sub_Group_Name  \\\n",
       "19  Madhya Pradesh  2001  Burglary - Property    3. Burglary   \n",
       "\n",
       "    Cases_Property_Recovered  Cases_Property_Stolen  \\\n",
       "19                      3526                  13549   \n",
       "\n",
       "    Value_of_Property_Recovered  Value_of_Property_Stolen  \n",
       "19                     31332930                 118549565  "
      ]
     },
     "execution_count": 63,
     "metadata": {},
     "output_type": "execute_result"
    }
   ],
   "source": [
    "data.iloc[[19]]"
   ]
  },
  {
   "cell_type": "code",
   "execution_count": null,
   "id": "9fd04cc9",
   "metadata": {},
   "outputs": [],
   "source": [
    "df['Value_']"
   ]
  }
 ],
 "metadata": {
  "kernelspec": {
   "display_name": "Python 3",
   "language": "python",
   "name": "python3"
  },
  "language_info": {
   "codemirror_mode": {
    "name": "ipython",
    "version": 3
   },
   "file_extension": ".py",
   "mimetype": "text/x-python",
   "name": "python",
   "nbconvert_exporter": "python",
   "pygments_lexer": "ipython3",
   "version": "3.8.8"
  }
 },
 "nbformat": 4,
 "nbformat_minor": 5
}
