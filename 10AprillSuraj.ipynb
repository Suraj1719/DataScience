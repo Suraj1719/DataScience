{
 "cells": [
  {
   "cell_type": "code",
   "execution_count": 2,
   "id": "ea847e5d",
   "metadata": {},
   "outputs": [],
   "source": [
    "import numpy as np"
   ]
  },
  {
   "cell_type": "code",
   "execution_count": 3,
   "id": "0e19d995",
   "metadata": {},
   "outputs": [],
   "source": [
    "import sympy as sp"
   ]
  },
  {
   "cell_type": "code",
   "execution_count": 4,
   "id": "65a1a241",
   "metadata": {},
   "outputs": [
    {
     "data": {
      "text/plain": [
       "6"
      ]
     },
     "execution_count": 4,
     "metadata": {},
     "output_type": "execute_result"
    }
   ],
   "source": [
    "a=3\n",
    "b=2\n",
    "a*b"
   ]
  },
  {
   "cell_type": "code",
   "execution_count": 5,
   "id": "bbe72ee9",
   "metadata": {},
   "outputs": [
    {
     "data": {
      "text/plain": [
       "5"
      ]
     },
     "execution_count": 5,
     "metadata": {},
     "output_type": "execute_result"
    }
   ],
   "source": [
    "np.add(a,b)"
   ]
  },
  {
   "cell_type": "code",
   "execution_count": 7,
   "id": "c3743c64",
   "metadata": {},
   "outputs": [],
   "source": [
    "import pandas as pd"
   ]
  },
  {
   "cell_type": "code",
   "execution_count": 8,
   "id": "49821274",
   "metadata": {},
   "outputs": [
    {
     "data": {
      "text/html": [
       "<div>\n",
       "<style scoped>\n",
       "    .dataframe tbody tr th:only-of-type {\n",
       "        vertical-align: middle;\n",
       "    }\n",
       "\n",
       "    .dataframe tbody tr th {\n",
       "        vertical-align: top;\n",
       "    }\n",
       "\n",
       "    .dataframe thead th {\n",
       "        text-align: right;\n",
       "    }\n",
       "</style>\n",
       "<table border=\"1\" class=\"dataframe\">\n",
       "  <thead>\n",
       "    <tr style=\"text-align: right;\">\n",
       "      <th></th>\n",
       "      <th>marks</th>\n",
       "    </tr>\n",
       "  </thead>\n",
       "  <tbody>\n",
       "    <tr>\n",
       "      <th>0</th>\n",
       "      <td>67</td>\n",
       "    </tr>\n",
       "    <tr>\n",
       "      <th>1</th>\n",
       "      <td>546</td>\n",
       "    </tr>\n",
       "    <tr>\n",
       "      <th>2</th>\n",
       "      <td>3637</td>\n",
       "    </tr>\n",
       "    <tr>\n",
       "      <th>3</th>\n",
       "      <td>253536</td>\n",
       "    </tr>\n",
       "  </tbody>\n",
       "</table>\n",
       "</div>"
      ],
      "text/plain": [
       "    marks\n",
       "0      67\n",
       "1     546\n",
       "2    3637\n",
       "3  253536"
      ]
     },
     "execution_count": 8,
     "metadata": {},
     "output_type": "execute_result"
    }
   ],
   "source": [
    "marks=[67,546,3637,253536]\n",
    "df=pd.DataFrame({\"marks\":marks})\n",
    "df"
   ]
  },
  {
   "cell_type": "code",
   "execution_count": 9,
   "id": "e553d71c",
   "metadata": {},
   "outputs": [
    {
     "data": {
      "text/html": [
       "<div>\n",
       "<style scoped>\n",
       "    .dataframe tbody tr th:only-of-type {\n",
       "        vertical-align: middle;\n",
       "    }\n",
       "\n",
       "    .dataframe tbody tr th {\n",
       "        vertical-align: top;\n",
       "    }\n",
       "\n",
       "    .dataframe thead th {\n",
       "        text-align: right;\n",
       "    }\n",
       "</style>\n",
       "<table border=\"1\" class=\"dataframe\">\n",
       "  <thead>\n",
       "    <tr style=\"text-align: right;\">\n",
       "      <th></th>\n",
       "      <th>Name</th>\n",
       "    </tr>\n",
       "  </thead>\n",
       "  <tbody>\n",
       "    <tr>\n",
       "      <th>0</th>\n",
       "      <td>Bikash</td>\n",
       "    </tr>\n",
       "    <tr>\n",
       "      <th>1</th>\n",
       "      <td>Suarj</td>\n",
       "    </tr>\n",
       "    <tr>\n",
       "      <th>2</th>\n",
       "      <td>Zeeshan</td>\n",
       "    </tr>\n",
       "    <tr>\n",
       "      <th>3</th>\n",
       "      <td>Rishabh</td>\n",
       "    </tr>\n",
       "    <tr>\n",
       "      <th>4</th>\n",
       "      <td>Satyarth</td>\n",
       "    </tr>\n",
       "  </tbody>\n",
       "</table>\n",
       "</div>"
      ],
      "text/plain": [
       "       Name\n",
       "0    Bikash\n",
       "1     Suarj\n",
       "2   Zeeshan\n",
       "3   Rishabh\n",
       "4  Satyarth"
      ]
     },
     "execution_count": 9,
     "metadata": {},
     "output_type": "execute_result"
    }
   ],
   "source": [
    "name=[\"Bikash\",\"Suarj\",\"Zeeshan\",\"Rishabh\",\"Satyarth\"]\n",
    "df2=pd.DataFrame({\"Name\":name})\n",
    "df2"
   ]
  },
  {
   "cell_type": "code",
   "execution_count": 11,
   "id": "7c6b2618",
   "metadata": {},
   "outputs": [
    {
     "data": {
      "text/plain": [
       "marks    [67, 546, 3637, 253536]\n",
       "dtype: object"
      ]
     },
     "execution_count": 11,
     "metadata": {},
     "output_type": "execute_result"
    }
   ],
   "source": [
    "marks=[67,546,3637,253536]\n",
    "df3=pd.Series({\"marks\":marks})\n",
    "df3"
   ]
  },
  {
   "cell_type": "code",
   "execution_count": 30,
   "id": "4cf02197",
   "metadata": {},
   "outputs": [
    {
     "data": {
      "text/html": [
       "<div>\n",
       "<style scoped>\n",
       "    .dataframe tbody tr th:only-of-type {\n",
       "        vertical-align: middle;\n",
       "    }\n",
       "\n",
       "    .dataframe tbody tr th {\n",
       "        vertical-align: top;\n",
       "    }\n",
       "\n",
       "    .dataframe thead th {\n",
       "        text-align: right;\n",
       "    }\n",
       "</style>\n",
       "<table border=\"1\" class=\"dataframe\">\n",
       "  <thead>\n",
       "    <tr style=\"text-align: right;\">\n",
       "      <th></th>\n",
       "      <th>LOVE</th>\n",
       "    </tr>\n",
       "  </thead>\n",
       "  <tbody>\n",
       "    <tr>\n",
       "      <th>0</th>\n",
       "      <td>B</td>\n",
       "    </tr>\n",
       "    <tr>\n",
       "      <th>1</th>\n",
       "      <td>N</td>\n",
       "    </tr>\n",
       "    <tr>\n",
       "      <th>2</th>\n",
       "      <td>C</td>\n",
       "    </tr>\n",
       "    <tr>\n",
       "      <th>3</th>\n",
       "      <td>R</td>\n",
       "    </tr>\n",
       "    <tr>\n",
       "      <th>4</th>\n",
       "      <td>R</td>\n",
       "    </tr>\n",
       "  </tbody>\n",
       "</table>\n",
       "</div>"
      ],
      "text/plain": [
       "  LOVE\n",
       "0    B\n",
       "1    N\n",
       "2    C\n",
       "3    R\n",
       "4    R"
      ]
     },
     "execution_count": 30,
     "metadata": {},
     "output_type": "execute_result"
    }
   ],
   "source": [
    "love=[\"B\",\"N\",\"C\",\"R\",\"R\"]\n",
    "df4=pd.DataFrame({\"LOVE\":love})\n",
    "df4"
   ]
  },
  {
   "cell_type": "code",
   "execution_count": 31,
   "id": "30475c14",
   "metadata": {},
   "outputs": [
    {
     "data": {
      "text/html": [
       "<div>\n",
       "<style scoped>\n",
       "    .dataframe tbody tr th:only-of-type {\n",
       "        vertical-align: middle;\n",
       "    }\n",
       "\n",
       "    .dataframe tbody tr th {\n",
       "        vertical-align: top;\n",
       "    }\n",
       "\n",
       "    .dataframe thead th {\n",
       "        text-align: right;\n",
       "    }\n",
       "</style>\n",
       "<table border=\"1\" class=\"dataframe\">\n",
       "  <thead>\n",
       "    <tr style=\"text-align: right;\">\n",
       "      <th></th>\n",
       "      <th>Name</th>\n",
       "      <th>LOVE</th>\n",
       "    </tr>\n",
       "  </thead>\n",
       "  <tbody>\n",
       "    <tr>\n",
       "      <th>0</th>\n",
       "      <td>Bikash</td>\n",
       "      <td>B</td>\n",
       "    </tr>\n",
       "    <tr>\n",
       "      <th>1</th>\n",
       "      <td>Suarj</td>\n",
       "      <td>N</td>\n",
       "    </tr>\n",
       "    <tr>\n",
       "      <th>2</th>\n",
       "      <td>Zeeshan</td>\n",
       "      <td>C</td>\n",
       "    </tr>\n",
       "    <tr>\n",
       "      <th>3</th>\n",
       "      <td>Rishabh</td>\n",
       "      <td>R</td>\n",
       "    </tr>\n",
       "    <tr>\n",
       "      <th>4</th>\n",
       "      <td>Satyarth</td>\n",
       "      <td>R</td>\n",
       "    </tr>\n",
       "  </tbody>\n",
       "</table>\n",
       "</div>"
      ],
      "text/plain": [
       "       Name LOVE\n",
       "0    Bikash    B\n",
       "1     Suarj    N\n",
       "2   Zeeshan    C\n",
       "3   Rishabh    R\n",
       "4  Satyarth    R"
      ]
     },
     "execution_count": 31,
     "metadata": {},
     "output_type": "execute_result"
    }
   ],
   "source": [
    "res=pd.concat([df2,df4],axis=1)\n",
    "res\n"
   ]
  },
  {
   "cell_type": "code",
   "execution_count": 51,
   "id": "578e0753",
   "metadata": {},
   "outputs": [
    {
     "name": "stdout",
     "output_type": "stream",
     "text": [
      "1.6000000000000014\n",
      "-0.3999999999999986\n",
      "-3.3999999999999986\n",
      "-4.399999999999999\n",
      "6.600000000000001\n",
      "14.799999999999997\n",
      "2.799999999999997\n",
      "-15.200000000000003\n",
      "-20.200000000000003\n",
      "17.799999999999997\n",
      "Coverience is : 70.15\n"
     ]
    }
   ],
   "source": [
    "#find coverience\n",
    "ls_x=[20,18,15,14,25]\n",
    "ls_y=[75,63,45,40,78]\n",
    "mean_x = sum(ls_x)/float(len(ls_x))\n",
    "mean_y = sum(ls_y)/float(len(ls_y))\n",
    "def co_verience(lst1,lst2,mean_x,mean_y):\n",
    "    sub_x = [i - mean_x for i in lst1]\n",
    "    sub_y = [i - mean_y for i in lst2]\n",
    "    for x in sub_x:\n",
    "        print(x)\n",
    "    for y in sub_y:\n",
    "        print(y)\n",
    "    ans = sum([sub_x[i]*sub_y[i] for i in range(len(lst1))])\n",
    "    return ans/(len(lst1)-1)\n",
    "\n",
    "print(\"Coverience is :\",co_verience(ls_x,ls_y,mean_x,mean_y))"
   ]
  },
  {
   "cell_type": "code",
   "execution_count": 52,
   "id": "a96ec685",
   "metadata": {},
   "outputs": [
    {
     "name": "stdout",
     "output_type": "stream",
     "text": [
      "Mean is : 18.4\n"
     ]
    }
   ],
   "source": [
    "#find mean\n",
    "ls_x=[20,18,15,14,25]\n",
    "def Mean(lst):\n",
    "    mean_x = sum(lst)/float(len(lst))\n",
    "    return mean_x\n",
    "print(\"Mean is :\",Mean(ls_x))"
   ]
  },
  {
   "cell_type": "code",
   "execution_count": 59,
   "id": "08e690e7",
   "metadata": {},
   "outputs": [
    {
     "name": "stdout",
     "output_type": "stream",
     "text": [
      "Median is : 20\n"
     ]
    }
   ],
   "source": [
    "#find median\n",
    "ls_x=[20,18,115,14,25]\n",
    "def Median(lst):\n",
    "    l=len(lst)\n",
    "    lst.sort()\n",
    "    median=0\n",
    "    if l%2==0:\n",
    "        median=lst[l//2]+lst[(l//2)-1]\n",
    "        median=mode/2\n",
    "    else:\n",
    "        median=lst[l//2]\n",
    "    return median\n",
    "print(\"Median is :\",Median(ls_x))"
   ]
  },
  {
   "cell_type": "code",
   "execution_count": 60,
   "id": "b6528b9b",
   "metadata": {},
   "outputs": [
    {
     "name": "stdout",
     "output_type": "stream",
     "text": [
      "4\n",
      "Mode is [5]\n"
     ]
    }
   ],
   "source": [
    "#find mode\n",
    "from collections import Counter\n",
    "ls=[1,2,3,4,5,2,3,4,5,3,4,5,5]\n",
    "def mode(l):\n",
    "    dic=Counter(l)\n",
    "    max_frq=max(b for a,b in dic.items())\n",
    "    print(max_frq)\n",
    "    ans=[a for a,b in dic.items() if b==max_frq]\n",
    "    return ans\n",
    "print(\"Mode is\",mode(ls))"
   ]
  },
  {
   "cell_type": "code",
   "execution_count": 62,
   "id": "9afafe0a",
   "metadata": {},
   "outputs": [
    {
     "name": "stdout",
     "output_type": "stream",
     "text": [
      "0.3989422804014327\n"
     ]
    }
   ],
   "source": [
    "import math\n",
    "sqrt_2_pi=math.sqrt(2*math.pi)\n",
    "\n",
    "def normal_pdf(x:float,mu:float=0,sigma:float=1)->float:\n",
    "    return (math.exp(-(x-mu)** 2 / 2 / sigma**2)/(sqrt_2_pi*sigma))\n",
    "print(normal_pdf(0))"
   ]
  },
  {
   "cell_type": "code",
   "execution_count": 68,
   "id": "f7507aba",
   "metadata": {},
   "outputs": [
    {
     "data": {
      "image/png": "[encoded data removed]",
      "text/plain": [
       "<Figure size 432x288 with 1 Axes>"
      ]
     },
     "metadata": {
      "needs_background": "light"
     },
     "output_type": "display_data"
    }
   ],
   "source": [
    "import matplotlib.pyplot as plt\n",
    "xs=[x/10.0 for x in range(-50,50)]\n",
    "\n",
    "plt.plot(xs,[normal_pdf(x,sigma=1) for x in xs],'-',label='mu=0,sigma=1')\n",
    "plt.plot(xs,[normal_pdf(x,sigma=2) for x in xs],'--',label='mu=0,sigma=2')\n",
    "plt.plot(xs,[normal_pdf(x,sigma=0.5) for x in xs],':',label='mu=0,sigma=0.5')\n",
    "plt.plot(xs,[normal_pdf(x,mu=-1) for x in xs],'-.',label='mu=-1,sigma=1')\n",
    "plt.legend()\n",
    "plt.title(\"Various Normal pdfs\")\n",
    "plt.show()"
   ]
  },
  {
   "cell_type": "code",
   "execution_count": null,
   "id": "2163c2aa",
   "metadata": {},
   "outputs": [],
   "source": []
  }
 ],
 "metadata": {
  "kernelspec": {
   "display_name": "Python 3 (ipykernel)",
   "language": "python",
   "name": "python3"
  },
  "language_info": {
   "codemirror_mode": {
    "name": "ipython",
    "version": 3
   },
   "file_extension": ".py",
   "mimetype": "text/x-python",
   "name": "python",
   "nbconvert_exporter": "python",
   "pygments_lexer": "ipython3",
   "version": "3.9.7"
  }
 },
 "nbformat": 4,
 "nbformat_minor": 5
}
