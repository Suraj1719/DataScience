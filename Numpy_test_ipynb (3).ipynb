{
 "cells": [
  {
   "cell_type": "markdown",
   "metadata": {
    "id": "DrFSjFe9gMOv"
   },
   "source": [
    "__Multiply a 5x3 matrix by a 3x2 matrix (real matrix product)__"
   ]
  },
  {
   "cell_type": "code",
   "execution_count": null,
   "metadata": {
    "id": "gLKb-8ubgMOx"
   },
   "outputs": [],
   "source": [
    ""
   ]
  },
  {
   "cell_type": "markdown",
   "metadata": {
    "id": "TN5-Aiz4gMO5"
   },
   "source": [
    "__Given a 1D array, negate all elements which are between 3 and 8. [Create your own array]"
   ]
  },
  {
   "cell_type": "code",
   "execution_count": null,
   "metadata": {
    "id": "wzmuAdRdgMO6"
   },
   "outputs": [],
   "source": [
    ""
   ]
  },
  {
   "cell_type": "markdown",
   "metadata": {
    "id": "CL35Y8kTgMPC"
   },
   "source": [
    "__What are the result of the following expressions?__"
   ]
  },
  {
   "cell_type": "markdown",
   "metadata": {
    "id": "v0JRt4ANgMPC"
   },
   "source": [
    "#np.array(0) // np.array(0)\n",
    "#np.array(0) // np.array(0.) \n",
    "#np.array(0) / np.array(0) \n",
    "#np.array(0) / np.array(0.)"
   ]
  },
  {
   "cell_type": "code",
   "execution_count": null,
   "metadata": {
    "id": "aQbxUeehgMPD"
   },
   "outputs": [],
   "source": [
    ""
   ]
  },
  {
   "cell_type": "markdown",
   "metadata": {
    "id": "JCR4vXXggMPH"
   },
   "source": [
    "__Create a 2d array with 1 on the border and 0 inside__"
   ]
  },
  {
   "cell_type": "code",
   "execution_count": null,
   "metadata": {
    "id": "cANidYZ4gMPI"
   },
   "outputs": [],
   "source": [
    ""
   ]
  },
  {
   "cell_type": "markdown",
   "metadata": {
    "id": "NBc8HP88gMPM"
   },
   "source": [
    "__Create a random array of size 30 and find the mean value__"
   ]
  },
  {
   "cell_type": "code",
   "execution_count": null,
   "metadata": {
    "id": "wSY8jknJgMPN"
   },
   "outputs": [],
   "source": [
    ""
   ]
  },
  {
   "cell_type": "markdown",
   "metadata": {
    "id": "j4I-6vr8gMPS"
   },
   "source": [
    "__Create a 10x10 array with random values and find the minimum and maximum values__"
   ]
  },
  {
   "cell_type": "code",
   "execution_count": null,
   "metadata": {
    "id": "I1aiF0h_gMPT"
   },
   "outputs": [],
   "source": [
    ""
   ]
  },
  {
   "cell_type": "markdown",
   "metadata": {
    "id": "_yb2jRlEgMPa"
   },
   "source": [
    "__Create a 3x3x3 array with random values__"
   ]
  },
  {
   "cell_type": "code",
   "execution_count": null,
   "metadata": {
    "id": "kIDOE6jYgMPa"
   },
   "outputs": [],
   "source": [
    ""
   ]
  },
  {
   "cell_type": "markdown",
   "metadata": {
    "id": "dDKE596ZgMPe"
   },
   "source": [
    "__Create a 3x3 identity matrix___"
   ]
  },
  {
   "cell_type": "code",
   "execution_count": null,
   "metadata": {
    "id": "qw8u4nulgMPf"
   },
   "outputs": [],
   "source": [
    ""
   ]
  },
  {
   "cell_type": "markdown",
   "metadata": {
    "id": "BvsJLuAdgMPl"
   },
   "source": [
    "__Find indices of non­zero elements from [1,2,0,0,4,0]__"
   ]
  },
  {
   "cell_type": "code",
   "execution_count": null,
   "metadata": {
    "id": "IB5cvz91gMPm"
   },
   "outputs": [],
   "source": [
    ""
   ]
  },
  {
   "cell_type": "markdown",
   "metadata": {
    "id": "R2KsiUhYgMPq"
   },
   "source": [
    "__Reverse a Array__"
   ]
  },
  {
   "cell_type": "code",
   "execution_count": null,
   "metadata": {
    "id": "dDyt7klNgMPq"
   },
   "outputs": [],
   "source": [
    ""
   ]
  },
  {
   "cell_type": "markdown",
   "metadata": {
    "id": "8YX_PeN3gMPu"
   },
   "source": [
    "__Create a null array of size 10 but the fifth value which is 1__"
   ]
  },
  {
   "cell_type": "code",
   "execution_count": null,
   "metadata": {
    "id": "kgdhMZQzgMPv"
   },
   "outputs": [],
   "source": [
    ""
   ]
  },
  {
   "cell_type": "markdown",
   "metadata": {
    "id": "_Uoj0squgMP0"
   },
   "source": [
    "__How to get the documentation of the numpy add function from the command line?__"
   ]
  },
  {
   "cell_type": "code",
   "execution_count": null,
   "metadata": {
    "id": "klL6Rj3ogMP0"
   },
   "outputs": [],
   "source": [
    ""
   ]
  },
  {
   "cell_type": "markdown",
   "metadata": {
    "id": "PETFc7D0gMP4"
   },
   "source": [
    "__Print the numpy version and the configuration__"
   ]
  },
  {
   "cell_type": "code",
   "execution_count": null,
   "metadata": {
    "id": "Zbkht8aAgMP5"
   },
   "outputs": [],
   "source": [
    ""
   ]
  },
  {
   "cell_type": "markdown",
   "metadata": {
    "id": "9Od2vmCsgMP-"
   },
   "source": [
    "__Create a vector of size 10 with values ranging from 0 to 1, both excluded__"
   ]
  },
  {
   "cell_type": "code",
   "execution_count": null,
   "metadata": {
    "id": "V_sFx18MgMP_"
   },
   "outputs": [],
   "source": [
    ""
   ]
  },
  {
   "cell_type": "markdown",
   "metadata": {
    "id": "pgT7hl0SgMQE"
   },
   "source": [
    "__Consider two random array A anb B, check if they are equal__"
   ]
  },
  {
   "cell_type": "code",
   "execution_count": null,
   "metadata": {
    "id": "o97uoFw-gMQF"
   },
   "outputs": [],
   "source": [
    ""
   ]
  },
  {
   "cell_type": "markdown",
   "metadata": {
    "id": "WDkK9OiRCw_Z"
   },
   "source": [
    "**create an nd array of random values and identify the number of same outcomes and their positions in the array**"
   ]
  },
  {
   "cell_type": "code",
   "execution_count": null,
   "metadata": {
    "id": "73xbcH9ZDD95"
   },
   "outputs": [],
   "source": [
    ""
   ]
  }
 ],
 "metadata": {
  "colab": {
   "name": "Numpy_test_ipynb.ipynb",
   "provenance": []
  },
  "kernelspec": {
   "display_name": "Python 3",
   "language": "python",
   "name": "python3"
  },
  "language_info": {
   "codemirror_mode": {
    "name": "ipython",
    "version": 3
   },
   "file_extension": ".py",
   "mimetype": "text/x-python",
   "name": "python",
   "nbconvert_exporter": "python",
   "pygments_lexer": "ipython3",
   "version": "3.7.6"
  }
 },
 "nbformat": 4,
 "nbformat_minor": 0
}
