{
 "cells": [
  {
   "cell_type": "markdown",
   "id": "765dea2d",
   "metadata": {},
   "source": [
    "# keyword\n",
    "keywords are the pre defind words which are present in the programming languages"
   ]
  },
  {
   "cell_type": "code",
   "execution_count": 2,
   "id": "486daa2b",
   "metadata": {},
   "outputs": [
    {
     "name": "stdout",
     "output_type": "stream",
     "text": [
      "\n",
      "Here is a list of the Python keywords.  Enter any keyword to get more help.\n",
      "\n",
      "False               class               from                or\n",
      "None                continue            global              pass\n",
      "True                def                 if                  raise\n",
      "and                 del                 import              return\n",
      "as                  elif                in                  try\n",
      "assert              else                is                  while\n",
      "async               except              lambda              with\n",
      "await               finally             nonlocal            yield\n",
      "break               for                 not                 \n",
      "\n"
     ]
    }
   ],
   "source": [
    "help('keywords')"
   ]
  },
  {
   "cell_type": "code",
   "execution_count": 5,
   "id": "020d2f93",
   "metadata": {},
   "outputs": [
    {
     "name": "stdout",
     "output_type": "stream",
     "text": [
      "35\n"
     ]
    }
   ],
   "source": [
    "import keyword\n",
    "print(len(keyword.kwlist)) #gives the nomber of the keyword"
   ]
  },
  {
   "cell_type": "code",
   "execution_count": 6,
   "id": "df9df33f",
   "metadata": {},
   "outputs": [
    {
     "name": "stdout",
     "output_type": "stream",
     "text": [
      "['False', 'None', 'True', 'and', 'as', 'assert', 'async', 'await', 'break', 'class', 'continue', 'def', 'del', 'elif', 'else', 'except', 'finally', 'for', 'from', 'global', 'if', 'import', 'in', 'is', 'lambda', 'nonlocal', 'not', 'or', 'pass', 'raise', 'return', 'try', 'while', 'with', 'yield']\n"
     ]
    }
   ],
   "source": [
    "import keyword\n",
    "print(keyword.kwlist) #gives the list of keywords"
   ]
  },
  {
   "cell_type": "markdown",
   "id": "709446a4",
   "metadata": {},
   "source": [
    "# Variables(Name convention)\n",
    "It should strat from an underscore,lowercase,uppercase and can contain numbers after starting of the variables"
   ]
  },
  {
   "cell_type": "code",
   "execution_count": 8,
   "id": "c6b01cd8",
   "metadata": {},
   "outputs": [],
   "source": [
    "lowercase=34\n",
    "UPPERCASE=65\n",
    "C_Case=67\n",
    "# these arew some examples"
   ]
  },
  {
   "cell_type": "markdown",
   "id": "2bd3e364",
   "metadata": {},
   "source": [
    "# Numbers in Pythone\n",
    "      1.Integers\n",
    "      2.Float\n",
    "      3.Complex"
   ]
  },
  {
   "cell_type": "code",
   "execution_count": 12,
   "id": "a6913253",
   "metadata": {},
   "outputs": [],
   "source": [
    "#Integers\n",
    "a,b = 4, -5\n",
    "# Float\n",
    "c,d = 1/3 , 0.67\n",
    "# Complex (a+bj),(a+(-b))\n",
    "e , f= 4+3j , -7j"
   ]
  },
  {
   "cell_type": "code",
   "execution_count": 13,
   "id": "536a1caf",
   "metadata": {},
   "outputs": [
    {
     "name": "stdout",
     "output_type": "stream",
     "text": [
      "4 -5\n"
     ]
    }
   ],
   "source": [
    "print(a,b)"
   ]
  },
  {
   "cell_type": "code",
   "execution_count": 14,
   "id": "ec10d63d",
   "metadata": {},
   "outputs": [
    {
     "data": {
      "text/plain": [
       "(4, int)"
      ]
     },
     "execution_count": 14,
     "metadata": {},
     "output_type": "execute_result"
    }
   ],
   "source": [
    "a,type(a)"
   ]
  },
  {
   "cell_type": "code",
   "execution_count": 15,
   "id": "0b81e490",
   "metadata": {},
   "outputs": [
    {
     "data": {
      "text/plain": [
       "(4, -5, 0.3333333333333333, 0.67, (4+3j), (-0-7j))"
      ]
     },
     "execution_count": 15,
     "metadata": {},
     "output_type": "execute_result"
    }
   ],
   "source": [
    "a,b,c,d,e,f"
   ]
  },
  {
   "cell_type": "code",
   "execution_count": 16,
   "id": "9fd36116",
   "metadata": {},
   "outputs": [
    {
     "data": {
      "text/plain": [
       "(int, int)"
      ]
     },
     "execution_count": 16,
     "metadata": {},
     "output_type": "execute_result"
    }
   ],
   "source": [
    "type(a),type(b)"
   ]
  },
  {
   "cell_type": "code",
   "execution_count": 17,
   "id": "d30f4bf4",
   "metadata": {},
   "outputs": [
    {
     "data": {
      "text/plain": [
       "(int, int, float, float, complex, complex)"
      ]
     },
     "execution_count": 17,
     "metadata": {},
     "output_type": "execute_result"
    }
   ],
   "source": [
    "type(a),type(b),type(c),type(d),type(e),type(f)"
   ]
  },
  {
   "cell_type": "code",
   "execution_count": 19,
   "id": "a64010dd",
   "metadata": {},
   "outputs": [
    {
     "data": {
      "text/plain": [
       "(4.0, 3.0, -0.0, -7.0)"
      ]
     },
     "execution_count": 19,
     "metadata": {},
     "output_type": "execute_result"
    }
   ],
   "source": [
    "e.real,e.imag,f.real,f.imag"
   ]
  },
  {
   "cell_type": "markdown",
   "id": "8afc749e",
   "metadata": {},
   "source": [
    "# Type Casting\n",
    "    1. Implicit\n",
    "    2.Explicit"
   ]
  },
  {
   "cell_type": "code",
   "execution_count": 21,
   "id": "be12787a",
   "metadata": {},
   "outputs": [
    {
     "data": {
      "text/plain": [
       "(4.0, (35.7+0j), '3', 12)"
      ]
     },
     "execution_count": 21,
     "metadata": {},
     "output_type": "execute_result"
    }
   ],
   "source": [
    "#Explicit type casting(force to change its type)\n",
    "float(4),complex(35.7),str(3),int(12.9)"
   ]
  },
  {
   "cell_type": "code",
   "execution_count": 22,
   "id": "7c724f66",
   "metadata": {},
   "outputs": [
    {
     "data": {
      "text/plain": [
       "7.9"
      ]
     },
     "execution_count": 22,
     "metadata": {},
     "output_type": "execute_result"
    }
   ],
   "source": [
    "#Implicit type casting (automatically changed due to precedence)\n",
    "3+4.9"
   ]
  },
  {
   "cell_type": "code",
   "execution_count": 23,
   "id": "c67999fa",
   "metadata": {},
   "outputs": [
    {
     "data": {
      "text/plain": [
       "6.0"
      ]
     },
     "execution_count": 23,
     "metadata": {},
     "output_type": "execute_result"
    }
   ],
   "source": [
    "10.0-4"
   ]
  },
  {
   "cell_type": "code",
   "execution_count": 24,
   "id": "ccc2f9b9",
   "metadata": {},
   "outputs": [
    {
     "data": {
      "text/plain": [
       "49j"
      ]
     },
     "execution_count": 24,
     "metadata": {},
     "output_type": "execute_result"
    }
   ],
   "source": [
    "7*7j # int*complex gives complex"
   ]
  },
  {
   "cell_type": "markdown",
   "id": "90ee17c9",
   "metadata": {},
   "source": [
    "# Random number"
   ]
  },
  {
   "cell_type": "code",
   "execution_count": 27,
   "id": "9607b98f",
   "metadata": {},
   "outputs": [],
   "source": [
    "import random"
   ]
  },
  {
   "cell_type": "code",
   "execution_count": 30,
   "id": "89a20ee5",
   "metadata": {},
   "outputs": [
    {
     "data": {
      "text/plain": [
       "0.6754016470645521"
      ]
     },
     "execution_count": 30,
     "metadata": {},
     "output_type": "execute_result"
    }
   ],
   "source": [
    "random.random() #it gives a random value between 0 and 1"
   ]
  },
  {
   "cell_type": "code",
   "execution_count": 31,
   "id": "b8c7c10e",
   "metadata": {},
   "outputs": [
    {
     "data": {
      "text/plain": [
       "1"
      ]
     },
     "execution_count": 31,
     "metadata": {},
     "output_type": "execute_result"
    }
   ],
   "source": [
    "random.randrange(10)# it return a random value between 0 and the given range"
   ]
  },
  {
   "cell_type": "code",
   "execution_count": 39,
   "id": "070a4612",
   "metadata": {},
   "outputs": [
    {
     "data": {
      "text/plain": [
       "5"
      ]
     },
     "execution_count": 39,
     "metadata": {},
     "output_type": "execute_result"
    }
   ],
   "source": [
    "# we can also give a start point and end range point\n",
    "random.randrange(start=2,stop=7,step=1)#it generates 2,3,4,5,6 .It doesnot print 7"
   ]
  },
  {
   "cell_type": "code",
   "execution_count": 44,
   "id": "8c10ae58",
   "metadata": {},
   "outputs": [
    {
     "data": {
      "text/plain": [
       "2"
      ]
     },
     "execution_count": 44,
     "metadata": {},
     "output_type": "execute_result"
    }
   ],
   "source": [
    "random.randrange(start=2,stop=7,step=2)# it only generate 2,4,6"
   ]
  },
  {
   "cell_type": "code",
   "execution_count": 49,
   "id": "6966dc46",
   "metadata": {},
   "outputs": [
    {
     "data": {
      "text/plain": [
       "10"
      ]
     },
     "execution_count": 49,
     "metadata": {},
     "output_type": "execute_result"
    }
   ],
   "source": [
    "random.randint(4,10)# it gives the end point also i.e.10"
   ]
  },
  {
   "cell_type": "code",
   "execution_count": 55,
   "id": "be1a6ccc",
   "metadata": {},
   "outputs": [
    {
     "data": {
      "text/plain": [
       "5272"
      ]
     },
     "execution_count": 55,
     "metadata": {},
     "output_type": "execute_result"
    }
   ],
   "source": [
    "# It is used for generating the OTP in reallife\n",
    "random.randint(1000,9999)# It generate a 4 digit otp"
   ]
  },
  {
   "cell_type": "code",
   "execution_count": 60,
   "id": "5daaf716",
   "metadata": {},
   "outputs": [
    {
     "name": "stdout",
     "output_type": "stream",
     "text": [
      "G-233388is your One Time Google Verification pasword .\n"
     ]
    }
   ],
   "source": [
    "print('G-'+str(random.randint(100000,999999))+'is your One Time Google Verification pasword .')"
   ]
  },
  {
   "cell_type": "code",
   "execution_count": 66,
   "id": "038cf767",
   "metadata": {},
   "outputs": [
    {
     "name": "stdout",
     "output_type": "stream",
     "text": [
      "108483 is your facebook / instagram reset pass code.\n"
     ]
    }
   ],
   "source": [
    "print(random.randint(100000,999999),'is your facebook / instagram reset pass code.')"
   ]
  },
  {
   "cell_type": "code",
   "execution_count": 70,
   "id": "abea9686",
   "metadata": {},
   "outputs": [
    {
     "data": {
      "text/plain": [
       "['4', '1', '3', '9']"
      ]
     },
     "execution_count": 70,
     "metadata": {},
     "output_type": "execute_result"
    }
   ],
   "source": [
    "#Sample function is used for generating a code also. Here we donot have to give any number .It automatically chose numbers from given population\n",
    "Cred_Number='234567891043'\n",
    "random.sample(population=Cred_Number,k=4)"
   ]
  },
  {
   "cell_type": "code",
   "execution_count": 71,
   "id": "1d5f8c26",
   "metadata": {},
   "outputs": [],
   "source": [
    "#In real life how to generatye a meeting link\n",
    "def Google_Meet_link():\n",
    "    import string\n",
    "    prelink='https://meet.google.com/'\n",
    "    fw=''.join(random.sample(population=string.ascii_lowercase,k=3))\n",
    "    sw=''.join(random.sample(population=string.ascii_lowercase,k=3))\n",
    "    tw=''.join(random.sample(population=string.ascii_lowercase,k=3))\n",
    "    code='_'.join((fw,sw,tw))\n",
    "    link=prelink+code\n",
    "    print(code)\n",
    "    print('Meet Link:',link)"
   ]
  },
  {
   "cell_type": "code",
   "execution_count": 74,
   "id": "7f8c369d",
   "metadata": {},
   "outputs": [
    {
     "name": "stdout",
     "output_type": "stream",
     "text": [
      "ioc_vsc_zuf\n",
      "Meet Link: https://meet.google.com/ioc_vsc_zuf\n"
     ]
    }
   ],
   "source": [
    "Google_Meet_link()"
   ]
  },
  {
   "cell_type": "code",
   "execution_count": null,
   "id": "33fc28ec",
   "metadata": {},
   "outputs": [],
   "source": []
  }
 ],
 "metadata": {
  "kernelspec": {
   "display_name": "Python 3",
   "language": "python",
   "name": "python3"
  },
  "language_info": {
   "codemirror_mode": {
    "name": "ipython",
    "version": 3
   },
   "file_extension": ".py",
   "mimetype": "text/x-python",
   "name": "python",
   "nbconvert_exporter": "python",
   "pygments_lexer": "ipython3",
   "version": "3.8.8"
  }
 },
 "nbformat": 4,
 "nbformat_minor": 5
}
